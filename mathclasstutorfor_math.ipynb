{
  "nbformat": 4,
  "nbformat_minor": 0,
  "metadata": {
    "colab": {
      "name": "mathclasstutorfor math.ipynb",
      "provenance": [],
      "authorship_tag": "ABX9TyM2qy2Sh8NQa+TQqPIR6FOS",
      "include_colab_link": true
    },
    "kernelspec": {
      "name": "python3",
      "display_name": "Python 3"
    },
    "language_info": {
      "name": "python"
    }
  },
  "cells": [
    {
      "cell_type": "markdown",
      "metadata": {
        "id": "view-in-github",
        "colab_type": "text"
      },
      "source": [
        "<a href=\"https://colab.research.google.com/github/manikur/R-programming/blob/main/mathclasstutorfor_math.ipynb\" target=\"_parent\"><img src=\"https://colab.research.google.com/assets/colab-badge.svg\" alt=\"Open In Colab\"/></a>"
      ]
    },
    {
      "cell_type": "code",
      "metadata": {
        "id": "rpOdIkI6xsHG"
      },
      "source": [
        "import math"
      ],
      "execution_count": null,
      "outputs": []
    },
    {
      "cell_type": "code",
      "metadata": {
        "colab": {
          "base_uri": "https://localhost:8080/"
        },
        "id": "s_48qjGXx86C",
        "outputId": "6d7e6e4d-e808-4d33-8bc5-18e7f7bf9aae"
      },
      "source": [
        "!pip install vectors"
      ],
      "execution_count": null,
      "outputs": [
        {
          "output_type": "stream",
          "text": [
            "Collecting vectors\n",
            "  Downloading vectors-1.0.0-py2.py3-none-any.whl (5.8 kB)\n",
            "Installing collected packages: vectors\n",
            "Successfully installed vectors-1.0.0\n"
          ],
          "name": "stdout"
        }
      ]
    },
    {
      "cell_type": "code",
      "metadata": {
        "id": "8LSjS8C_yuoI"
      },
      "source": [
        "dino_vectors = [(6,4), (3,1), (1,2), (-1,5), (-2,5), (-3,4), (-4,4),\n",
        " # insert 16 remaining vectors here\n",
        "]"
      ],
      "execution_count": null,
      "outputs": []
    },
    {
      "cell_type": "code",
      "metadata": {
        "id": "gWSsbjKP1tr8"
      },
      "source": [
        "from math import sqrt"
      ],
      "execution_count": null,
      "outputs": []
    },
    {
      "cell_type": "code",
      "metadata": {
        "id": "_YNR7N7R2Cu7"
      },
      "source": [
        "def length(v):\n",
        " return sqrt(v[0]**2 + v[1]**2) \n"
      ],
      "execution_count": null,
      "outputs": []
    },
    {
      "cell_type": "code",
      "metadata": {
        "id": "KiL-ncSU2btj"
      },
      "source": [
        "from math import sin, cos"
      ],
      "execution_count": null,
      "outputs": []
    },
    {
      "cell_type": "code",
      "metadata": {
        "id": "kH5MjIt92_io"
      },
      "source": [
        "def to_cartesian(polar_vector):\n",
        " length, angle = polar_vector[0], polar_vector[1]\n",
        " return (length*cos(angle), length*sin(angle)) "
      ],
      "execution_count": null,
      "outputs": []
    },
    {
      "cell_type": "code",
      "metadata": {
        "id": "Buv4SnAJ3NNZ"
      },
      "source": [
        "from math import pi "
      ],
      "execution_count": null,
      "outputs": []
    },
    {
      "cell_type": "code",
      "metadata": {
        "id": "jUT8tPNQ3PTN"
      },
      "source": [
        "angle = 37*pi/180"
      ],
      "execution_count": null,
      "outputs": []
    },
    {
      "cell_type": "code",
      "metadata": {
        "colab": {
          "base_uri": "https://localhost:8080/"
        },
        "id": "wGqyx3Zj3Z7P",
        "outputId": "d44b89a4-fe82-48b2-ba75-69c19047a05d"
      },
      "source": [
        "to_cartesian((5,angle))"
      ],
      "execution_count": null,
      "outputs": [
        {
          "output_type": "execute_result",
          "data": {
            "text/plain": [
              "(3.993177550236464, 3.0090751157602416)"
            ]
          },
          "metadata": {
            "tags": []
          },
          "execution_count": 21
        }
      ]
    },
    {
      "cell_type": "code",
      "metadata": {
        "id": "cXE9vYb23p64"
      },
      "source": [
        "from math import asin "
      ],
      "execution_count": null,
      "outputs": []
    },
    {
      "cell_type": "code",
      "metadata": {
        "colab": {
          "base_uri": "https://localhost:8080/"
        },
        "id": "MdEDhaH83v2T",
        "outputId": "651e2bea-48b9-4267-bdc6-fef7c34e9f9a"
      },
      "source": [
        " sin(1)"
      ],
      "execution_count": null,
      "outputs": [
        {
          "output_type": "execute_result",
          "data": {
            "text/plain": [
              "0.8414709848078965"
            ]
          },
          "metadata": {
            "tags": []
          },
          "execution_count": 24
        }
      ]
    },
    {
      "cell_type": "code",
      "metadata": {
        "colab": {
          "base_uri": "https://localhost:8080/"
        },
        "id": "pj_8mAix36OU",
        "outputId": "dccbc90a-57fe-432b-c850-3b382be3cd0b"
      },
      "source": [
        "asin(0.8414709848078965)"
      ],
      "execution_count": null,
      "outputs": [
        {
          "output_type": "execute_result",
          "data": {
            "text/plain": [
              "1.0"
            ]
          },
          "metadata": {
            "tags": []
          },
          "execution_count": 25
        }
      ]
    },
    {
      "cell_type": "code",
      "metadata": {
        "id": "oIeMc9Nl4BPG"
      },
      "source": [
        "from math import sqrt"
      ],
      "execution_count": null,
      "outputs": []
    },
    {
      "cell_type": "code",
      "metadata": {
        "colab": {
          "base_uri": "https://localhost:8080/"
        },
        "id": "_NwtTcei4D8P",
        "outputId": "ffbb3746-321e-468d-f5db-9eac450d0de3"
      },
      "source": [
        "asin(3/sqrt(13)) "
      ],
      "execution_count": null,
      "outputs": [
        {
          "output_type": "execute_result",
          "data": {
            "text/plain": [
              "0.9827937232473292"
            ]
          },
          "metadata": {
            "tags": []
          },
          "execution_count": 27
        }
      ]
    },
    {
      "cell_type": "code",
      "metadata": {
        "colab": {
          "base_uri": "https://localhost:8080/"
        },
        "id": "sIK-Chx_4M0t",
        "outputId": "55740027-cbb8-43c8-a8e7-74c8ed556210"
      },
      "source": [
        "math.asin"
      ],
      "execution_count": null,
      "outputs": [
        {
          "output_type": "execute_result",
          "data": {
            "text/plain": [
              "<function math.asin>"
            ]
          },
          "metadata": {
            "tags": []
          },
          "execution_count": 28
        }
      ]
    },
    {
      "cell_type": "code",
      "metadata": {
        "id": "yPQwl_3f4hhd"
      },
      "source": [
        "from math import acos"
      ],
      "execution_count": null,
      "outputs": []
    },
    {
      "cell_type": "code",
      "metadata": {
        "colab": {
          "base_uri": "https://localhost:8080/"
        },
        "id": "IMT5fbI64m9E",
        "outputId": "87d8780e-de75-41b7-ffec-45eb26af2d5b"
      },
      "source": [
        "acos(-2/sqrt(13))"
      ],
      "execution_count": null,
      "outputs": [
        {
          "output_type": "execute_result",
          "data": {
            "text/plain": [
              "2.1587989303424644"
            ]
          },
          "metadata": {
            "tags": []
          },
          "execution_count": 30
        }
      ]
    },
    {
      "cell_type": "code",
      "metadata": {
        "id": "P9ihIRnN5HIq"
      },
      "source": [
        "import matplotlib\n",
        "import numpy as np\n",
        "from matplotlib.patches import Polygon\n",
        "from matplotlib.collections import PatchCollection"
      ],
      "execution_count": 4,
      "outputs": []
    },
    {
      "cell_type": "code",
      "metadata": {
        "id": "a5G5ADaz5pll"
      },
      "source": [
        "from vectors import *  "
      ],
      "execution_count": null,
      "outputs": []
    },
    {
      "cell_type": "code",
      "metadata": {
        "id": "N70V0aev-YzY"
      },
      "source": [
        "def plane_equation(p1,p2,p3):\n",
        " parallel1 = subtract(p2,p1)\n",
        " parallel2 = subtract(p3,p1)\n",
        " a,b,c = cross(parallel1, parallel2)\n",
        " d = dot((a,b,c), p1)\n",
        " return a,b,c,d"
      ],
      "execution_count": null,
      "outputs": []
    },
    {
      "cell_type": "code",
      "metadata": {
        "id": "lAfR2I4WMMTp"
      },
      "source": [
        " data = np.arange(9).reshape(3, 3)"
      ],
      "execution_count": 5,
      "outputs": []
    },
    {
      "cell_type": "code",
      "metadata": {
        "colab": {
          "base_uri": "https://localhost:8080/"
        },
        "id": "gX0UUzKJ1cd_",
        "outputId": "6d361e4c-a9f1-47d7-fb27-f4885736e819"
      },
      "source": [
        " data"
      ],
      "execution_count": 6,
      "outputs": [
        {
          "output_type": "execute_result",
          "data": {
            "text/plain": [
              "array([[0, 1, 2],\n",
              "       [3, 4, 5],\n",
              "       [6, 7, 8]])"
            ]
          },
          "metadata": {},
          "execution_count": 6
        }
      ]
    },
    {
      "cell_type": "code",
      "metadata": {
        "colab": {
          "base_uri": "https://localhost:8080/"
        },
        "id": "uicrngl31mVL",
        "outputId": "557eb1cd-290c-4abf-9144-5d7746863d1b"
      },
      "source": [
        "np.transpose(data)"
      ],
      "execution_count": 7,
      "outputs": [
        {
          "output_type": "execute_result",
          "data": {
            "text/plain": [
              "array([[0, 3, 6],\n",
              "       [1, 4, 7],\n",
              "       [2, 5, 8]])"
            ]
          },
          "metadata": {},
          "execution_count": 7
        }
      ]
    },
    {
      "cell_type": "code",
      "metadata": {
        "colab": {
          "base_uri": "https://localhost:8080/"
        },
        "id": "ZAfRSB7VflAJ",
        "outputId": "3a3493a4-de8a-45a5-f66f-4dcb2636c658"
      },
      "source": [
        "A = np.arange(1, 7).reshape(2, 3)\n",
        "A"
      ],
      "execution_count": 8,
      "outputs": [
        {
          "output_type": "execute_result",
          "data": {
            "text/plain": [
              "array([[1, 2, 3],\n",
              "       [4, 5, 6]])"
            ]
          },
          "metadata": {},
          "execution_count": 8
        }
      ]
    },
    {
      "cell_type": "code",
      "metadata": {
        "colab": {
          "base_uri": "https://localhost:8080/"
        },
        "id": "QX3X0rllogag",
        "outputId": "8120c1c1-35e2-4c94-a67c-27b9025221b3"
      },
      "source": [
        " B = np.arange(1, 7).reshape(3, 2)\n",
        "B"
      ],
      "execution_count": 9,
      "outputs": [
        {
          "output_type": "execute_result",
          "data": {
            "text/plain": [
              "array([[1, 2],\n",
              "       [3, 4],\n",
              "       [5, 6]])"
            ]
          },
          "metadata": {},
          "execution_count": 9
        }
      ]
    },
    {
      "cell_type": "code",
      "metadata": {
        "colab": {
          "base_uri": "https://localhost:8080/"
        },
        "id": "-mFaKHqYov4B",
        "outputId": "a805ee5b-0d34-4fa4-8f22-07f40920db5b"
      },
      "source": [
        "np.dot(A, B)"
      ],
      "execution_count": 10,
      "outputs": [
        {
          "output_type": "execute_result",
          "data": {
            "text/plain": [
              "array([[22, 28],\n",
              "       [49, 64]])"
            ]
          },
          "metadata": {},
          "execution_count": 10
        }
      ]
    },
    {
      "cell_type": "code",
      "metadata": {
        "colab": {
          "base_uri": "https://localhost:8080/"
        },
        "id": "2P2Qp_sNozy_",
        "outputId": "7c27eade-8e43-4f7f-ca6e-60927039d67d"
      },
      "source": [
        "np.dot(B, A)"
      ],
      "execution_count": 11,
      "outputs": [
        {
          "output_type": "execute_result",
          "data": {
            "text/plain": [
              "array([[ 9, 12, 15],\n",
              "       [19, 26, 33],\n",
              "       [29, 40, 51]])"
            ]
          },
          "metadata": {},
          "execution_count": 11
        }
      ]
    },
    {
      "cell_type": "code",
      "metadata": {
        "id": "HGATUnYps0RH"
      },
      "source": [
        "# SYMPY"
      ],
      "execution_count": null,
      "outputs": []
    },
    {
      "cell_type": "code",
      "metadata": {
        "id": "RoSNWfz4wgdM"
      },
      "source": [
        "import sympy"
      ],
      "execution_count": 14,
      "outputs": []
    },
    {
      "cell_type": "code",
      "metadata": {
        "id": "XpHWvDA4wjf9"
      },
      "source": [
        "sympy.init_printing()\n",
        "from sympy import I, pi, oo"
      ],
      "execution_count": 16,
      "outputs": []
    },
    {
      "cell_type": "code",
      "metadata": {
        "colab": {
          "base_uri": "https://localhost:8080/"
        },
        "id": "TrnXUH18wyDS",
        "outputId": "caaea87e-b4c8-43c9-8765-513fc0dd8b4a"
      },
      "source": [
        "x = sympy.Symbol(\"x\")\n",
        "y = sympy.Symbol(\"y\", real=True)\n",
        "y.is_real"
      ],
      "execution_count": 19,
      "outputs": [
        {
          "output_type": "execute_result",
          "data": {
            "text/plain": [
              "True"
            ]
          },
          "metadata": {},
          "execution_count": 19
        }
      ]
    },
    {
      "cell_type": "code",
      "metadata": {
        "colab": {
          "base_uri": "https://localhost:8080/"
        },
        "id": "X1uPac8ZxOcF",
        "outputId": "1a763d5e-be42-4926-d637-db2fe38b29bb"
      },
      "source": [
        "x.is_real is None"
      ],
      "execution_count": 20,
      "outputs": [
        {
          "output_type": "execute_result",
          "data": {
            "text/plain": [
              "True"
            ]
          },
          "metadata": {},
          "execution_count": 20
        }
      ]
    },
    {
      "cell_type": "code",
      "metadata": {
        "colab": {
          "base_uri": "https://localhost:8080/"
        },
        "id": "ez1EEHOMxVWB",
        "outputId": "3b89712a-efd2-4217-9e01-6455bb01aa29"
      },
      "source": [
        " sympy.Symbol(\"z\", imaginary=True).is_real"
      ],
      "execution_count": 21,
      "outputs": [
        {
          "output_type": "execute_result",
          "data": {
            "text/plain": [
              "False"
            ]
          },
          "metadata": {},
          "execution_count": 21
        }
      ]
    },
    {
      "cell_type": "code",
      "metadata": {
        "colab": {
          "base_uri": "https://localhost:8080/",
          "height": 39
        },
        "id": "v0Fi8dBVxXab",
        "outputId": "15ed7d0e-b458-48e9-db84-533d839158ed"
      },
      "source": [
        "sympy.sqrt(x ** 2)"
      ],
      "execution_count": 22,
      "outputs": [
        {
          "output_type": "execute_result",
          "data": {
            "image/png": "[encoded data removed]",
            "text/latex": "$\\displaystyle \\sqrt{x^{2}}$",
            "text/plain": [
              "   ____\n",
              "  ╱  2 \n",
              "╲╱  x  "
            ]
          },
          "metadata": {},
          "execution_count": 22
        }
      ]
    },
    {
      "cell_type": "markdown",
      "metadata": {
        "id": "4kVIgyfhx8hK"
      },
      "source": [
        "#Here we have created two symbols, x and y, and computed the square root of the\n",
        "square of that symbol using the SymPy function sympy.sqrt. If nothing is known about\n",
        "the symbol in the computation, then no simplification can be done. If, on the other hand,\n",
        "the symbol is known to be representing a positive number, then obviously y y 2 = , and\n",
        "SymPy correctly recognizes this in the latter example."
      ]
    },
    {
      "cell_type": "code",
      "metadata": {
        "colab": {
          "base_uri": "https://localhost:8080/",
          "height": 38
        },
        "id": "l9ErkprBxnZJ",
        "outputId": "d6b4f579-0fb9-453f-c3cb-cea897527d68"
      },
      "source": [
        " sympy.sqrt(y ** 2)"
      ],
      "execution_count": 23,
      "outputs": [
        {
          "output_type": "execute_result",
          "data": {
            "image/png": "[encoded data removed]",
            "text/latex": "$\\displaystyle \\left|{y}\\right|$",
            "text/plain": [
              "│y│"
            ]
          },
          "metadata": {},
          "execution_count": 23
        }
      ]
    },
    {
      "cell_type": "code",
      "metadata": {
        "id": "k6O8DlKWx7LQ"
      },
      "source": [
        "n1 = sympy.Symbol(\"n\")\n",
        "n2 = sympy.Symbol(\"n\", integer=True)\n",
        "n3 = sympy.Symbol(\"n\", odd=True)"
      ],
      "execution_count": 24,
      "outputs": []
    },
    {
      "cell_type": "code",
      "metadata": {
        "colab": {
          "base_uri": "https://localhost:8080/",
          "height": 38
        },
        "id": "d0LLaX-2ybbO",
        "outputId": "c2d7ecb6-4136-4dc7-d193-4f0e5b02a483"
      },
      "source": [
        "sympy.cos(n1 * pi)"
      ],
      "execution_count": 25,
      "outputs": [
        {
          "output_type": "execute_result",
          "data": {
            "image/png": "[encoded data removed]",
            "text/latex": "$\\displaystyle \\cos{\\left(\\pi n \\right)}$",
            "text/plain": [
              "cos(π⋅n)"
            ]
          },
          "metadata": {},
          "execution_count": 25
        }
      ]
    },
    {
      "cell_type": "code",
      "metadata": {
        "colab": {
          "base_uri": "https://localhost:8080/",
          "height": 37
        },
        "id": "ehoJKSOIyjl7",
        "outputId": "a5c7650d-7a89-40e5-f1c6-61497856eea5"
      },
      "source": [
        "sympy.cos(n2 * pi)"
      ],
      "execution_count": 26,
      "outputs": [
        {
          "output_type": "execute_result",
          "data": {
            "image/png": "[encoded data removed]",
            "text/latex": "$\\displaystyle \\left(-1\\right)^{n}$",
            "text/plain": [
              "    n\n",
              "(-1) "
            ]
          },
          "metadata": {},
          "execution_count": 26
        }
      ]
    },
    {
      "cell_type": "code",
      "metadata": {
        "colab": {
          "base_uri": "https://localhost:8080/",
          "height": 37
        },
        "id": "U01jXgoTypLP",
        "outputId": "c4a4a3f9-07b0-425f-824f-2217035d610a"
      },
      "source": [
        "sympy.cos(n3 * pi)"
      ],
      "execution_count": 27,
      "outputs": [
        {
          "output_type": "execute_result",
          "data": {
            "image/png": "[encoded data removed]",
            "text/latex": "$\\displaystyle -1$",
            "text/plain": [
              "-1"
            ]
          },
          "metadata": {},
          "execution_count": 27
        }
      ]
    },
    {
      "cell_type": "code",
      "metadata": {
        "id": "YVEsL7LHy3uE"
      },
      "source": [
        "a, b, c = sympy.symbols(\"a, b, c\", negative=True)\n",
        "d, e, f = sympy.symbols(\"d, e, f\", positive=True)"
      ],
      "execution_count": 29,
      "outputs": []
    },
    {
      "cell_type": "code",
      "metadata": {
        "colab": {
          "base_uri": "https://localhost:8080/",
          "height": 37
        },
        "id": "2H1L_MuNzNy4",
        "outputId": "cca7421f-40c1-45b7-bace-68e2088928e9"
      },
      "source": [
        "i = sympy.Integer(19)\n",
        "i"
      ],
      "execution_count": 31,
      "outputs": [
        {
          "output_type": "execute_result",
          "data": {
            "image/png": "[encoded data removed]",
            "text/latex": "$\\displaystyle 19$",
            "text/plain": [
              "19"
            ]
          },
          "metadata": {},
          "execution_count": 31
        }
      ]
    },
    {
      "cell_type": "code",
      "metadata": {
        "colab": {
          "base_uri": "https://localhost:8080/"
        },
        "id": "ExG8QCh_zUSq",
        "outputId": "cca6f481-939e-4713-fa43-a4e0f7662d06"
      },
      "source": [
        " type(i)"
      ],
      "execution_count": 32,
      "outputs": [
        {
          "output_type": "execute_result",
          "data": {
            "text/plain": [
              "sympy.core.numbers.Integer"
            ]
          },
          "metadata": {},
          "execution_count": 32
        }
      ]
    },
    {
      "cell_type": "code",
      "metadata": {
        "colab": {
          "base_uri": "https://localhost:8080/"
        },
        "id": "o6H2Aew-zZ4e",
        "outputId": "2a755fe6-bbfb-46b2-d184-f887e26d3b57"
      },
      "source": [
        "sympy.core.numbers.Integer"
      ],
      "execution_count": 33,
      "outputs": [
        {
          "output_type": "execute_result",
          "data": {
            "text/plain": [
              "sympy.core.numbers.Integer"
            ]
          },
          "metadata": {},
          "execution_count": 33
        }
      ]
    },
    {
      "cell_type": "code",
      "metadata": {
        "colab": {
          "base_uri": "https://localhost:8080/"
        },
        "id": "zMxivaf6zi6d",
        "outputId": "d47ab90c-f3f8-46fd-eeca-1096a9ff58a5"
      },
      "source": [
        "i.is_Integer, i.is_real, i.is_odd"
      ],
      "execution_count": 34,
      "outputs": [
        {
          "output_type": "execute_result",
          "data": {
            "text/plain": [
              "(True, True, True)"
            ]
          },
          "metadata": {},
          "execution_count": 34
        }
      ]
    },
    {
      "cell_type": "code",
      "metadata": {
        "id": "SHJWBy2HzoYR"
      },
      "source": [
        " f = sympy.Float(2.3)\n",
        " "
      ],
      "execution_count": null,
      "outputs": []
    },
    {
      "cell_type": "code",
      "metadata": {
        "id": "Ld_5Q6GSzqPZ"
      },
      "source": [
        "type(f)\n"
      ],
      "execution_count": null,
      "outputs": []
    },
    {
      "cell_type": "code",
      "metadata": {
        "colab": {
          "base_uri": "https://localhost:8080/"
        },
        "id": "5kovIDONzu-Z",
        "outputId": "a8ab01d0-12d0-4342-c56c-77097b595cfc"
      },
      "source": [
        " sympy.core.numbers.Float"
      ],
      "execution_count": 35,
      "outputs": [
        {
          "output_type": "execute_result",
          "data": {
            "text/plain": [
              "sympy.core.numbers.Float"
            ]
          },
          "metadata": {},
          "execution_count": 35
        }
      ]
    },
    {
      "cell_type": "code",
      "metadata": {
        "colab": {
          "base_uri": "https://localhost:8080/"
        },
        "id": "sDYBVp4iz0n0",
        "outputId": "69086b83-0153-4480-851c-efc92b859270"
      },
      "source": [
        " f.is_Integer, f.is_real, f.is_odd"
      ],
      "execution_count": 36,
      "outputs": [
        {
          "output_type": "execute_result",
          "data": {
            "text/plain": [
              "(False, True, None)"
            ]
          },
          "metadata": {},
          "execution_count": 36
        }
      ]
    },
    {
      "cell_type": "code",
      "metadata": {
        "id": "74CVDmBl0DiP"
      },
      "source": [
        "i, f = sympy.sympify(19), sympy.sympify(2.3)"
      ],
      "execution_count": 37,
      "outputs": []
    },
    {
      "cell_type": "code",
      "metadata": {
        "colab": {
          "base_uri": "https://localhost:8080/"
        },
        "id": "PJeaFCnZ0Iws",
        "outputId": "7b1624b1-3009-47b9-e0dc-0d6fdec07baa"
      },
      "source": [
        " type(i), type(f)"
      ],
      "execution_count": 38,
      "outputs": [
        {
          "output_type": "execute_result",
          "data": {
            "text/plain": [
              "(sympy.core.numbers.Integer, sympy.core.numbers.Float)"
            ]
          },
          "metadata": {},
          "execution_count": 38
        }
      ]
    },
    {
      "cell_type": "code",
      "metadata": {
        "colab": {
          "base_uri": "https://localhost:8080/",
          "height": 51
        },
        "id": "78BjqYjG0R6N",
        "outputId": "0395a3cf-ed79-4325-e694-bf41696e6e88"
      },
      "source": [
        "sympy.Rational(11, 13)"
      ],
      "execution_count": 39,
      "outputs": [
        {
          "output_type": "execute_result",
          "data": {
            "image/png": "[encoded data removed]",
            "text/latex": "$\\displaystyle \\frac{11}{13}$",
            "text/plain": [
              "11\n",
              "──\n",
              "13"
            ]
          },
          "metadata": {},
          "execution_count": 39
        }
      ]
    },
    {
      "cell_type": "code",
      "metadata": {
        "colab": {
          "base_uri": "https://localhost:8080/",
          "height": 51
        },
        "id": "tjbV39gm0YXA",
        "outputId": "b105c925-5272-457e-f01f-819f9a600a4d"
      },
      "source": [
        "r1 = sympy.Rational(2, 3)\n",
        "r2 = sympy.Rational(4, 5)\n",
        "r1*r2\n"
      ],
      "execution_count": 41,
      "outputs": [
        {
          "output_type": "execute_result",
          "data": {
            "image/png": "[encoded data removed]",
            "text/latex": "$\\displaystyle \\frac{8}{15}$",
            "text/plain": [
              "8/15"
            ]
          },
          "metadata": {},
          "execution_count": 41
        }
      ]
    },
    {
      "cell_type": "code",
      "metadata": {
        "colab": {
          "base_uri": "https://localhost:8080/",
          "height": 51
        },
        "id": "qJ6l__kv0o4y",
        "outputId": "8a6f5760-0920-403d-f9e8-d0bb1b477ea3"
      },
      "source": [
        "r1 / r2"
      ],
      "execution_count": 42,
      "outputs": [
        {
          "output_type": "execute_result",
          "data": {
            "image/png": "[encoded data removed]",
            "text/latex": "$\\displaystyle \\frac{5}{6}$",
            "text/plain": [
              "5/6"
            ]
          },
          "metadata": {},
          "execution_count": 42
        }
      ]
    },
    {
      "cell_type": "code",
      "metadata": {
        "colab": {
          "base_uri": "https://localhost:8080/",
          "height": 38
        },
        "id": "2PodTOMK1F6q",
        "outputId": "a67b0578-5fb8-4f70-abdb-43c4b8c0bdc1"
      },
      "source": [
        "h = sympy.Lambda(x, x**2)\n",
        "h"
      ],
      "execution_count": 44,
      "outputs": [
        {
          "output_type": "execute_result",
          "data": {
            "image/png": "[encoded data removed]",
            "text/latex": "$\\displaystyle \\left( x \\mapsto x^{2} \\right)$",
            "text/plain": [
              "     2\n",
              "x ↦ x "
            ]
          },
          "metadata": {},
          "execution_count": 44
        }
      ]
    },
    {
      "cell_type": "code",
      "metadata": {
        "colab": {
          "base_uri": "https://localhost:8080/",
          "height": 37
        },
        "id": "D34AMGff1Sxj",
        "outputId": "5ee9eea8-c9e9-48f7-b451-f3a60ab6d637"
      },
      "source": [
        "h(5)"
      ],
      "execution_count": 45,
      "outputs": [
        {
          "output_type": "execute_result",
          "data": {
            "image/png": "[encoded data removed]",
            "text/latex": "$\\displaystyle 25$",
            "text/plain": [
              "25"
            ]
          },
          "metadata": {},
          "execution_count": 45
        }
      ]
    },
    {
      "cell_type": "code",
      "metadata": {
        "colab": {
          "base_uri": "https://localhost:8080/",
          "height": 39
        },
        "id": "d9DUCizb1Zrh",
        "outputId": "dcea6db5-ad0e-41a4-da27-45a5ad5712bc"
      },
      "source": [
        "h(1 + x)"
      ],
      "execution_count": 46,
      "outputs": [
        {
          "output_type": "execute_result",
          "data": {
            "image/png": "[encoded data removed]",
            "text/latex": "$\\displaystyle \\left(x + 1\\right)^{2}$",
            "text/plain": [
              "       2\n",
              "(x + 1) "
            ]
          },
          "metadata": {},
          "execution_count": 46
        }
      ]
    },
    {
      "cell_type": "code",
      "metadata": {
        "colab": {
          "base_uri": "https://localhost:8080/",
          "height": 38
        },
        "id": "oLVlSVvc1x8S",
        "outputId": "feb35440-6712-4780-f629-f7118757d145"
      },
      "source": [
        "x = sympy.Symbol(\"x\")\n",
        "expr = 1 + 2 * x**2 + 3 * x**3\n",
        "expr"
      ],
      "execution_count": 49,
      "outputs": [
        {
          "output_type": "execute_result",
          "data": {
            "image/png": "[encoded data removed]",
            "text/latex": "$\\displaystyle 3 x^{3} + 2 x^{2} + 1$",
            "text/plain": [
              "   3      2    \n",
              "3⋅x  + 2⋅x  + 1"
            ]
          },
          "metadata": {},
          "execution_count": 49
        }
      ]
    },
    {
      "cell_type": "code",
      "metadata": {
        "colab": {
          "base_uri": "https://localhost:8080/",
          "height": 38
        },
        "id": "vnt1Ie0A5jIe",
        "outputId": "8d86d5d7-6903-4e36-b25c-ad76a8417248"
      },
      "source": [
        "expr.args"
      ],
      "execution_count": 50,
      "outputs": [
        {
          "output_type": "execute_result",
          "data": {
            "image/png": "[encoded data removed]",
            "text/latex": "$\\displaystyle \\left( 1, \\  2 x^{2}, \\  3 x^{3}\\right)$",
            "text/plain": [
              "⎛      2     3⎞\n",
              "⎝1, 2⋅x , 3⋅x ⎠"
            ]
          },
          "metadata": {},
          "execution_count": 50
        }
      ]
    },
    {
      "cell_type": "code",
      "metadata": {
        "colab": {
          "base_uri": "https://localhost:8080/",
          "height": 38
        },
        "id": "av7LYc5D5rJh",
        "outputId": "b1337461-01ad-4745-d4e0-8c6f38717b2b"
      },
      "source": [
        "expr.args[2]"
      ],
      "execution_count": 52,
      "outputs": [
        {
          "output_type": "execute_result",
          "data": {
            "image/png": "[encoded data removed]",
            "text/latex": "$\\displaystyle 3 x^{3}$",
            "text/plain": [
              "   3\n",
              "3⋅x "
            ]
          },
          "metadata": {},
          "execution_count": 52
        }
      ]
    },
    {
      "cell_type": "code",
      "metadata": {
        "colab": {
          "base_uri": "https://localhost:8080/",
          "height": 38
        },
        "id": "c_YtZxtv5xTQ",
        "outputId": "688933c2-72d2-4295-c2c1-c04b17380cef"
      },
      "source": [
        "expr.args[1].args[1]"
      ],
      "execution_count": 57,
      "outputs": [
        {
          "output_type": "execute_result",
          "data": {
            "image/png": "[encoded data removed]",
            "text/latex": "$\\displaystyle x^{2}$",
            "text/plain": [
              " 2\n",
              "x "
            ]
          },
          "metadata": {},
          "execution_count": 57
        }
      ]
    },
    {
      "cell_type": "code",
      "metadata": {
        "colab": {
          "base_uri": "https://localhost:8080/",
          "height": 38
        },
        "id": "IWaB1XL96PyS",
        "outputId": "a54c2b2a-05bf-4af6-dd4e-4a1a862d9c24"
      },
      "source": [
        "expr.args[1].args[1].args[0]"
      ],
      "execution_count": 58,
      "outputs": [
        {
          "output_type": "execute_result",
          "data": {
            "image/png": "[encoded data removed]",
            "text/latex": "$\\displaystyle x$",
            "text/plain": [
              "x"
            ]
          },
          "metadata": {},
          "execution_count": 58
        }
      ]
    },
    {
      "cell_type": "code",
      "metadata": {
        "colab": {
          "base_uri": "https://localhost:8080/",
          "height": 37
        },
        "id": "58IexSNf6XIG",
        "outputId": "0375ee8f-4636-41b7-8828-d20b1a3e15a1"
      },
      "source": [
        "expr.args[1].args[1].args[0].args"
      ],
      "execution_count": 59,
      "outputs": [
        {
          "output_type": "execute_result",
          "data": {
            "image/png": "[encoded data removed]",
            "text/latex": "$\\displaystyle \\left( \\right)$",
            "text/plain": [
              "()"
            ]
          },
          "metadata": {},
          "execution_count": 59
        }
      ]
    },
    {
      "cell_type": "code",
      "metadata": {
        "colab": {
          "base_uri": "https://localhost:8080/",
          "height": 38
        },
        "id": "fETrDUv06bb0",
        "outputId": "eaa0cf76-22b0-4139-f27c-341867909431"
      },
      "source": [
        "expr=2*(x**2 -x)-x*(x+1)\n",
        "expr"
      ],
      "execution_count": 61,
      "outputs": [
        {
          "output_type": "execute_result",
          "data": {
            "image/png": "[encoded data removed]",
            "text/latex": "$\\displaystyle 2 x^{2} - x \\left(x + 1\\right) - 2 x$",
            "text/plain": [
              "   2                  \n",
              "2⋅x  - x⋅(x + 1) - 2⋅x"
            ]
          },
          "metadata": {},
          "execution_count": 61
        }
      ]
    },
    {
      "cell_type": "code",
      "metadata": {
        "colab": {
          "base_uri": "https://localhost:8080/",
          "height": 38
        },
        "id": "OznqzlYT7lFs",
        "outputId": "3136842a-5a4f-4861-c1fd-f7abd8f6be45"
      },
      "source": [
        "sympy.sqrt(2**x)"
      ],
      "execution_count": 66,
      "outputs": [
        {
          "output_type": "execute_result",
          "data": {
            "image/png": "[encoded data removed]",
            "text/latex": "$\\displaystyle \\sqrt{2^{x}}$",
            "text/plain": [
              "   ____\n",
              "  ╱  x \n",
              "╲╱  2  "
            ]
          },
          "metadata": {},
          "execution_count": 66
        }
      ]
    },
    {
      "cell_type": "code",
      "metadata": {
        "colab": {
          "base_uri": "https://localhost:8080/",
          "height": 38
        },
        "id": "TUK_iF1V82FC",
        "outputId": "06ce3644-20bd-4b56-a950-d6a16f020266"
      },
      "source": [
        "expr = 2 * sympy.cos(x) * sympy.sin(x)\n",
        "expr"
      ],
      "execution_count": 68,
      "outputs": [
        {
          "output_type": "execute_result",
          "data": {
            "image/png": "[encoded data removed]",
            "text/latex": "$\\displaystyle 2 \\sin{\\left(x \\right)} \\cos{\\left(x \\right)}$",
            "text/plain": [
              "2⋅sin(x)⋅cos(x)"
            ]
          },
          "metadata": {},
          "execution_count": 68
        }
      ]
    },
    {
      "cell_type": "code",
      "metadata": {
        "colab": {
          "base_uri": "https://localhost:8080/",
          "height": 38
        },
        "id": "YQ3jaMBc8-ZK",
        "outputId": "a6a622f0-5ffd-42fd-ad4b-b74a64e1f20f"
      },
      "source": [
        "expr1= 3 * sympy . sin(x) * sympy.cos(x)\n",
        "expr1"
      ],
      "execution_count": 73,
      "outputs": [
        {
          "output_type": "execute_result",
          "data": {
            "image/png": "[encoded data removed]",
            "text/latex": "$\\displaystyle 3 \\sin{\\left(x \\right)} \\cos{\\left(x \\right)}$",
            "text/plain": [
              "3⋅sin(x)⋅cos(x)"
            ]
          },
          "metadata": {},
          "execution_count": 73
        }
      ]
    },
    {
      "cell_type": "code",
      "metadata": {
        "colab": {
          "base_uri": "https://localhost:8080/",
          "height": 38
        },
        "id": "ftmE27ph_dyV",
        "outputId": "db6025e9-eb90-4860-9203-b20b8782ae31"
      },
      "source": [
        "sympy.simplify(expr)"
      ],
      "execution_count": 77,
      "outputs": [
        {
          "output_type": "execute_result",
          "data": {
            "image/png": "[encoded data removed]",
            "text/latex": "$\\displaystyle \\sin{\\left(2 x \\right)}$",
            "text/plain": [
              "sin(2⋅x)"
            ]
          },
          "metadata": {},
          "execution_count": 77
        }
      ]
    },
    {
      "cell_type": "code",
      "metadata": {
        "colab": {
          "base_uri": "https://localhost:8080/",
          "height": 38
        },
        "id": "fXOnY3-g_9AH",
        "outputId": "b0f0dd62-4cd9-42ea-dbf4-7e098e0926b4"
      },
      "source": [
        "expr=sympy.exp(x)*sympy.exp(y)\n",
        "expr"
      ],
      "execution_count": 79,
      "outputs": [
        {
          "output_type": "execute_result",
          "data": {
            "image/png": "[encoded data removed]",
            "text/latex": "$\\displaystyle e^{x} e^{y}$",
            "text/plain": [
              " x  y\n",
              "ℯ ⋅ℯ "
            ]
          },
          "metadata": {},
          "execution_count": 79
        }
      ]
    },
    {
      "cell_type": "code",
      "metadata": {
        "colab": {
          "base_uri": "https://localhost:8080/",
          "height": 38
        },
        "id": "afZHYTZUAgSi",
        "outputId": "a55b043a-26e8-4404-e1e8-9733e499d8bf"
      },
      "source": [
        "sympy.simplify(expr)"
      ],
      "execution_count": 80,
      "outputs": [
        {
          "output_type": "execute_result",
          "data": {
            "image/png": "[encoded data removed]",
            "text/latex": "$\\displaystyle e^{x + y}$",
            "text/plain": [
              " x + y\n",
              "ℯ     "
            ]
          },
          "metadata": {},
          "execution_count": 80
        }
      ]
    },
    {
      "cell_type": "code",
      "metadata": {
        "colab": {
          "base_uri": "https://localhost:8080/",
          "height": 38
        },
        "id": "ownG-0eDA4SK",
        "outputId": "3ca01eb1-ad8c-4110-bed1-b26175180189"
      },
      "source": [
        "sympy.trigsimp(expr)"
      ],
      "execution_count": 81,
      "outputs": [
        {
          "output_type": "execute_result",
          "data": {
            "image/png": "[encoded data removed]",
            "text/latex": "$\\displaystyle e^{x} e^{y}$",
            "text/plain": [
              " x  y\n",
              "ℯ ⋅ℯ "
            ]
          },
          "metadata": {},
          "execution_count": 81
        }
      ]
    },
    {
      "cell_type": "code",
      "metadata": {
        "colab": {
          "base_uri": "https://localhost:8080/",
          "height": 38
        },
        "id": "J833jikXBB-S",
        "outputId": "c31b4f97-11a1-403a-fa54-eafeecc851a8"
      },
      "source": [
        "sympy.powsimp(expr)"
      ],
      "execution_count": 82,
      "outputs": [
        {
          "output_type": "execute_result",
          "data": {
            "image/png": "[encoded data removed]",
            "text/latex": "$\\displaystyle e^{x + y}$",
            "text/plain": [
              " x + y\n",
              "ℯ     "
            ]
          },
          "metadata": {},
          "execution_count": 82
        }
      ]
    },
    {
      "cell_type": "code",
      "metadata": {
        "colab": {
          "base_uri": "https://localhost:8080/",
          "height": 38
        },
        "id": "U7KESCwaBKnQ",
        "outputId": "ae469447-b1c1-4366-9f53-7a34362bdef2"
      },
      "source": [
        "sympy.ratsimp(expr)"
      ],
      "execution_count": 84,
      "outputs": [
        {
          "output_type": "execute_result",
          "data": {
            "image/png": "[encoded data removed]",
            "text/latex": "$\\displaystyle e^{x} e^{y}$",
            "text/plain": [
              " x  y\n",
              "ℯ ⋅ℯ "
            ]
          },
          "metadata": {},
          "execution_count": 84
        }
      ]
    },
    {
      "cell_type": "code",
      "metadata": {
        "colab": {
          "base_uri": "https://localhost:8080/",
          "height": 38
        },
        "id": "zQgySBucBgem",
        "outputId": "420ae1df-b6fa-4e0c-c08f-3704e53513b1"
      },
      "source": [
        "expr = (x + 1) * (x + 2)\n",
        "expr"
      ],
      "execution_count": 85,
      "outputs": [
        {
          "output_type": "execute_result",
          "data": {
            "image/png": "[encoded data removed]",
            "text/latex": "$\\displaystyle \\left(x + 1\\right) \\left(x + 2\\right)$",
            "text/plain": [
              "(x + 1)⋅(x + 2)"
            ]
          },
          "metadata": {},
          "execution_count": 85
        }
      ]
    },
    {
      "cell_type": "code",
      "metadata": {
        "colab": {
          "base_uri": "https://localhost:8080/",
          "height": 38
        },
        "id": "tI3rnIY4BnTe",
        "outputId": "5c6ab1e3-88ea-492c-eebe-e8728005aefa"
      },
      "source": [
        "sympy.expand(expr)"
      ],
      "execution_count": 86,
      "outputs": [
        {
          "output_type": "execute_result",
          "data": {
            "image/png": "[encoded data removed]",
            "text/latex": "$\\displaystyle x^{2} + 3 x + 2$",
            "text/plain": [
              " 2          \n",
              "x  + 3⋅x + 2"
            ]
          },
          "metadata": {},
          "execution_count": 86
        }
      ]
    },
    {
      "cell_type": "code",
      "metadata": {
        "colab": {
          "base_uri": "https://localhost:8080/",
          "height": 38
        },
        "id": "sB0pUbaJBx9u",
        "outputId": "9b57b1f4-b5c3-41ac-c3db-ce9c1949500c"
      },
      "source": [
        "sympy.sin(x + y).expand(trig=True)"
      ],
      "execution_count": 87,
      "outputs": [
        {
          "output_type": "execute_result",
          "data": {
            "image/png": "[encoded data removed]",
            "text/latex": "$\\displaystyle \\sin{\\left(x \\right)} \\cos{\\left(y \\right)} + \\sin{\\left(y \\right)} \\cos{\\left(x \\right)}$",
            "text/plain": [
              "sin(x)⋅cos(y) + sin(y)⋅cos(x)"
            ]
          },
          "metadata": {},
          "execution_count": 87
        }
      ]
    },
    {
      "cell_type": "code",
      "metadata": {
        "id": "ik3WxBgpB6t-"
      },
      "source": [
        "a, b = sympy.symbols(\"a, b\", positive=True)"
      ],
      "execution_count": 88,
      "outputs": []
    },
    {
      "cell_type": "code",
      "metadata": {
        "colab": {
          "base_uri": "https://localhost:8080/",
          "height": 38
        },
        "id": "0x2HcR-CCCvd",
        "outputId": "6bdab1ec-9f38-45f6-d1ff-c670fbff19ee"
      },
      "source": [
        "sympy.log(a * b).expand(log=True)"
      ],
      "execution_count": 89,
      "outputs": [
        {
          "output_type": "execute_result",
          "data": {
            "image/png": "[encoded data removed]",
            "text/latex": "$\\displaystyle \\log{\\left(a \\right)} + \\log{\\left(b \\right)}$",
            "text/plain": [
              "log(a) + log(b)"
            ]
          },
          "metadata": {},
          "execution_count": 89
        }
      ]
    },
    {
      "cell_type": "code",
      "metadata": {
        "colab": {
          "base_uri": "https://localhost:8080/",
          "height": 38
        },
        "id": "i4-YBwvpCKbP",
        "outputId": "0a0592bb-e8cc-455e-befc-078f9642c807"
      },
      "source": [
        "sympy.exp(I*a + b).expand(complex=True)"
      ],
      "execution_count": 90,
      "outputs": [
        {
          "output_type": "execute_result",
          "data": {
            "image/png": "[encoded data removed]",
            "text/latex": "$\\displaystyle i e^{b} \\sin{\\left(a \\right)} + e^{b} \\cos{\\left(a \\right)}$",
            "text/plain": [
              "   b           b       \n",
              "ⅈ⋅ℯ ⋅sin(a) + ℯ ⋅cos(a)"
            ]
          },
          "metadata": {},
          "execution_count": 90
        }
      ]
    },
    {
      "cell_type": "code",
      "metadata": {
        "colab": {
          "base_uri": "https://localhost:8080/",
          "height": 38
        },
        "id": "FQZUGJg5CPl_",
        "outputId": "d7f88203-3331-4cdd-dab8-8f28b68a5bf7"
      },
      "source": [
        " sympy.expand((a * b)**x, power_base=True)"
      ],
      "execution_count": 91,
      "outputs": [
        {
          "output_type": "execute_result",
          "data": {
            "image/png": "[encoded data removed]",
            "text/latex": "$\\displaystyle a^{x} b^{x}$",
            "text/plain": [
              " x  x\n",
              "a ⋅b "
            ]
          },
          "metadata": {},
          "execution_count": 91
        }
      ]
    },
    {
      "cell_type": "code",
      "metadata": {
        "colab": {
          "base_uri": "https://localhost:8080/",
          "height": 38
        },
        "id": "6mO3N7foCXgl",
        "outputId": "8d77f18b-6658-463f-ab41-d528b8176631"
      },
      "source": [
        " sympy.exp((a-b)*x).expand(power_exp=True)"
      ],
      "execution_count": 92,
      "outputs": [
        {
          "output_type": "execute_result",
          "data": {
            "image/png": "[encoded data removed]",
            "text/latex": "$\\displaystyle e^{a x} e^{- b x}$",
            "text/plain": [
              " a⋅x  -b⋅x\n",
              "ℯ   ⋅ℯ    "
            ]
          },
          "metadata": {},
          "execution_count": 92
        }
      ]
    },
    {
      "cell_type": "code",
      "metadata": {
        "colab": {
          "base_uri": "https://localhost:8080/",
          "height": 38
        },
        "id": "cHow1agGCfrQ",
        "outputId": "e91f4687-ab97-4ef7-941d-da891f70b0df"
      },
      "source": [
        " sympy.factor(x**2 - 1)\n"
      ],
      "execution_count": 93,
      "outputs": [
        {
          "output_type": "execute_result",
          "data": {
            "image/png": "[encoded data removed]",
            "text/latex": "$\\displaystyle \\left(x - 1\\right) \\left(x + 1\\right)$",
            "text/plain": [
              "(x - 1)⋅(x + 1)"
            ]
          },
          "metadata": {},
          "execution_count": 93
        }
      ]
    },
    {
      "cell_type": "code",
      "metadata": {
        "colab": {
          "base_uri": "https://localhost:8080/",
          "height": 38
        },
        "id": "8QMgbeliDtBr",
        "outputId": "985def02-90a3-4711-ec33-4c11cbe06ce8"
      },
      "source": [
        "sympy.factor(x * sympy.cos(y) + sympy.sin(y) * x)"
      ],
      "execution_count": 97,
      "outputs": [
        {
          "output_type": "execute_result",
          "data": {
            "image/png": "[encoded data removed]",
            "text/latex": "$\\displaystyle x \\left(\\sin{\\left(y \\right)} + \\cos{\\left(y \\right)}\\right)$",
            "text/plain": [
              "x⋅(sin(y) + cos(y))"
            ]
          },
          "metadata": {},
          "execution_count": 97
        }
      ]
    },
    {
      "cell_type": "code",
      "metadata": {
        "colab": {
          "base_uri": "https://localhost:8080/",
          "height": 48
        },
        "id": "puEu7zEOD9ft",
        "outputId": "43b9816d-3d69-4a75-a1f5-36ad3f89c527"
      },
      "source": [
        "sympy.logcombine(sympy.log(a) - sympy.log(b))"
      ],
      "execution_count": 98,
      "outputs": [
        {
          "output_type": "execute_result",
          "data": {
            "image/png": "[encoded data removed]",
            "text/latex": "$\\displaystyle \\log{\\left(\\frac{a}{b} \\right)}$",
            "text/plain": [
              "   ⎛a⎞\n",
              "log⎜─⎟\n",
              "   ⎝b⎠"
            ]
          },
          "metadata": {},
          "execution_count": 98
        }
      ]
    },
    {
      "cell_type": "code",
      "metadata": {
        "colab": {
          "base_uri": "https://localhost:8080/",
          "height": 38
        },
        "id": "wBV-5XG1EEul",
        "outputId": "0ae77c1f-01a9-4bb8-be6f-c75478511f98"
      },
      "source": [
        "expr = x + y + x * y * 2\n",
        "expr"
      ],
      "execution_count": 101,
      "outputs": [
        {
          "output_type": "execute_result",
          "data": {
            "image/png": "[encoded data removed]",
            "text/latex": "$\\displaystyle 2 x y + x + y$",
            "text/plain": [
              "2⋅x⋅y + x + y"
            ]
          },
          "metadata": {},
          "execution_count": 101
        }
      ]
    },
    {
      "cell_type": "code",
      "metadata": {
        "colab": {
          "base_uri": "https://localhost:8080/",
          "height": 38
        },
        "id": "3Ke1NBOVEQfu",
        "outputId": "ef8be4c8-e04e-4aa7-9c1d-09f25c315b8c"
      },
      "source": [
        "expr.collect(x)"
      ],
      "execution_count": 102,
      "outputs": [
        {
          "output_type": "execute_result",
          "data": {
            "image/png": "[encoded data removed]",
            "text/latex": "$\\displaystyle x \\left(2 y + 1\\right) + y$",
            "text/plain": [
              "x⋅(2⋅y + 1) + y"
            ]
          },
          "metadata": {},
          "execution_count": 102
        }
      ]
    },
    {
      "cell_type": "code",
      "metadata": {
        "colab": {
          "base_uri": "https://localhost:8080/",
          "height": 38
        },
        "id": "y3q-EdFMEc6H",
        "outputId": "c556a437-a20d-44a4-c90f-57070eb532c5"
      },
      "source": [
        "expr.collect(y)"
      ],
      "execution_count": 103,
      "outputs": [
        {
          "output_type": "execute_result",
          "data": {
            "image/png": "[encoded data removed]",
            "text/latex": "$\\displaystyle x + y \\left(2 x + 1\\right)$",
            "text/plain": [
              "x + y⋅(2⋅x + 1)"
            ]
          },
          "metadata": {},
          "execution_count": 103
        }
      ]
    },
    {
      "cell_type": "code",
      "metadata": {
        "colab": {
          "base_uri": "https://localhost:8080/",
          "height": 38
        },
        "id": "9Pu0vmqkEj_F",
        "outputId": "e897fe32-a3a9-42be-aa02-2e03aacb2fa6"
      },
      "source": [
        "expr=sympy.cos(x+y)+sympy.sin(x-y)\n",
        "expr"
      ],
      "execution_count": 106,
      "outputs": [
        {
          "output_type": "execute_result",
          "data": {
            "image/png": "[encoded data removed]",
            "text/latex": "$\\displaystyle \\sin{\\left(x - y \\right)} + \\cos{\\left(x + y \\right)}$",
            "text/plain": [
              "sin(x - y) + cos(x + y)"
            ]
          },
          "metadata": {},
          "execution_count": 106
        }
      ]
    },
    {
      "cell_type": "code",
      "metadata": {
        "id": "ppUx5XGpHKWe",
        "outputId": "fdff7b2b-960c-450f-cfb4-fc47ade1904b",
        "colab": {
          "base_uri": "https://localhost:8080/",
          "height": 52
        }
      },
      "source": [
        "sympy.apart(1/(x**2 + 3*x + 2), x)"
      ],
      "execution_count": 114,
      "outputs": [
        {
          "output_type": "execute_result",
          "data": {
            "image/png": "[encoded data removed]",
            "text/latex": "$\\displaystyle - \\frac{1}{x + 2} + \\frac{1}{x + 1}$",
            "text/plain": [
              "    1       1  \n",
              "- ───── + ─────\n",
              "  x + 2   x + 1"
            ]
          },
          "metadata": {},
          "execution_count": 114
        }
      ]
    },
    {
      "cell_type": "code",
      "metadata": {
        "id": "4GdZug5rHTcV",
        "outputId": "06a5dc11-fb17-4901-a25a-4395631842ce",
        "colab": {
          "base_uri": "https://localhost:8080/",
          "height": 55
        }
      },
      "source": [
        " sympy.together(1 / (y * x + y) + 1 / (1+x))"
      ],
      "execution_count": 115,
      "outputs": [
        {
          "output_type": "execute_result",
          "data": {
            "image/png": "[encoded data removed]",
            "text/latex": "$\\displaystyle \\frac{y + 1}{y \\left(x + 1\\right)}$",
            "text/plain": [
              "  y + 1  \n",
              "─────────\n",
              "y⋅(x + 1)"
            ]
          },
          "metadata": {},
          "execution_count": 115
        }
      ]
    },
    {
      "cell_type": "code",
      "metadata": {
        "id": "wx1q_VIAHarr",
        "outputId": "a0cfebab-7495-47f8-db6d-2be4ef7de99f",
        "colab": {
          "base_uri": "https://localhost:8080/",
          "height": 52
        }
      },
      "source": [
        "sympy.cancel(y / (y * x + y))"
      ],
      "execution_count": 116,
      "outputs": [
        {
          "output_type": "execute_result",
          "data": {
            "image/png": "[encoded data removed]",
            "text/latex": "$\\displaystyle \\frac{1}{x + 1}$",
            "text/plain": [
              "  1  \n",
              "─────\n",
              "x + 1"
            ]
          },
          "metadata": {},
          "execution_count": 116
        }
      ]
    },
    {
      "cell_type": "code",
      "metadata": {
        "id": "ms5xA_CtIobp"
      },
      "source": [
        ""
      ],
      "execution_count": null,
      "outputs": []
    }
  ]
}