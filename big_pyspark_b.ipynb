{
  "nbformat": 4,
  "nbformat_minor": 0,
  "metadata": {
    "colab": {
      "provenance": [],
      "authorship_tag": "ABX9TyP/GVC8XNCTkruQl5bEnB+V",
      "include_colab_link": true
    },
    "kernelspec": {
      "name": "python3",
      "display_name": "Python 3"
    },
    "language_info": {
      "name": "python"
    }
  },
  "cells": [
    {
      "cell_type": "markdown",
      "metadata": {
        "id": "view-in-github",
        "colab_type": "text"
      },
      "source": [
        "<a href=\"https://colab.research.google.com/github/manikur/R-programming/blob/main/big_pyspark_b.ipynb\" target=\"_parent\"><img src=\"https://colab.research.google.com/assets/colab-badge.svg\" alt=\"Open In Colab\"/></a>"
      ]
    },
    {
      "cell_type": "code",
      "source": [
        "!pip install pyspark"
      ],
      "metadata": {
        "colab": {
          "base_uri": "https://localhost:8080/"
        },
        "id": "g1wjJm9d1OEs",
        "outputId": "d2d3c603-f5df-4271-ba38-c04af45021d5"
      },
      "execution_count": 3,
      "outputs": [
        {
          "output_type": "stream",
          "name": "stdout",
          "text": [
            "Collecting pyspark\n",
            "  Downloading pyspark-3.4.1.tar.gz (310.8 MB)\n",
            "\u001b[2K     \u001b[90m━━━━━━━━━━━━━━━━━━━━━━━━━━━━━━━━━━━━━━━\u001b[0m \u001b[32m310.8/310.8 MB\u001b[0m \u001b[31m4.5 MB/s\u001b[0m eta \u001b[36m0:00:00\u001b[0m\n",
            "\u001b[?25h  Preparing metadata (setup.py) ... \u001b[?25l\u001b[?25hdone\n",
            "Requirement already satisfied: py4j==0.10.9.7 in /usr/local/lib/python3.10/dist-packages (from pyspark) (0.10.9.7)\n",
            "Building wheels for collected packages: pyspark\n",
            "  Building wheel for pyspark (setup.py) ... \u001b[?25l\u001b[?25hdone\n",
            "  Created wheel for pyspark: filename=pyspark-3.4.1-py2.py3-none-any.whl size=311285397 sha256=3432d995042c739dd8536f7567ff9e6b188f1cbcd5ee0554a1062260f57ecafd\n",
            "  Stored in directory: /root/.cache/pip/wheels/0d/77/a3/ff2f74cc9ab41f8f594dabf0579c2a7c6de920d584206e0834\n",
            "Successfully built pyspark\n",
            "Installing collected packages: pyspark\n",
            "Successfully installed pyspark-3.4.1\n"
          ]
        }
      ]
    },
    {
      "cell_type": "code",
      "source": [
        "import pyspark"
      ],
      "metadata": {
        "id": "bG0oMYd21ISd"
      },
      "execution_count": 4,
      "outputs": []
    },
    {
      "cell_type": "code",
      "execution_count": 8,
      "metadata": {
        "colab": {
          "base_uri": "https://localhost:8080/",
          "height": 219
        },
        "id": "hRjO9KOC0ma0",
        "outputId": "650eaf8d-c071-4b35-9401-a03a6ee276f2"
      },
      "outputs": [
        {
          "output_type": "execute_result",
          "data": {
            "text/plain": [
              "<pyspark.sql.session.SparkSession at 0x7db911df2c20>"
            ],
            "text/html": [
              "\n",
              "            <div>\n",
              "                <p><b>SparkSession - in-memory</b></p>\n",
              "                \n",
              "        <div>\n",
              "            <p><b>SparkContext</b></p>\n",
              "\n",
              "            <p><a href=\"http://6528a192a80a:4040\">Spark UI</a></p>\n",
              "\n",
              "            <dl>\n",
              "              <dt>Version</dt>\n",
              "                <dd><code>v3.4.1</code></dd>\n",
              "              <dt>Master</dt>\n",
              "                <dd><code>local[*]</code></dd>\n",
              "              <dt>AppName</dt>\n",
              "                <dd><code>data_processing</code></dd>\n",
              "            </dl>\n",
              "        </div>\n",
              "        \n",
              "            </div>\n",
              "        "
            ]
          },
          "metadata": {},
          "execution_count": 8
        }
      ],
      "source": [
        "from pyspark.sql import SparkSession\n",
        "spark=SparkSession.builder.appName('data_processing').getOrCreate()\n",
        "spark"
      ]
    },
    {
      "cell_type": "code",
      "source": [
        "import pyspark.sql.functions as F\n",
        "from pyspark.sql.types import *"
      ],
      "metadata": {
        "id": "oOFmagOm1z0h"
      },
      "execution_count": 10,
      "outputs": []
    },
    {
      "cell_type": "code",
      "source": [
        "#Creating Dataframes\n",
        "schema=StructType().add(\"user_id\",\"string\").add(\"country\",\"string\").add(\"browser\", \"string\").add(\"OS\",'string').add(\"age\", \"integer\")\n"
      ],
      "metadata": {
        "id": "XyyDi9uU2Cg0"
      },
      "execution_count": 14,
      "outputs": []
    },
    {
      "cell_type": "code",
      "source": [
        "df=spark.createDataFrame([(\"A203\",'India',\"Chrome\",\"WIN\",33),(\"A201\",'China',\"Safari\",\"MacOS\",35),(\"A205\",'UK',\"Mozilla\",\"Linux\",25)],schema=schema)"
      ],
      "metadata": {
        "id": "u2SNU2zj2gjF"
      },
      "execution_count": 15,
      "outputs": []
    },
    {
      "cell_type": "code",
      "source": [
        "df"
      ],
      "metadata": {
        "colab": {
          "base_uri": "https://localhost:8080/"
        },
        "id": "KlSc51Fb2n9J",
        "outputId": "9e668d98-8b34-474b-883f-b1b1194c485e"
      },
      "execution_count": 16,
      "outputs": [
        {
          "output_type": "execute_result",
          "data": {
            "text/plain": [
              "DataFrame[user_id: string, country: string, browser: string, OS: string, age: int]"
            ]
          },
          "metadata": {},
          "execution_count": 16
        }
      ]
    },
    {
      "cell_type": "code",
      "source": [
        "df.printSchema()\n"
      ],
      "metadata": {
        "colab": {
          "base_uri": "https://localhost:8080/"
        },
        "id": "6U2CZsUj2vN5",
        "outputId": "efe62529-6354-4af4-ee67-b74c8f017a89"
      },
      "execution_count": 18,
      "outputs": [
        {
          "output_type": "stream",
          "name": "stdout",
          "text": [
            "root\n",
            " |-- user_id: string (nullable = true)\n",
            " |-- country: string (nullable = true)\n",
            " |-- browser: string (nullable = true)\n",
            " |-- OS: string (nullable = true)\n",
            " |-- age: integer (nullable = true)\n",
            "\n"
          ]
        }
      ]
    },
    {
      "cell_type": "code",
      "source": [
        "df.show()"
      ],
      "metadata": {
        "colab": {
          "base_uri": "https://localhost:8080/"
        },
        "id": "W8DKfPBA223y",
        "outputId": "28ab293b-c704-454e-eb91-fb35b1f783d7"
      },
      "execution_count": 19,
      "outputs": [
        {
          "output_type": "stream",
          "name": "stdout",
          "text": [
            "+-------+-------+-------+-----+---+\n",
            "|user_id|country|browser|   OS|age|\n",
            "+-------+-------+-------+-----+---+\n",
            "|   A203|  India| Chrome|  WIN| 33|\n",
            "|   A201|  China| Safari|MacOS| 35|\n",
            "|   A205|     UK|Mozilla|Linux| 25|\n",
            "+-------+-------+-------+-----+---+\n",
            "\n"
          ]
        }
      ]
    },
    {
      "cell_type": "code",
      "source": [
        "#Null Values\n",
        "df_na=spark.createDataFrame([(\"A203\",None,\"Chrome\",\"WIN\",33),(\"A201\",'China',None,\"MacOS\",35),(\"A205\",'UK',\"Mozilla\",\"Linux\",25)],schema=schema)"
      ],
      "metadata": {
        "id": "N5pGFDFj29n9"
      },
      "execution_count": 20,
      "outputs": []
    },
    {
      "cell_type": "code",
      "source": [
        "df_na.show()"
      ],
      "metadata": {
        "colab": {
          "base_uri": "https://localhost:8080/"
        },
        "id": "UW7WHFnB3UZT",
        "outputId": "51832737-b9ff-4238-e585-7b6daccda72e"
      },
      "execution_count": 21,
      "outputs": [
        {
          "output_type": "stream",
          "name": "stdout",
          "text": [
            "+-------+-------+-------+-----+---+\n",
            "|user_id|country|browser|   OS|age|\n",
            "+-------+-------+-------+-----+---+\n",
            "|   A203|   null| Chrome|  WIN| 33|\n",
            "|   A201|  China|   null|MacOS| 35|\n",
            "|   A205|     UK|Mozilla|Linux| 25|\n",
            "+-------+-------+-------+-----+---+\n",
            "\n"
          ]
        }
      ]
    },
    {
      "cell_type": "code",
      "source": [
        "df_na.fillna('0').show()"
      ],
      "metadata": {
        "colab": {
          "base_uri": "https://localhost:8080/"
        },
        "id": "EsAR9XOn3c1q",
        "outputId": "68c016d5-095b-437f-9b1f-f9a70a7c7e4a"
      },
      "execution_count": 22,
      "outputs": [
        {
          "output_type": "stream",
          "name": "stdout",
          "text": [
            "+-------+-------+-------+-----+---+\n",
            "|user_id|country|browser|   OS|age|\n",
            "+-------+-------+-------+-----+---+\n",
            "|   A203|      0| Chrome|  WIN| 33|\n",
            "|   A201|  China|      0|MacOS| 35|\n",
            "|   A205|     UK|Mozilla|Linux| 25|\n",
            "+-------+-------+-------+-----+---+\n",
            "\n"
          ]
        }
      ]
    },
    {
      "cell_type": "code",
      "source": [
        "df_na.fillna( { 'country':'USA', 'browser':'Safari' } ).show()"
      ],
      "metadata": {
        "colab": {
          "base_uri": "https://localhost:8080/"
        },
        "id": "XQKyzykO3jPe",
        "outputId": "a41c7e54-6922-4885-e114-31e67a8ed21b"
      },
      "execution_count": 23,
      "outputs": [
        {
          "output_type": "stream",
          "name": "stdout",
          "text": [
            "+-------+-------+-------+-----+---+\n",
            "|user_id|country|browser|   OS|age|\n",
            "+-------+-------+-------+-----+---+\n",
            "|   A203|    USA| Chrome|  WIN| 33|\n",
            "|   A201|  China| Safari|MacOS| 35|\n",
            "|   A205|     UK|Mozilla|Linux| 25|\n",
            "+-------+-------+-------+-----+---+\n",
            "\n"
          ]
        }
      ]
    },
    {
      "cell_type": "code",
      "source": [
        "df_na.na.drop().show()"
      ],
      "metadata": {
        "colab": {
          "base_uri": "https://localhost:8080/"
        },
        "id": "Y-MbRX_u3ve1",
        "outputId": "e9790af1-47d7-4284-da2e-64727b614f1c"
      },
      "execution_count": 24,
      "outputs": [
        {
          "output_type": "stream",
          "name": "stdout",
          "text": [
            "+-------+-------+-------+-----+---+\n",
            "|user_id|country|browser|   OS|age|\n",
            "+-------+-------+-------+-----+---+\n",
            "|   A205|     UK|Mozilla|Linux| 25|\n",
            "+-------+-------+-------+-----+---+\n",
            "\n"
          ]
        }
      ]
    },
    {
      "cell_type": "code",
      "source": [
        "df_na.na.drop(subset='country').show()"
      ],
      "metadata": {
        "colab": {
          "base_uri": "https://localhost:8080/"
        },
        "id": "zyZb1a7H300A",
        "outputId": "fa88377f-9946-4b74-b5ea-9006e0e8d1b8"
      },
      "execution_count": 25,
      "outputs": [
        {
          "output_type": "stream",
          "name": "stdout",
          "text": [
            "+-------+-------+-------+-----+---+\n",
            "|user_id|country|browser|   OS|age|\n",
            "+-------+-------+-------+-----+---+\n",
            "|   A201|  China|   null|MacOS| 35|\n",
            "|   A205|     UK|Mozilla|Linux| 25|\n",
            "+-------+-------+-------+-----+---+\n",
            "\n"
          ]
        }
      ]
    },
    {
      "cell_type": "code",
      "source": [
        "df_na.replace(\"Chrome\",\"Google Chrome\").show()"
      ],
      "metadata": {
        "colab": {
          "base_uri": "https://localhost:8080/"
        },
        "id": "StVuI21B36F6",
        "outputId": "1ac566fe-50c4-42c3-f4ad-91d8a9d06f23"
      },
      "execution_count": 26,
      "outputs": [
        {
          "output_type": "stream",
          "name": "stdout",
          "text": [
            "+-------+-------+-------------+-----+---+\n",
            "|user_id|country|      browser|   OS|age|\n",
            "+-------+-------+-------------+-----+---+\n",
            "|   A203|   null|Google Chrome|  WIN| 33|\n",
            "|   A201|  China|         null|MacOS| 35|\n",
            "|   A205|     UK|      Mozilla|Linux| 25|\n",
            "+-------+-------+-------------+-----+---+\n",
            "\n"
          ]
        }
      ]
    },
    {
      "cell_type": "code",
      "source": [
        "df_na.drop('user_id').show()"
      ],
      "metadata": {
        "colab": {
          "base_uri": "https://localhost:8080/"
        },
        "id": "G5XZ4MnS4AZy",
        "outputId": "186b3f60-bea7-4fc5-b166-02c7200772ce"
      },
      "execution_count": 27,
      "outputs": [
        {
          "output_type": "stream",
          "name": "stdout",
          "text": [
            "+-------+-------+-----+---+\n",
            "|country|browser|   OS|age|\n",
            "+-------+-------+-----+---+\n",
            "|   null| Chrome|  WIN| 33|\n",
            "|  China|   null|MacOS| 35|\n",
            "|     UK|Mozilla|Linux| 25|\n",
            "+-------+-------+-----+---+\n",
            "\n"
          ]
        }
      ]
    },
    {
      "cell_type": "code",
      "source": [
        "!git clone https://github.com/Apress/learn-pyspark.git"
      ],
      "metadata": {
        "colab": {
          "base_uri": "https://localhost:8080/"
        },
        "id": "rlSOJ_Ck70q0",
        "outputId": "67f4c395-e46f-4f7b-aa58-99e764b00d1c"
      },
      "execution_count": 41,
      "outputs": [
        {
          "output_type": "stream",
          "name": "stdout",
          "text": [
            "Cloning into 'learn-pyspark'...\n",
            "remote: Enumerating objects: 44, done.\u001b[K\n",
            "remote: Total 44 (delta 0), reused 0 (delta 0), pack-reused 44\u001b[K\n",
            "Receiving objects: 100% (44/44), 2.97 MiB | 4.42 MiB/s, done.\n",
            "Resolving deltas: 100% (11/11), done.\n"
          ]
        }
      ]
    },
    {
      "cell_type": "code",
      "source": [
        "df=spark.read.csv('/content/learn-pyspark/chap_2/customer_data.csv',header=True,inferSchema=True)"
      ],
      "metadata": {
        "id": "Ee0BzlIP5WdP"
      },
      "execution_count": 42,
      "outputs": []
    },
    {
      "cell_type": "code",
      "source": [
        "df.count()"
      ],
      "metadata": {
        "colab": {
          "base_uri": "https://localhost:8080/"
        },
        "id": "xYoLpI2M8kuw",
        "outputId": "bf4b2c05-96cb-4e41-82c3-4029a8264997"
      },
      "execution_count": 44,
      "outputs": [
        {
          "output_type": "execute_result",
          "data": {
            "text/plain": [
              "2000"
            ]
          },
          "metadata": {},
          "execution_count": 44
        }
      ]
    },
    {
      "cell_type": "code",
      "source": [
        "len(df.columns)"
      ],
      "metadata": {
        "colab": {
          "base_uri": "https://localhost:8080/"
        },
        "id": "sL2x6j8F8ojt",
        "outputId": "f12b36ca-8ae2-4cea-f027-a0438a625e74"
      },
      "execution_count": 45,
      "outputs": [
        {
          "output_type": "execute_result",
          "data": {
            "text/plain": [
              "7"
            ]
          },
          "metadata": {},
          "execution_count": 45
        }
      ]
    },
    {
      "cell_type": "code",
      "source": [
        "df.printSchema()"
      ],
      "metadata": {
        "colab": {
          "base_uri": "https://localhost:8080/"
        },
        "id": "crjByJf_8wx4",
        "outputId": "0738ac2f-d894-4d20-c76b-c3059b817e59"
      },
      "execution_count": 46,
      "outputs": [
        {
          "output_type": "stream",
          "name": "stdout",
          "text": [
            "root\n",
            " |-- Customer_subtype: string (nullable = true)\n",
            " |-- Number_of_houses: integer (nullable = true)\n",
            " |-- Avg_size_household: integer (nullable = true)\n",
            " |-- Avg_age: string (nullable = true)\n",
            " |-- Customer_main_type: string (nullable = true)\n",
            " |-- Avg_Salary: integer (nullable = true)\n",
            " |-- label: integer (nullable = true)\n",
            "\n"
          ]
        }
      ]
    },
    {
      "cell_type": "code",
      "source": [
        "df.show(3)"
      ],
      "metadata": {
        "colab": {
          "base_uri": "https://localhost:8080/"
        },
        "id": "El1aRM2P851_",
        "outputId": "5eeb7a24-6057-4154-cc69-bcc6d0d897c2"
      },
      "execution_count": 47,
      "outputs": [
        {
          "output_type": "stream",
          "name": "stdout",
          "text": [
            "+--------------------+----------------+------------------+-----------+--------------------+----------+-----+\n",
            "|    Customer_subtype|Number_of_houses|Avg_size_household|    Avg_age|  Customer_main_type|Avg_Salary|label|\n",
            "+--------------------+----------------+------------------+-----------+--------------------+----------+-----+\n",
            "|Lower class large...|               1|                 3|30-40 years|Family with grown...|     44905|    0|\n",
            "|Mixed small town ...|               1|                 2|30-40 years|Family with grown...|     37575|    0|\n",
            "|Mixed small town ...|               1|                 2|30-40 years|Family with grown...|     27915|    0|\n",
            "+--------------------+----------------+------------------+-----------+--------------------+----------+-----+\n",
            "only showing top 3 rows\n",
            "\n"
          ]
        }
      ]
    },
    {
      "cell_type": "code",
      "source": [
        "df.summary().show()"
      ],
      "metadata": {
        "colab": {
          "base_uri": "https://localhost:8080/"
        },
        "id": "8d-T9_d489o7",
        "outputId": "d953966f-ff23-48d9-f9c9-739eb1d59cd7"
      },
      "execution_count": 48,
      "outputs": [
        {
          "output_type": "stream",
          "name": "stdout",
          "text": [
            "+-------+--------------------+------------------+------------------+-----------+--------------------+-----------------+------------------+\n",
            "|summary|    Customer_subtype|  Number_of_houses|Avg_size_household|    Avg_age|  Customer_main_type|       Avg_Salary|             label|\n",
            "+-------+--------------------+------------------+------------------+-----------+--------------------+-----------------+------------------+\n",
            "|  count|                2000|              2000|              2000|       2000|                2000|             2000|              2000|\n",
            "|   mean|                null|            1.1075|            2.6895|       null|                null|     1616908.0835|            0.0605|\n",
            "| stddev|                null|0.3873225521186316|0.7914562220841646|       null|                null|6822647.757312146|0.2384705099001677|\n",
            "|    min|Affluent senior a...|                 1|                 1|20-30 years|      Average Family|             1361|                 0|\n",
            "|    25%|                null|                 1|                 2|       null|                null|            20315|                 0|\n",
            "|    50%|                null|                 1|                 3|       null|                null|            31421|                 0|\n",
            "|    75%|                null|                 1|                 3|       null|                null|            42949|                 0|\n",
            "|    max| Young, low educated|                10|                 5|70-80 years|Successful hedonists|         48919896|                 1|\n",
            "+-------+--------------------+------------------+------------------+-----------+--------------------+-----------------+------------------+\n",
            "\n"
          ]
        }
      ]
    },
    {
      "cell_type": "code",
      "source": [
        "#Subset of a Dataframe\n",
        "#filtering records.\n",
        "# Select\n",
        "#Filter\n",
        "# Where"
      ],
      "metadata": {
        "id": "MgJpGQG99F9e"
      },
      "execution_count": null,
      "outputs": []
    },
    {
      "cell_type": "code",
      "source": [
        "df.select(['Customer_subtype','Avg_Salary']).show()"
      ],
      "metadata": {
        "colab": {
          "base_uri": "https://localhost:8080/"
        },
        "id": "FAuhmeuG9eIp",
        "outputId": "7e6c0d6a-94ea-41bf-b395-d40644e69298"
      },
      "execution_count": 49,
      "outputs": [
        {
          "output_type": "stream",
          "name": "stdout",
          "text": [
            "+--------------------+----------+\n",
            "|    Customer_subtype|Avg_Salary|\n",
            "+--------------------+----------+\n",
            "|Lower class large...|     44905|\n",
            "|Mixed small town ...|     37575|\n",
            "|Mixed small town ...|     27915|\n",
            "|Modern, complete ...|     19504|\n",
            "|  Large family farms|     34943|\n",
            "|    Young and rising|     13064|\n",
            "|Large religious f...|     29090|\n",
            "|Lower class large...|      6895|\n",
            "|Lower class large...|     35497|\n",
            "|     Family starters|     30800|\n",
            "|       Stable family|     39157|\n",
            "|Modern, complete ...|     40839|\n",
            "|Lower class large...|     30008|\n",
            "|        Mixed rurals|     37209|\n",
            "|    Young and rising|     45361|\n",
            "|Lower class large...|     45650|\n",
            "|Traditional families|     18982|\n",
            "|Mixed apartment d...|     30093|\n",
            "|Young all america...|     27097|\n",
            "|Low income catholics|     23511|\n",
            "+--------------------+----------+\n",
            "only showing top 20 rows\n",
            "\n"
          ]
        }
      ]
    },
    {
      "cell_type": "code",
      "source": [
        "df.filter(df['Avg_Salary'] > 1000000).count()"
      ],
      "metadata": {
        "colab": {
          "base_uri": "https://localhost:8080/"
        },
        "id": "W930Z2Zd9mQp",
        "outputId": "395d89bc-2ec3-40e4-a7e5-1cf906592540"
      },
      "execution_count": 51,
      "outputs": [
        {
          "output_type": "execute_result",
          "data": {
            "text/plain": [
              "128"
            ]
          },
          "metadata": {},
          "execution_count": 51
        }
      ]
    },
    {
      "cell_type": "code",
      "source": [
        "df.filter(df['Avg_Salary'] > 1000000).show()"
      ],
      "metadata": {
        "colab": {
          "base_uri": "https://localhost:8080/"
        },
        "id": "jQj6rvrx9wh1",
        "outputId": "9dd1e67f-ef7e-440c-dcb3-7d18b36bbb78"
      },
      "execution_count": 52,
      "outputs": [
        {
          "output_type": "stream",
          "name": "stdout",
          "text": [
            "+--------------------+----------------+------------------+-----------+--------------------+----------+-----+\n",
            "|    Customer_subtype|Number_of_houses|Avg_size_household|    Avg_age|  Customer_main_type|Avg_Salary|label|\n",
            "+--------------------+----------------+------------------+-----------+--------------------+----------+-----+\n",
            "| High status seniors|               1|                 3|40-50 years|Successful hedonists|   4670288|    0|\n",
            "| High status seniors|               1|                 3|50-60 years|Successful hedonists|   9561873|    0|\n",
            "| High status seniors|               1|                 2|40-50 years|Successful hedonists|  18687005|    0|\n",
            "| High status seniors|               1|                 2|40-50 years|Successful hedonists|  24139960|    0|\n",
            "| High status seniors|               1|                 2|50-60 years|Successful hedonists|   6718606|    0|\n",
            "|High Income, expe...|               1|                 3|40-50 years|Successful hedonists|  19347139|    0|\n",
            "|High Income, expe...|               1|                 3|40-50 years|Successful hedonists|   5243902|    0|\n",
            "| High status seniors|               2|                 3|40-50 years|Successful hedonists|   6138618|    0|\n",
            "|High Income, expe...|               1|                 3|50-60 years|Successful hedonists|  24930053|    0|\n",
            "| High status seniors|               1|                 2|50-60 years|Successful hedonists|  12545905|    1|\n",
            "|High Income, expe...|               1|                 3|40-50 years|Successful hedonists|  29976435|    0|\n",
            "| High status seniors|               1|                 2|50-60 years|Successful hedonists|  24639614|    0|\n",
            "| High status seniors|               1|                 2|40-50 years|Successful hedonists|  16073966|    0|\n",
            "|High Income, expe...|               1|                 4|40-50 years|Successful hedonists|  35032441|    1|\n",
            "|High Income, expe...|               1|                 2|50-60 years|Successful hedonists|   8354410|    0|\n",
            "| High status seniors|               1|                 1|60-70 years|Successful hedonists|  20241068|    0|\n",
            "| High status seniors|               1|                 1|50-60 years|Successful hedonists|  45592572|    0|\n",
            "| High status seniors|               1|                 2|50-60 years|Successful hedonists|  10289449|    0|\n",
            "|High Income, expe...|               1|                 2|50-60 years|Successful hedonists|   5586401|    0|\n",
            "| High status seniors|               1|                 2|50-60 years|Successful hedonists|  41699271|    0|\n",
            "+--------------------+----------------+------------------+-----------+--------------------+----------+-----+\n",
            "only showing top 20 rows\n",
            "\n"
          ]
        }
      ]
    },
    {
      "cell_type": "code",
      "source": [
        "#Filter\n",
        "df.filter(df['Avg_Salary'] > 500000).filter(df['Number_of_houses'] > 2).show()"
      ],
      "metadata": {
        "colab": {
          "base_uri": "https://localhost:8080/"
        },
        "id": "oi0rm7W290Cl",
        "outputId": "57d330e1-d6a8-4250-8f9f-eafd86dbb7b7"
      },
      "execution_count": 53,
      "outputs": [
        {
          "output_type": "stream",
          "name": "stdout",
          "text": [
            "+--------------------+----------------+------------------+-----------+--------------------+----------+-----+\n",
            "|    Customer_subtype|Number_of_houses|Avg_size_household|    Avg_age|  Customer_main_type|Avg_Salary|label|\n",
            "+--------------------+----------------+------------------+-----------+--------------------+----------+-----+\n",
            "|Affluent senior a...|               3|                 2|50-60 years|Successful hedonists|    596723|    0|\n",
            "|Affluent senior a...|               3|                 2|50-60 years|Successful hedonists|    944444|    0|\n",
            "|Affluent senior a...|               3|                 2|50-60 years|Successful hedonists|    788477|    0|\n",
            "|Affluent senior a...|               3|                 2|50-60 years|Successful hedonists|    994077|    0|\n",
            "+--------------------+----------------+------------------+-----------+--------------------+----------+-----+\n",
            "\n"
          ]
        }
      ]
    },
    {
      "cell_type": "code",
      "source": [
        "#Where\n",
        "df.where((df['Avg_Salary'] > 500000) & (df['Number_of_houses'] > 2)).show()\n"
      ],
      "metadata": {
        "colab": {
          "base_uri": "https://localhost:8080/"
        },
        "id": "if7ZWMiv-EGV",
        "outputId": "ba633b96-5762-4627-9097-95ba60657c81"
      },
      "execution_count": 54,
      "outputs": [
        {
          "output_type": "stream",
          "name": "stdout",
          "text": [
            "+--------------------+----------------+------------------+-----------+--------------------+----------+-----+\n",
            "|    Customer_subtype|Number_of_houses|Avg_size_household|    Avg_age|  Customer_main_type|Avg_Salary|label|\n",
            "+--------------------+----------------+------------------+-----------+--------------------+----------+-----+\n",
            "|Affluent senior a...|               3|                 2|50-60 years|Successful hedonists|    596723|    0|\n",
            "|Affluent senior a...|               3|                 2|50-60 years|Successful hedonists|    944444|    0|\n",
            "|Affluent senior a...|               3|                 2|50-60 years|Successful hedonists|    788477|    0|\n",
            "|Affluent senior a...|               3|                 2|50-60 years|Successful hedonists|    994077|    0|\n",
            "+--------------------+----------------+------------------+-----------+--------------------+----------+-----+\n",
            "\n"
          ]
        }
      ]
    },
    {
      "cell_type": "code",
      "source": [
        "#aggregations in PySpark\n",
        "#aggregation can be broken simply into three stages, in the following order:\n",
        "# Split\n",
        "# Apply\n",
        "# Combine"
      ],
      "metadata": {
        "id": "Gilklwwn-Lbo"
      },
      "execution_count": null,
      "outputs": []
    },
    {
      "cell_type": "code",
      "source": [
        "df.groupBy('Customer_subtype').count().show()"
      ],
      "metadata": {
        "colab": {
          "base_uri": "https://localhost:8080/"
        },
        "id": "0RyGwRrz-g5Z",
        "outputId": "3c68e745-5967-46cb-8bd5-04bca73f0167"
      },
      "execution_count": 55,
      "outputs": [
        {
          "output_type": "stream",
          "name": "stdout",
          "text": [
            "+--------------------+-----+\n",
            "|    Customer_subtype|count|\n",
            "+--------------------+-----+\n",
            "|Large family, emp...|   56|\n",
            "|Religious elderly...|   47|\n",
            "|Large religious f...|  107|\n",
            "|Modern, complete ...|   93|\n",
            "|    Village families|   68|\n",
            "|Young all america...|   62|\n",
            "|Young urban have-...|    4|\n",
            "|Young seniors in ...|   22|\n",
            "|Fresh masters in ...|    2|\n",
            "|High Income, expe...|   52|\n",
            "|Lower class large...|  288|\n",
            "| Residential elderly|    6|\n",
            "|Senior cosmopolitans|    1|\n",
            "|        Mixed rurals|   67|\n",
            "|Career and childcare|   33|\n",
            "|Low income catholics|   72|\n",
            "|Mixed apartment d...|   34|\n",
            "|Seniors in apartm...|   17|\n",
            "|Middle class fami...|  122|\n",
            "|Traditional families|  129|\n",
            "+--------------------+-----+\n",
            "only showing top 20 rows\n",
            "\n"
          ]
        }
      ]
    },
    {
      "cell_type": "code",
      "source": [
        "for col in df.columns:\n",
        " if col !='Avg_Salary':\n",
        "  print(f\" Aggregation for {col}\")\n",
        "  df.groupBy(col).count().orderBy('count',ascending=False).show(truncate=False)"
      ],
      "metadata": {
        "colab": {
          "base_uri": "https://localhost:8080/"
        },
        "id": "0p49xkdE-pYl",
        "outputId": "4f18e4af-0341-4f90-ed72-d9061dd6fefa"
      },
      "execution_count": 56,
      "outputs": [
        {
          "output_type": "stream",
          "name": "stdout",
          "text": [
            " Aggregation for Customer_subtype\n",
            "+------------------------------------------+-----+\n",
            "|Customer_subtype                          |count|\n",
            "+------------------------------------------+-----+\n",
            "|Lower class large families                |288  |\n",
            "|Traditional families                      |129  |\n",
            "|Middle class families                     |122  |\n",
            "|Large religious families                  |107  |\n",
            "|Modern, complete families                 |93   |\n",
            "|Couples with teens 'Married with children'|83   |\n",
            "|Young and rising                          |78   |\n",
            "|High status seniors                       |76   |\n",
            "|Low income catholics                      |72   |\n",
            "|Mixed seniors                             |71   |\n",
            "|Village families                          |68   |\n",
            "|Mixed rurals                              |67   |\n",
            "|Young all american family                 |62   |\n",
            "|Stable family                             |62   |\n",
            "|Large family, employed child              |56   |\n",
            "|Young, low educated                       |56   |\n",
            "|Family starters                           |55   |\n",
            "|High Income, expensive child              |52   |\n",
            "|Religious elderly singles                 |47   |\n",
            "|Mixed small town dwellers                 |47   |\n",
            "+------------------------------------------+-----+\n",
            "only showing top 20 rows\n",
            "\n",
            " Aggregation for Number_of_houses\n",
            "+----------------+-----+\n",
            "|Number_of_houses|count|\n",
            "+----------------+-----+\n",
            "|1               |1808 |\n",
            "|2               |178  |\n",
            "|3               |12   |\n",
            "|5               |1    |\n",
            "|10              |1    |\n",
            "+----------------+-----+\n",
            "\n",
            " Aggregation for Avg_size_household\n",
            "+------------------+-----+\n",
            "|Avg_size_household|count|\n",
            "+------------------+-----+\n",
            "|3                 |900  |\n",
            "|2                 |730  |\n",
            "|4                 |255  |\n",
            "|1                 |94   |\n",
            "|5                 |21   |\n",
            "+------------------+-----+\n",
            "\n",
            " Aggregation for Avg_age\n",
            "+-----------+-----+\n",
            "|Avg_age    |count|\n",
            "+-----------+-----+\n",
            "|40-50 years|1028 |\n",
            "|30-40 years|496  |\n",
            "|50-60 years|373  |\n",
            "|60-70 years|64   |\n",
            "|20-30 years|31   |\n",
            "|70-80 years|8    |\n",
            "+-----------+-----+\n",
            "\n",
            " Aggregation for Customer_main_type\n",
            "+---------------------+-----+\n",
            "|Customer_main_type   |count|\n",
            "+---------------------+-----+\n",
            "|Family with grown ups|542  |\n",
            "|Average Family       |308  |\n",
            "|Conservative families|236  |\n",
            "|Retired and Religious|202  |\n",
            "|Successful hedonists |194  |\n",
            "|Living well          |178  |\n",
            "|Driven Growers       |172  |\n",
            "|Farmers              |93   |\n",
            "|Cruising Seniors     |60   |\n",
            "|Career Loners        |15   |\n",
            "+---------------------+-----+\n",
            "\n",
            " Aggregation for label\n",
            "+-----+-----+\n",
            "|label|count|\n",
            "+-----+-----+\n",
            "|0    |1879 |\n",
            "|1    |121  |\n",
            "+-----+-----+\n",
            "\n"
          ]
        }
      ]
    },
    {
      "cell_type": "code",
      "source": [
        "#groupings F refers to the Spark sql function\n",
        "df.groupBy('Customer_main_type').agg(F.mean('Avg_Salary')).show()"
      ],
      "metadata": {
        "colab": {
          "base_uri": "https://localhost:8080/"
        },
        "id": "lfDttizF-4ZP",
        "outputId": "c2023a60-5f8b-4dc2-da7d-bdcb1a8df53f"
      },
      "execution_count": 57,
      "outputs": [
        {
          "output_type": "stream",
          "name": "stdout",
          "text": [
            "+--------------------+--------------------+\n",
            "|  Customer_main_type|     avg(Avg_Salary)|\n",
            "+--------------------+--------------------+\n",
            "|             Farmers|  30209.333333333332|\n",
            "|       Career Loners|             32272.6|\n",
            "|Retired and Relig...|   27338.80693069307|\n",
            "|Successful hedonists|1.6278923510309279E7|\n",
            "|         Living well|  31194.044943820223|\n",
            "|      Average Family|  104256.62337662338|\n",
            "|    Cruising Seniors|  28870.333333333332|\n",
            "|Conservative fami...|  29504.419491525423|\n",
            "|      Driven Growers|   30769.04069767442|\n",
            "|Family with grown...|  28114.191881918818|\n",
            "+--------------------+--------------------+\n",
            "\n"
          ]
        }
      ]
    },
    {
      "cell_type": "code",
      "source": [
        "df.groupBy('Customer_main_type').agg(F.max('Avg_Salary')).show()\n"
      ],
      "metadata": {
        "colab": {
          "base_uri": "https://localhost:8080/"
        },
        "id": "TeSgquR6_PpM",
        "outputId": "03157969-6e15-433b-f874-5bc57cfc4666"
      },
      "execution_count": 58,
      "outputs": [
        {
          "output_type": "stream",
          "name": "stdout",
          "text": [
            "+--------------------+---------------+\n",
            "|  Customer_main_type|max(Avg_Salary)|\n",
            "+--------------------+---------------+\n",
            "|             Farmers|          49965|\n",
            "|       Career Loners|          49903|\n",
            "|Retired and Relig...|          49564|\n",
            "|Successful hedonists|       48919896|\n",
            "|         Living well|          49816|\n",
            "|      Average Family|         991838|\n",
            "|    Cruising Seniors|          49526|\n",
            "|Conservative fami...|          49965|\n",
            "|      Driven Growers|          49932|\n",
            "|Family with grown...|          49901|\n",
            "+--------------------+---------------+\n",
            "\n"
          ]
        }
      ]
    },
    {
      "cell_type": "code",
      "source": [
        "df.groupBy('Customer_main_type').agg(F.min('Avg_Salary')).show()"
      ],
      "metadata": {
        "colab": {
          "base_uri": "https://localhost:8080/"
        },
        "id": "y7dKl4UD_XbH",
        "outputId": "ea1fedf2-64e1-4b6c-bb61-389a3a1aed79"
      },
      "execution_count": 59,
      "outputs": [
        {
          "output_type": "stream",
          "name": "stdout",
          "text": [
            "+--------------------+---------------+\n",
            "|  Customer_main_type|min(Avg_Salary)|\n",
            "+--------------------+---------------+\n",
            "|             Farmers|          10469|\n",
            "|       Career Loners|          13246|\n",
            "|Retired and Relig...|           1361|\n",
            "|Successful hedonists|          12705|\n",
            "|         Living well|          10418|\n",
            "|      Average Family|          10506|\n",
            "|    Cruising Seniors|          10100|\n",
            "|Conservative fami...|          10179|\n",
            "|      Driven Growers|          10257|\n",
            "|Family with grown...|           1502|\n",
            "+--------------------+---------------+\n",
            "\n"
          ]
        }
      ]
    },
    {
      "cell_type": "code",
      "source": [
        "df.groupBy('Customer_main_type').agg(F.sum('Avg_Salary')).show()"
      ],
      "metadata": {
        "colab": {
          "base_uri": "https://localhost:8080/"
        },
        "id": "9DlVSD-H_iZN",
        "outputId": "55906680-d3de-45d8-d86a-446c1af3c775"
      },
      "execution_count": 60,
      "outputs": [
        {
          "output_type": "stream",
          "name": "stdout",
          "text": [
            "+--------------------+---------------+\n",
            "|  Customer_main_type|sum(Avg_Salary)|\n",
            "+--------------------+---------------+\n",
            "|             Farmers|        2809468|\n",
            "|       Career Loners|         484089|\n",
            "|Retired and Relig...|        5522439|\n",
            "|Successful hedonists|     3158111161|\n",
            "|         Living well|        5552540|\n",
            "|      Average Family|       32111040|\n",
            "|    Cruising Seniors|        1732220|\n",
            "|Conservative fami...|        6963043|\n",
            "|      Driven Growers|        5292275|\n",
            "|Family with grown...|       15237892|\n",
            "+--------------------+---------------+\n",
            "\n"
          ]
        }
      ]
    },
    {
      "cell_type": "code",
      "source": [
        "df.sort(\"Avg_Salary\", ascending=False).show()"
      ],
      "metadata": {
        "colab": {
          "base_uri": "https://localhost:8080/"
        },
        "id": "YtLC17BH_rDt",
        "outputId": "f88dc794-e7d3-49a7-fc2e-de74364bb2e1"
      },
      "execution_count": 61,
      "outputs": [
        {
          "output_type": "stream",
          "name": "stdout",
          "text": [
            "+--------------------+----------------+------------------+-----------+--------------------+----------+-----+\n",
            "|    Customer_subtype|Number_of_houses|Avg_size_household|    Avg_age|  Customer_main_type|Avg_Salary|label|\n",
            "+--------------------+----------------+------------------+-----------+--------------------+----------+-----+\n",
            "| High status seniors|               1|                 2|60-70 years|Successful hedonists|  48919896|    0|\n",
            "|High Income, expe...|               1|                 2|50-60 years|Successful hedonists|  48177970|    0|\n",
            "|High Income, expe...|               1|                 2|50-60 years|Successful hedonists|  48069548|    1|\n",
            "|High Income, expe...|               1|                 3|40-50 years|Successful hedonists|  46911924|    0|\n",
            "| High status seniors|               1|                 3|40-50 years|Successful hedonists|  46614009|    0|\n",
            "|High Income, expe...|               1|                 3|30-40 years|Successful hedonists|  45952441|    0|\n",
            "|High Income, expe...|               1|                 3|40-50 years|Successful hedonists|  45864609|    1|\n",
            "| High status seniors|               1|                 1|50-60 years|Successful hedonists|  45592572|    0|\n",
            "| High status seniors|               1|                 2|50-60 years|Successful hedonists|  45170899|    0|\n",
            "|High Income, expe...|               1|                 3|50-60 years|Successful hedonists|  44843830|    0|\n",
            "| High status seniors|               1|                 2|50-60 years|Successful hedonists|  43230349|    0|\n",
            "| High status seniors|               1|                 5|40-50 years|Successful hedonists|  43181830|    0|\n",
            "| High status seniors|               1|                 1|30-40 years|Successful hedonists|  42631926|    0|\n",
            "| High status seniors|               1|                 2|50-60 years|Successful hedonists|  41919020|    0|\n",
            "| High status seniors|               1|                 2|50-60 years|Successful hedonists|  41699271|    0|\n",
            "| High status seniors|               1|                 2|40-50 years|Successful hedonists|  41398953|    0|\n",
            "|High Income, expe...|               1|                 3|40-50 years|Successful hedonists|  41269615|    1|\n",
            "| High status seniors|               1|                 2|50-60 years|Successful hedonists|  41192397|    1|\n",
            "| High status seniors|               1|                 2|40-50 years|Successful hedonists|  40564335|    0|\n",
            "| High status seniors|               1|                 2|50-60 years|Successful hedonists|  40453887|    0|\n",
            "+--------------------+----------------+------------------+-----------+--------------------+----------+-----+\n",
            "only showing top 20 rows\n",
            "\n"
          ]
        }
      ]
    },
    {
      "cell_type": "code",
      "source": [
        "df.groupBy('Customer_subtype').agg(F.avg('Avg_Salary').alias('mean_salary')).orderBy('mean_salary',ascending=False).show(50,False)"
      ],
      "metadata": {
        "colab": {
          "base_uri": "https://localhost:8080/"
        },
        "id": "pCMznSxj_yas",
        "outputId": "cd93f0b1-90a6-463d-b1be-0a9e990e86d4"
      },
      "execution_count": 62,
      "outputs": [
        {
          "output_type": "stream",
          "name": "stdout",
          "text": [
            "+------------------------------------------+--------------------+\n",
            "|Customer_subtype                          |mean_salary         |\n",
            "+------------------------------------------+--------------------+\n",
            "|High status seniors                       |2.507677857894737E7 |\n",
            "|High Income, expensive child              |2.3839817807692308E7|\n",
            "|Affluent young families                   |662068.7777777778   |\n",
            "|Affluent senior apartments                |653638.8235294118   |\n",
            "|Senior cosmopolitans                      |49903.0             |\n",
            "|Students in apartments                    |35532.142857142855  |\n",
            "|Large family farms                        |33135.61538461538   |\n",
            "|Young, low educated                       |33072.21428571428   |\n",
            "|Large family, employed child              |32867.857142857145  |\n",
            "|Suburban youth                            |32558.0             |\n",
            "|Village families                          |32449.470588235294  |\n",
            "|Middle class families                     |31579.385245901638  |\n",
            "|Modern, complete families                 |31576.0             |\n",
            "|Etnically diverse                         |31572.0             |\n",
            "|Young and rising                          |30795.897435897437  |\n",
            "|Mixed seniors                             |30759.267605633802  |\n",
            "|Very Important Provincials                |30548.40625         |\n",
            "|Religious elderly singles                 |30540.59574468085   |\n",
            "|Family starters                           |30376.2             |\n",
            "|Career and childcare                      |30110.939393939392  |\n",
            "|Young seniors in the city                 |30105.136363636364  |\n",
            "|Seniors in apartments                     |30090.882352941175  |\n",
            "|Large religious families                  |29652.196261682242  |\n",
            "|Stable family                             |29619.032258064515  |\n",
            "|Mixed apartment dwellers                  |29587.647058823528  |\n",
            "|Young all american family                 |29563.3064516129    |\n",
            "|Porchless seniors: no front yard          |29509.827586206895  |\n",
            "|Traditional families                      |29381.84496124031   |\n",
            "|Mixed rurals                              |29073.761194029852  |\n",
            "|Mixed small town dwellers                 |28982.106382978724  |\n",
            "|Residential elderly                       |28866.166666666668  |\n",
            "|Couples with teens 'Married with children'|28155.807228915663  |\n",
            "|Fresh masters in the city                 |27645.0             |\n",
            "|Dinki's (double income no kids)           |26231.117647058825  |\n",
            "|Lower class large families                |26012.628472222223  |\n",
            "|Young urban have-nots                     |25751.0             |\n",
            "|Own home elderly                          |25677.666666666668  |\n",
            "|Single youth                              |24403.25            |\n",
            "|Low income catholics                      |21713.777777777777  |\n",
            "+------------------------------------------+--------------------+\n",
            "\n"
          ]
        }
      ]
    },
    {
      "cell_type": "code",
      "source": [
        "df.groupBy('Customer_subtype').agg(F.max('Avg_Salary').alias('max_salary')).orderBy('max_salary',ascending=False).show()"
      ],
      "metadata": {
        "colab": {
          "base_uri": "https://localhost:8080/"
        },
        "id": "8muSJaE8_3-8",
        "outputId": "2ae56093-fae9-4d3d-978e-5def10358118"
      },
      "execution_count": 63,
      "outputs": [
        {
          "output_type": "stream",
          "name": "stdout",
          "text": [
            "+--------------------+----------+\n",
            "|    Customer_subtype|max_salary|\n",
            "+--------------------+----------+\n",
            "| High status seniors|  48919896|\n",
            "|High Income, expe...|  48177970|\n",
            "|Affluent senior a...|    994077|\n",
            "|Affluent young fa...|    991838|\n",
            "|Traditional families|     49965|\n",
            "|  Large family farms|     49965|\n",
            "|Middle class fami...|     49932|\n",
            "|Senior cosmopolitans|     49903|\n",
            "|Mixed small town ...|     49901|\n",
            "|Lower class large...|     49899|\n",
            "|       Mixed seniors|     49876|\n",
            "|    Young and rising|     49816|\n",
            "|        Mixed rurals|     49785|\n",
            "|Modern, complete ...|     49729|\n",
            "| Young, low educated|     49626|\n",
            "|Mixed apartment d...|     49621|\n",
            "|     Family starters|     49602|\n",
            "|    Village families|     49575|\n",
            "|Religious elderly...|     49564|\n",
            "|       Stable family|     49548|\n",
            "+--------------------+----------+\n",
            "only showing top 20 rows\n",
            "\n"
          ]
        }
      ]
    },
    {
      "cell_type": "code",
      "source": [
        "#we can use the collect functionality in PySpark\n",
        "#• Collect List\n",
        "# Collect Set"
      ],
      "metadata": {
        "id": "1uP5i1SUABOv"
      },
      "execution_count": null,
      "outputs": []
    },
    {
      "cell_type": "code",
      "source": [
        "df.groupby(\"Customer_subtype\").agg(F.collect_set(\"Number_of_houses\")).show()"
      ],
      "metadata": {
        "colab": {
          "base_uri": "https://localhost:8080/"
        },
        "id": "x8CZovxzATKY",
        "outputId": "a1b9963a-a2dc-462f-b38e-17b59d578931"
      },
      "execution_count": 64,
      "outputs": [
        {
          "output_type": "stream",
          "name": "stdout",
          "text": [
            "+--------------------+-----------------------------+\n",
            "|    Customer_subtype|collect_set(Number_of_houses)|\n",
            "+--------------------+-----------------------------+\n",
            "|Large family, emp...|                       [1, 2]|\n",
            "|Religious elderly...|                       [1, 2]|\n",
            "|Large religious f...|                       [1, 2]|\n",
            "|Modern, complete ...|                       [1, 2]|\n",
            "|    Village families|                       [1, 2]|\n",
            "|Young all america...|                       [1, 2]|\n",
            "|Young urban have-...|                       [1, 2]|\n",
            "|Young seniors in ...|                    [1, 2, 3]|\n",
            "|Fresh masters in ...|                          [1]|\n",
            "|High Income, expe...|                          [1]|\n",
            "|Lower class large...|                       [1, 2]|\n",
            "| Residential elderly|                    [1, 2, 3]|\n",
            "|Senior cosmopolitans|                          [3]|\n",
            "|        Mixed rurals|                          [1]|\n",
            "|Career and childcare|                       [1, 2]|\n",
            "|Low income catholics|                          [1]|\n",
            "|Mixed apartment d...|                    [1, 2, 3]|\n",
            "|Seniors in apartm...|                       [1, 2]|\n",
            "|Middle class fami...|                       [1, 2]|\n",
            "|Traditional families|                       [1, 2]|\n",
            "+--------------------+-----------------------------+\n",
            "only showing top 20 rows\n",
            "\n"
          ]
        }
      ]
    },
    {
      "cell_type": "code",
      "source": [
        "df.groupby(\"Customer_subtype\").agg(F.collect_list(\"Number_of_houses\")).show()\n"
      ],
      "metadata": {
        "colab": {
          "base_uri": "https://localhost:8080/"
        },
        "id": "LAZlxRg9AbRN",
        "outputId": "ce48cece-9418-4431-894b-a8ff23c98437"
      },
      "execution_count": 65,
      "outputs": [
        {
          "output_type": "stream",
          "name": "stdout",
          "text": [
            "+--------------------+------------------------------+\n",
            "|    Customer_subtype|collect_list(Number_of_houses)|\n",
            "+--------------------+------------------------------+\n",
            "|Large family, emp...|          [2, 1, 2, 1, 2, 1...|\n",
            "|Religious elderly...|          [1, 1, 1, 1, 1, 1...|\n",
            "|Large religious f...|          [2, 1, 1, 2, 1, 1...|\n",
            "|Modern, complete ...|          [1, 1, 2, 1, 1, 1...|\n",
            "|    Village families|          [1, 1, 1, 1, 1, 1...|\n",
            "|Young all america...|          [1, 1, 2, 2, 1, 1...|\n",
            "|Young urban have-...|                  [1, 2, 1, 1]|\n",
            "|Young seniors in ...|          [1, 1, 1, 1, 1, 2...|\n",
            "|Fresh masters in ...|                        [1, 1]|\n",
            "|High Income, expe...|          [1, 1, 1, 1, 1, 1...|\n",
            "|Lower class large...|          [1, 1, 1, 1, 1, 1...|\n",
            "| Residential elderly|            [3, 1, 1, 3, 2, 1]|\n",
            "|Senior cosmopolitans|                           [3]|\n",
            "|        Mixed rurals|          [1, 1, 1, 1, 1, 1...|\n",
            "|Career and childcare|          [2, 1, 1, 1, 1, 1...|\n",
            "|Low income catholics|          [1, 1, 1, 1, 1, 1...|\n",
            "|Mixed apartment d...|          [2, 3, 1, 1, 1, 1...|\n",
            "|Seniors in apartm...|          [2, 2, 2, 2, 1, 2...|\n",
            "|Middle class fami...|          [1, 1, 2, 1, 1, 1...|\n",
            "|Traditional families|          [1, 1, 1, 1, 1, 1...|\n",
            "+--------------------+------------------------------+\n",
            "only showing top 20 rows\n",
            "\n"
          ]
        }
      ]
    },
    {
      "cell_type": "code",
      "source": [
        "df=df.withColumn('constant',F.lit('finance'))\n",
        "df"
      ],
      "metadata": {
        "colab": {
          "base_uri": "https://localhost:8080/"
        },
        "id": "qfxhLY9tAiNy",
        "outputId": "8633a4f4-cfe0-4c7c-c4c6-8aeb03a6483b"
      },
      "execution_count": 67,
      "outputs": [
        {
          "output_type": "execute_result",
          "data": {
            "text/plain": [
              "DataFrame[Customer_subtype: string, Number_of_houses: int, Avg_size_household: int, Avg_age: string, Customer_main_type: string, Avg_Salary: int, label: int, constant: string]"
            ]
          },
          "metadata": {},
          "execution_count": 67
        }
      ]
    },
    {
      "cell_type": "code",
      "source": [
        "df.select('Customer_subtype','constant').show()"
      ],
      "metadata": {
        "colab": {
          "base_uri": "https://localhost:8080/"
        },
        "id": "q2XnGhaEAu7b",
        "outputId": "683c76f0-b540-4141-caa1-ce27ecb07dc5"
      },
      "execution_count": 68,
      "outputs": [
        {
          "output_type": "stream",
          "name": "stdout",
          "text": [
            "+--------------------+--------+\n",
            "|    Customer_subtype|constant|\n",
            "+--------------------+--------+\n",
            "|Lower class large...| finance|\n",
            "|Mixed small town ...| finance|\n",
            "|Mixed small town ...| finance|\n",
            "|Modern, complete ...| finance|\n",
            "|  Large family farms| finance|\n",
            "|    Young and rising| finance|\n",
            "|Large religious f...| finance|\n",
            "|Lower class large...| finance|\n",
            "|Lower class large...| finance|\n",
            "|     Family starters| finance|\n",
            "|       Stable family| finance|\n",
            "|Modern, complete ...| finance|\n",
            "|Lower class large...| finance|\n",
            "|        Mixed rurals| finance|\n",
            "|    Young and rising| finance|\n",
            "|Lower class large...| finance|\n",
            "|Traditional families| finance|\n",
            "|Mixed apartment d...| finance|\n",
            "|Young all america...| finance|\n",
            "|Low income catholics| finance|\n",
            "+--------------------+--------+\n",
            "only showing top 20 rows\n",
            "\n"
          ]
        }
      ]
    },
    {
      "cell_type": "code",
      "source": [
        "#User-Defined Functions (UDFs)\n",
        "from pyspark.sql.functions import udf\n",
        "df.groupby(\"Avg_age\").count().show()"
      ],
      "metadata": {
        "colab": {
          "base_uri": "https://localhost:8080/"
        },
        "id": "fK0gT1_IA3ni",
        "outputId": "9c534b32-f8dd-4250-f89c-dfa81d91bc61"
      },
      "execution_count": 70,
      "outputs": [
        {
          "output_type": "stream",
          "name": "stdout",
          "text": [
            "+-----------+-----+\n",
            "|    Avg_age|count|\n",
            "+-----------+-----+\n",
            "|70-80 years|    8|\n",
            "|50-60 years|  373|\n",
            "|30-40 years|  496|\n",
            "|20-30 years|   31|\n",
            "|60-70 years|   64|\n",
            "|40-50 years| 1028|\n",
            "+-----------+-----+\n",
            "\n"
          ]
        }
      ]
    },
    {
      "cell_type": "code",
      "source": [
        "def age_category(age):\n",
        " if age == \"20-30 years\":\n",
        "  return \"Young\"\n",
        " elif age== \"30-40 years\":\n",
        "  return \"Mid Aged\"\n",
        " elif ((age== \"40-50 years\") or (age== \"50-60 years\")) :\n",
        "  return \"Old\"\n",
        " else:\n",
        "  return \"Very Old\""
      ],
      "metadata": {
        "id": "N6qkycK2BMeR"
      },
      "execution_count": 71,
      "outputs": []
    },
    {
      "cell_type": "code",
      "source": [
        "age_udf=udf(age_category,StringType())\n",
        "df=df.withColumn('age_category',age_udf(df['Avg_age']))\n",
        "df.select('Avg_age','age_category').show()"
      ],
      "metadata": {
        "colab": {
          "base_uri": "https://localhost:8080/"
        },
        "id": "nExI7EpjBYXB",
        "outputId": "679a1fe9-1a1c-45ca-8a14-c399d789a61c"
      },
      "execution_count": 74,
      "outputs": [
        {
          "output_type": "stream",
          "name": "stdout",
          "text": [
            "+-----------+------------+\n",
            "|    Avg_age|age_category|\n",
            "+-----------+------------+\n",
            "|30-40 years|    Mid Aged|\n",
            "|30-40 years|    Mid Aged|\n",
            "|30-40 years|    Mid Aged|\n",
            "|40-50 years|         Old|\n",
            "|30-40 years|    Mid Aged|\n",
            "|20-30 years|       Young|\n",
            "|30-40 years|    Mid Aged|\n",
            "|40-50 years|         Old|\n",
            "|50-60 years|         Old|\n",
            "|40-50 years|         Old|\n",
            "|40-50 years|         Old|\n",
            "|40-50 years|         Old|\n",
            "|40-50 years|         Old|\n",
            "|40-50 years|         Old|\n",
            "|30-40 years|    Mid Aged|\n",
            "|40-50 years|         Old|\n",
            "|40-50 years|         Old|\n",
            "|40-50 years|         Old|\n",
            "|30-40 years|    Mid Aged|\n",
            "|50-60 years|         Old|\n",
            "+-----------+------------+\n",
            "only showing top 20 rows\n",
            "\n"
          ]
        }
      ]
    },
    {
      "cell_type": "code",
      "source": [
        "df.groupby(\"age_category\").count().show()"
      ],
      "metadata": {
        "colab": {
          "base_uri": "https://localhost:8080/"
        },
        "id": "TxjbPBTZBnox",
        "outputId": "088d8371-c39f-4af6-effd-e5104f6b6247"
      },
      "execution_count": 75,
      "outputs": [
        {
          "output_type": "stream",
          "name": "stdout",
          "text": [
            "+------------+-----+\n",
            "|age_category|count|\n",
            "+------------+-----+\n",
            "|    Mid Aged|  496|\n",
            "|    Very Old|   72|\n",
            "|         Old| 1401|\n",
            "|       Young|   31|\n",
            "+------------+-----+\n",
            "\n"
          ]
        }
      ]
    },
    {
      "cell_type": "code",
      "source": [
        "#Pandas UDF\n",
        "df.select('Avg_Salary').summary().show()"
      ],
      "metadata": {
        "colab": {
          "base_uri": "https://localhost:8080/"
        },
        "id": "JGxU5YLOBuM0",
        "outputId": "3d2febcf-9aa6-43ac-bfd2-62c34aed5cb9"
      },
      "execution_count": 76,
      "outputs": [
        {
          "output_type": "stream",
          "name": "stdout",
          "text": [
            "+-------+-----------------+\n",
            "|summary|       Avg_Salary|\n",
            "+-------+-----------------+\n",
            "|  count|             2000|\n",
            "|   mean|     1616908.0835|\n",
            "| stddev|6822647.757312146|\n",
            "|    min|             1361|\n",
            "|    25%|            20315|\n",
            "|    50%|            31421|\n",
            "|    75%|            42949|\n",
            "|    max|         48919896|\n",
            "+-------+-----------------+\n",
            "\n"
          ]
        }
      ]
    },
    {
      "cell_type": "code",
      "source": [
        "min_sal=1361\n",
        "max_sal=48919896\n"
      ],
      "metadata": {
        "id": "XTMr5R32B6Tg"
      },
      "execution_count": 77,
      "outputs": []
    },
    {
      "cell_type": "code",
      "source": [
        "from pyspark.sql.functions import pandas_udf,PandasUDFType"
      ],
      "metadata": {
        "id": "Jz5E5ZZNCI-q"
      },
      "execution_count": 78,
      "outputs": []
    },
    {
      "cell_type": "code",
      "source": [
        "def scaled_salary(salary):\n",
        " scaled_sal=(salary-min_sal)/(max_sal-min_sal)\n",
        " return scaled_sal\n",
        ""
      ],
      "metadata": {
        "id": "_hqgxzB4COQo"
      },
      "execution_count": 81,
      "outputs": []
    },
    {
      "cell_type": "code",
      "source": [
        "scaling_udf = pandas_udf(scaled_salary, DoubleType())\n",
        "df.withColumn(\"scaled_salary\",scaling_udf(df['Avg_Salary'])).show(10,False)"
      ],
      "metadata": {
        "colab": {
          "base_uri": "https://localhost:8080/"
        },
        "id": "9hEjq5B1Cby2",
        "outputId": "e65df779-9eef-4d58-c74a-d231b91720cf"
      },
      "execution_count": 83,
      "outputs": [
        {
          "output_type": "stream",
          "name": "stdout",
          "text": [
            "+--------------------------+----------------+------------------+-----------+---------------------+----------+-----+--------+------------+---------------------+\n",
            "|Customer_subtype          |Number_of_houses|Avg_size_household|Avg_age    |Customer_main_type   |Avg_Salary|label|constant|age_category|scaled_salary        |\n",
            "+--------------------------+----------------+------------------+-----------+---------------------+----------+-----+--------+------------+---------------------+\n",
            "|Lower class large families|1               |3                 |30-40 years|Family with grown ups|44905     |0    |finance |Mid Aged    |8.901329526732557E-4 |\n",
            "|Mixed small town dwellers |1               |2                 |30-40 years|Family with grown ups|37575     |0    |finance |Mid Aged    |7.40291997705982E-4  |\n",
            "|Mixed small town dwellers |1               |2                 |30-40 years|Family with grown ups|27915     |0    |finance |Mid Aged    |5.42820834679534E-4  |\n",
            "|Modern, complete families |1               |3                 |40-50 years|Average Family       |19504     |0    |finance |Old         |3.708819162307293E-4 |\n",
            "|Large family farms        |1               |4                 |30-40 years|Farmers              |34943     |0    |finance |Mid Aged    |6.864882605335584E-4 |\n",
            "|Young and rising          |1               |2                 |20-30 years|Living well          |13064     |0    |finance |Young       |2.3923447421309735E-4|\n",
            "|Large religious families  |2               |3                 |30-40 years|Conservative families|29090     |0    |finance |Mid Aged    |5.668403602029373E-4 |\n",
            "|Lower class large families|1               |2                 |40-50 years|Family with grown ups|6895      |0    |finance |Old         |1.1312685467788436E-4|\n",
            "|Lower class large families|1               |2                 |50-60 years|Family with grown ups|35497     |0    |finance |Old         |6.978132112909759E-4 |\n",
            "|Family starters           |2               |3                 |40-50 years|Average Family       |30800     |0    |finance |Old         |6.017964356455073E-4 |\n",
            "+--------------------------+----------------+------------------+-----------+---------------------+----------+-----+--------+------------+---------------------+\n",
            "only showing top 10 rows\n",
            "\n"
          ]
        }
      ]
    },
    {
      "cell_type": "code",
      "source": [
        "#Joins\n",
        "region_data = spark.createDataFrame([('Family with grown ups','PN'),\n",
        "                                     ('Driven Growers','GJ'),\n",
        " ('Conservative families','DD'),\n",
        " ('Cruising Seniors','DL'),\n",
        " ('Average Family ','MN'),\n",
        " ('Living well','KA'),\n",
        " ('Successful hedonists','JH'),\n",
        " ('Retired and Religious','AX'),\n",
        " ('Career Loners','HY'),('Farmers','JH')],\n",
        "schema=StructType().add(\"Customer_main_type\",\"string\").add(\"Region Code\",\"string\"))"
      ],
      "metadata": {
        "id": "xomJ1BQ9CkwB"
      },
      "execution_count": 84,
      "outputs": []
    },
    {
      "cell_type": "code",
      "source": [
        "region_data.show()"
      ],
      "metadata": {
        "colab": {
          "base_uri": "https://localhost:8080/"
        },
        "id": "CWGw7zZKDRfJ",
        "outputId": "bb5d4bf5-b470-45f4-85b7-c9f4ffaf020f"
      },
      "execution_count": 85,
      "outputs": [
        {
          "output_type": "stream",
          "name": "stdout",
          "text": [
            "+--------------------+-----------+\n",
            "|  Customer_main_type|Region Code|\n",
            "+--------------------+-----------+\n",
            "|Family with grown...|         PN|\n",
            "|      Driven Growers|         GJ|\n",
            "|Conservative fami...|         DD|\n",
            "|    Cruising Seniors|         DL|\n",
            "|     Average Family |         MN|\n",
            "|         Living well|         KA|\n",
            "|Successful hedonists|         JH|\n",
            "|Retired and Relig...|         AX|\n",
            "|       Career Loners|         HY|\n",
            "|             Farmers|         JH|\n",
            "+--------------------+-----------+\n",
            "\n"
          ]
        }
      ]
    },
    {
      "cell_type": "code",
      "source": [
        "new_df=df.join(region_data,on='Customer_main_type')\n",
        "new_df.groupby(\"Region Code\").count().show()"
      ],
      "metadata": {
        "colab": {
          "base_uri": "https://localhost:8080/"
        },
        "id": "HGdQXG9KDUqA",
        "outputId": "67832254-9656-4abb-bcd6-edf6cd087ffd"
      },
      "execution_count": 88,
      "outputs": [
        {
          "output_type": "stream",
          "name": "stdout",
          "text": [
            "+-----------+-----+\n",
            "|Region Code|count|\n",
            "+-----------+-----+\n",
            "|         DD|  236|\n",
            "|         DL|   60|\n",
            "|         GJ|  172|\n",
            "|         PN|  542|\n",
            "|         JH|  287|\n",
            "|         HY|   15|\n",
            "|         KA|  178|\n",
            "|         AX|  202|\n",
            "+-----------+-----+\n",
            "\n"
          ]
        }
      ]
    },
    {
      "cell_type": "code",
      "source": [
        "#Pivoting\n",
        "df.groupBy('Customer_main_type').pivot('Avg_age').sum('Avg_Salary').fillna(0).show()"
      ],
      "metadata": {
        "colab": {
          "base_uri": "https://localhost:8080/"
        },
        "id": "Q7oMyuKbD35P",
        "outputId": "ab11d02a-1992-4289-a618-af1dda03de58"
      },
      "execution_count": 89,
      "outputs": [
        {
          "output_type": "stream",
          "name": "stdout",
          "text": [
            "+--------------------+-----------+-----------+-----------+-----------+-----------+-----------+\n",
            "|  Customer_main_type|20-30 years|30-40 years|40-50 years|50-60 years|60-70 years|70-80 years|\n",
            "+--------------------+-----------+-----------+-----------+-----------+-----------+-----------+\n",
            "|             Farmers|          0|     462027|    2031235|     316206|          0|          0|\n",
            "|       Career Loners|     143998|     176639|      25701|     105193|      32558|          0|\n",
            "|Retired and Relig...|     126350|     336631|    2975266|    1687711|     335357|      61124|\n",
            "|Successful hedonists|      42261|  171278764| 1223362814| 1563071675|  200340129|      15518|\n",
            "|         Living well|     460528|    2965303|    1795405|     331304|          0|          0|\n",
            "|      Average Family|          0|   23682805|    7789464|     412490|     226281|          0|\n",
            "|    Cruising Seniors|          0|      43302|     303601|     529354|     716425|     139538|\n",
            "|Conservative fami...|      69390|    2381485|    3449782|     915954|     146432|          0|\n",
            "|      Driven Growers|          0|    1376260|    3407807|     424272|      83936|          0|\n",
            "|Family with grown...|      16406|    2620378|    9132414|    3295378|     162820|      10496|\n",
            "+--------------------+-----------+-----------+-----------+-----------+-----------+-----------+\n",
            "\n"
          ]
        }
      ]
    },
    {
      "cell_type": "code",
      "source": [
        "df.groupBy('Customer_main_type').pivot('label').sum('Avg_Salary').fillna(0).show()"
      ],
      "metadata": {
        "colab": {
          "base_uri": "https://localhost:8080/"
        },
        "id": "lZlEq5VNEFdn",
        "outputId": "221dfe53-05f3-497a-ee98-438c8e36e9d4"
      },
      "execution_count": 91,
      "outputs": [
        {
          "output_type": "stream",
          "name": "stdout",
          "text": [
            "+--------------------+----------+---------+\n",
            "|  Customer_main_type|         0|        1|\n",
            "+--------------------+----------+---------+\n",
            "|             Farmers|   2734832|    74636|\n",
            "|       Career Loners|    484089|        0|\n",
            "|Retired and Relig...|   5328410|   194029|\n",
            "|Successful hedonists|2720381462|437729699|\n",
            "|         Living well|   5453384|    99156|\n",
            "|      Average Family|  26036999|  6074041|\n",
            "|    Cruising Seniors|   1675841|    56379|\n",
            "|Conservative fami...|   6595027|   368016|\n",
            "|      Driven Growers|   4492465|   799810|\n",
            "|Family with grown...|  14394094|   843798|\n",
            "+--------------------+----------+---------+\n",
            "\n"
          ]
        }
      ]
    },
    {
      "cell_type": "code",
      "source": [
        "#Window Functions or Windowed Aggregates\n",
        "# PySpark supports three types of window functions:\n",
        "# Aggregations\n",
        "# Ranking\n",
        "# Analytics"
      ],
      "metadata": {
        "id": "SrxM_pLcELs5"
      },
      "execution_count": null,
      "outputs": []
    },
    {
      "cell_type": "code",
      "source": [
        "from pyspark.sql.window import Window\n",
        "from pyspark.sql.functions import col,row_number"
      ],
      "metadata": {
        "id": "QaXZ34q9Ep1F"
      },
      "execution_count": 93,
      "outputs": []
    },
    {
      "cell_type": "code",
      "source": [
        "win = Window.orderBy(df['Avg_Salary'].desc())\n",
        "df=df.withColumn('rank', row_number().over(win).alias('rank'))\n",
        "df.show()\n"
      ],
      "metadata": {
        "colab": {
          "base_uri": "https://localhost:8080/"
        },
        "id": "5QaRKqzLE5Tp",
        "outputId": "299061d2-face-473f-c36f-4ec9558d6f56"
      },
      "execution_count": 97,
      "outputs": [
        {
          "output_type": "stream",
          "name": "stdout",
          "text": [
            "+--------------------+----------------+------------------+-----------+--------------------+----------+-----+--------+------------+----+\n",
            "|    Customer_subtype|Number_of_houses|Avg_size_household|    Avg_age|  Customer_main_type|Avg_Salary|label|constant|age_category|rank|\n",
            "+--------------------+----------------+------------------+-----------+--------------------+----------+-----+--------+------------+----+\n",
            "| High status seniors|               1|                 2|60-70 years|Successful hedonists|  48919896|    0| finance|    Very Old|   1|\n",
            "|High Income, expe...|               1|                 2|50-60 years|Successful hedonists|  48177970|    0| finance|         Old|   2|\n",
            "|High Income, expe...|               1|                 2|50-60 years|Successful hedonists|  48069548|    1| finance|         Old|   3|\n",
            "|High Income, expe...|               1|                 3|40-50 years|Successful hedonists|  46911924|    0| finance|         Old|   4|\n",
            "| High status seniors|               1|                 3|40-50 years|Successful hedonists|  46614009|    0| finance|         Old|   5|\n",
            "|High Income, expe...|               1|                 3|30-40 years|Successful hedonists|  45952441|    0| finance|    Mid Aged|   6|\n",
            "|High Income, expe...|               1|                 3|40-50 years|Successful hedonists|  45864609|    1| finance|         Old|   7|\n",
            "| High status seniors|               1|                 1|50-60 years|Successful hedonists|  45592572|    0| finance|         Old|   8|\n",
            "| High status seniors|               1|                 2|50-60 years|Successful hedonists|  45170899|    0| finance|         Old|   9|\n",
            "|High Income, expe...|               1|                 3|50-60 years|Successful hedonists|  44843830|    0| finance|         Old|  10|\n",
            "| High status seniors|               1|                 2|50-60 years|Successful hedonists|  43230349|    0| finance|         Old|  11|\n",
            "| High status seniors|               1|                 5|40-50 years|Successful hedonists|  43181830|    0| finance|         Old|  12|\n",
            "| High status seniors|               1|                 1|30-40 years|Successful hedonists|  42631926|    0| finance|    Mid Aged|  13|\n",
            "| High status seniors|               1|                 2|50-60 years|Successful hedonists|  41919020|    0| finance|         Old|  14|\n",
            "| High status seniors|               1|                 2|50-60 years|Successful hedonists|  41699271|    0| finance|         Old|  15|\n",
            "| High status seniors|               1|                 2|40-50 years|Successful hedonists|  41398953|    0| finance|         Old|  16|\n",
            "|High Income, expe...|               1|                 3|40-50 years|Successful hedonists|  41269615|    1| finance|         Old|  17|\n",
            "| High status seniors|               1|                 2|50-60 years|Successful hedonists|  41192397|    1| finance|         Old|  18|\n",
            "| High status seniors|               1|                 2|40-50 years|Successful hedonists|  40564335|    0| finance|         Old|  19|\n",
            "| High status seniors|               1|                 2|50-60 years|Successful hedonists|  40453887|    0| finance|         Old|  20|\n",
            "+--------------------+----------------+------------------+-----------+--------------------+----------+-----+--------+------------+----+\n",
            "only showing top 20 rows\n",
            "\n"
          ]
        }
      ]
    },
    {
      "cell_type": "code",
      "source": [
        "win_1=Window.partitionBy(\"Customer_subtype\").orderBy(df['Avg_Salary'].desc())\n",
        "df=df.withColumn('rank', row_number().over(win_1).alias('rank'))"
      ],
      "metadata": {
        "id": "FondY_HyFOhH"
      },
      "execution_count": 99,
      "outputs": []
    },
    {
      "cell_type": "code",
      "source": [
        "df.groupBy('rank').count().orderBy('rank').show()"
      ],
      "metadata": {
        "colab": {
          "base_uri": "https://localhost:8080/"
        },
        "id": "7Rz2J_nmFaV7",
        "outputId": "6923b9a3-fe6c-44d5-96a9-b398f913d892"
      },
      "execution_count": 100,
      "outputs": [
        {
          "output_type": "stream",
          "name": "stdout",
          "text": [
            "+----+-----+\n",
            "|rank|count|\n",
            "+----+-----+\n",
            "|   1|   39|\n",
            "|   2|   37|\n",
            "|   3|   36|\n",
            "|   4|   36|\n",
            "|   5|   34|\n",
            "|   6|   34|\n",
            "|   7|   32|\n",
            "|   8|   31|\n",
            "|   9|   31|\n",
            "|  10|   31|\n",
            "|  11|   31|\n",
            "|  12|   31|\n",
            "|  13|   31|\n",
            "|  14|   31|\n",
            "|  15|   31|\n",
            "|  16|   30|\n",
            "|  17|   30|\n",
            "|  18|   27|\n",
            "|  19|   27|\n",
            "|  20|   27|\n",
            "+----+-----+\n",
            "only showing top 20 rows\n",
            "\n"
          ]
        }
      ]
    },
    {
      "cell_type": "code",
      "source": [
        "df.filter(col('rank') < 4).show()"
      ],
      "metadata": {
        "colab": {
          "base_uri": "https://localhost:8080/"
        },
        "id": "-VFuZTb3Fhhw",
        "outputId": "86d884fc-83b6-4b6e-bf84-26e2cbeda3f7"
      },
      "execution_count": 101,
      "outputs": [
        {
          "output_type": "stream",
          "name": "stdout",
          "text": [
            "+--------------------+----------------+------------------+-----------+--------------------+----------+-----+--------+------------+----+\n",
            "|    Customer_subtype|Number_of_houses|Avg_size_household|    Avg_age|  Customer_main_type|Avg_Salary|label|constant|age_category|rank|\n",
            "+--------------------+----------------+------------------+-----------+--------------------+----------+-----+--------+------------+----+\n",
            "|Affluent senior a...|               3|                 2|50-60 years|Successful hedonists|    994077|    0| finance|         Old|   1|\n",
            "|Affluent senior a...|               1|                 2|50-60 years|Successful hedonists|    983051|    0| finance|         Old|   2|\n",
            "|Affluent senior a...|               3|                 2|50-60 years|Successful hedonists|    944444|    0| finance|         Old|   3|\n",
            "|Affluent young fa...|               1|                 3|30-40 years|      Average Family|    991838|    0| finance|    Mid Aged|   1|\n",
            "|Affluent young fa...|               1|                 3|40-50 years|      Average Family|    988282|    0| finance|         Old|   2|\n",
            "|Affluent young fa...|               1|                 3|30-40 years|      Average Family|    964596|    0| finance|    Mid Aged|   3|\n",
            "|Career and childcare|               2|                 4|40-50 years|      Driven Growers|     47192|    0| finance|         Old|   1|\n",
            "|Career and childcare|               1|                 3|40-50 years|      Driven Growers|     47068|    0| finance|         Old|   2|\n",
            "|Career and childcare|               2|                 3|30-40 years|      Driven Growers|     44959|    0| finance|    Mid Aged|   3|\n",
            "|Couples with teen...|               1|                 3|40-50 years|Family with grown...|     49211|    1| finance|         Old|   1|\n",
            "|Couples with teen...|               1|                 2|40-50 years|Family with grown...|     49175|    0| finance|         Old|   2|\n",
            "|Couples with teen...|               1|                 3|40-50 years|Family with grown...|     48926|    0| finance|         Old|   3|\n",
            "|Dinki's (double i...|               2|                 1|60-70 years|      Driven Growers|     48812|    0| finance|    Very Old|   1|\n",
            "|Dinki's (double i...|               1|                 3|30-40 years|      Driven Growers|     41192|    0| finance|    Mid Aged|   2|\n",
            "|Dinki's (double i...|               1|                 3|40-50 years|      Driven Growers|     36505|    0| finance|         Old|   3|\n",
            "|   Etnically diverse|               1|                 2|40-50 years|         Living well|     43764|    0| finance|         Old|   1|\n",
            "|   Etnically diverse|               1|                 2|40-50 years|         Living well|     42475|    0| finance|         Old|   2|\n",
            "|   Etnically diverse|               1|                 2|30-40 years|         Living well|     35545|    0| finance|    Mid Aged|   3|\n",
            "|     Family starters|               1|                 3|40-50 years|      Average Family|     49602|    0| finance|         Old|   1|\n",
            "|     Family starters|               1|                 2|40-50 years|      Average Family|     49363|    0| finance|         Old|   2|\n",
            "+--------------------+----------------+------------------+-----------+--------------------+----------+-----+--------+------------+----+\n",
            "only showing top 20 rows\n",
            "\n"
          ]
        }
      ]
    },
    {
      "cell_type": "code",
      "source": [
        "df"
      ],
      "metadata": {
        "colab": {
          "base_uri": "https://localhost:8080/"
        },
        "id": "bgI4uSiJNEFF",
        "outputId": "9adbdb91-27f2-4f3a-df58-971d319c0858"
      },
      "execution_count": 102,
      "outputs": [
        {
          "output_type": "execute_result",
          "data": {
            "text/plain": [
              "DataFrame[Customer_subtype: string, Number_of_houses: int, Avg_size_household: int, Avg_age: string, Customer_main_type: string, Avg_Salary: int, label: int, constant: string, age_category: string, rank: int]"
            ]
          },
          "metadata": {},
          "execution_count": 102
        }
      ]
    }
  ]
}