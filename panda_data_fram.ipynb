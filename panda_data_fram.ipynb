{
  "nbformat": 4,
  "nbformat_minor": 0,
  "metadata": {
    "colab": {
      "name": "panda data_fram.ipynb",
      "provenance": [],
      "authorship_tag": "ABX9TyP8KNAgJF7tbkxt9MKUtiar",
      "include_colab_link": true
    },
    "kernelspec": {
      "name": "python3",
      "display_name": "Python 3"
    }
  },
  "cells": [
    {
      "cell_type": "markdown",
      "metadata": {
        "id": "view-in-github",
        "colab_type": "text"
      },
      "source": [
        "<a href=\"https://colab.research.google.com/github/manikur/R-programming/blob/main/panda_data_fram.ipynb\" target=\"_parent\"><img src=\"https://colab.research.google.com/assets/colab-badge.svg\" alt=\"Open In Colab\"/></a>"
      ]
    },
    {
      "cell_type": "code",
      "metadata": {
        "id": "QuKndG7mLUVl"
      },
      "source": [
        "import pandas as pd\r\n",
        "import numpy as np"
      ],
      "execution_count": null,
      "outputs": []
    },
    {
      "cell_type": "code",
      "metadata": {
        "colab": {
          "base_uri": "https://localhost:8080/"
        },
        "id": "8ZA4inudLm_b",
        "outputId": "0b3b9bf0-da1f-4ef1-a548-fad8e76353f5"
      },
      "source": [
        "np.random.seed(1)\r\n",
        "s = pd.Series(np.random.randn(100))\r\n",
        "s"
      ],
      "execution_count": null,
      "outputs": [
        {
          "output_type": "execute_result",
          "data": {
            "text/plain": [
              "0     1.624345\n",
              "1    -0.611756\n",
              "2    -0.528172\n",
              "3    -1.072969\n",
              "4     0.865408\n",
              "        ...   \n",
              "95    0.077340\n",
              "96   -0.343854\n",
              "97    0.043597\n",
              "98   -0.620001\n",
              "99    0.698032\n",
              "Length: 100, dtype: float64"
            ]
          },
          "metadata": {
            "tags": []
          },
          "execution_count": 2
        }
      ]
    },
    {
      "cell_type": "code",
      "metadata": {
        "colab": {
          "base_uri": "https://localhost:8080/"
        },
        "id": "77U8lxlsNMqm",
        "outputId": "c6647613-ae11-41e6-9603-1f4d1d059ff4"
      },
      "source": [
        "s[2]"
      ],
      "execution_count": null,
      "outputs": [
        {
          "output_type": "execute_result",
          "data": {
            "text/plain": [
              "-0.5281717522634557"
            ]
          },
          "metadata": {
            "tags": []
          },
          "execution_count": 3
        }
      ]
    },
    {
      "cell_type": "code",
      "metadata": {
        "colab": {
          "base_uri": "https://localhost:8080/"
        },
        "id": "hIaQONWfNb4T",
        "outputId": "8912c316-59aa-450f-8849-8fc56ac50258"
      },
      "source": [
        "s[[2, 5, 20]]"
      ],
      "execution_count": null,
      "outputs": [
        {
          "output_type": "execute_result",
          "data": {
            "text/plain": [
              "2    -0.528172\n",
              "5    -2.301539\n",
              "20   -1.100619\n",
              "dtype: float64"
            ]
          },
          "metadata": {
            "tags": []
          },
          "execution_count": 4
        }
      ]
    },
    {
      "cell_type": "code",
      "metadata": {
        "colab": {
          "base_uri": "https://localhost:8080/"
        },
        "id": "iVKG46SZNz4o",
        "outputId": "222853c8-e4c0-48a4-abde-0f7d36e02c79"
      },
      "source": [
        "s[3:8]"
      ],
      "execution_count": null,
      "outputs": [
        {
          "output_type": "execute_result",
          "data": {
            "text/plain": [
              "3   -1.072969\n",
              "4    0.865408\n",
              "5   -2.301539\n",
              "6    1.744812\n",
              "7   -0.761207\n",
              "dtype: float64"
            ]
          },
          "metadata": {
            "tags": []
          },
          "execution_count": 5
        }
      ]
    },
    {
      "cell_type": "code",
      "metadata": {
        "colab": {
          "base_uri": "https://localhost:8080/"
        },
        "id": "6nr3aAyvOPG_",
        "outputId": "117d8e5a-da39-4027-d2cc-c02d1c73f9d8"
      },
      "source": [
        "s.head()\r\n",
        "s.tail()"
      ],
      "execution_count": null,
      "outputs": [
        {
          "output_type": "execute_result",
          "data": {
            "text/plain": [
              "95    0.077340\n",
              "96   -0.343854\n",
              "97    0.043597\n",
              "98   -0.620001\n",
              "99    0.698032\n",
              "dtype: float64"
            ]
          },
          "metadata": {
            "tags": []
          },
          "execution_count": 6
        }
      ]
    },
    {
      "cell_type": "code",
      "metadata": {
        "colab": {
          "base_uri": "https://localhost:8080/"
        },
        "id": "Cy44BmsEOjG5",
        "outputId": "4b4a18dd-d3bb-43c2-e544-12de0b2e522d"
      },
      "source": [
        "s.index"
      ],
      "execution_count": null,
      "outputs": [
        {
          "output_type": "execute_result",
          "data": {
            "text/plain": [
              "RangeIndex(start=0, stop=100, step=1)"
            ]
          },
          "metadata": {
            "tags": []
          },
          "execution_count": 7
        }
      ]
    },
    {
      "cell_type": "code",
      "metadata": {
        "colab": {
          "base_uri": "https://localhost:8080/"
        },
        "id": "wNa1Zy0HOy78",
        "outputId": "aa621d26-8e5f-4f01-c294-4363de6764cf"
      },
      "source": [
        "s.values"
      ],
      "execution_count": null,
      "outputs": [
        {
          "output_type": "execute_result",
          "data": {
            "text/plain": [
              "array([ 1.62434536, -0.61175641, -0.52817175, -1.07296862,  0.86540763,\n",
              "       -2.3015387 ,  1.74481176, -0.7612069 ,  0.3190391 , -0.24937038,\n",
              "        1.46210794, -2.06014071, -0.3224172 , -0.38405435,  1.13376944,\n",
              "       -1.09989127, -0.17242821, -0.87785842,  0.04221375,  0.58281521,\n",
              "       -1.10061918,  1.14472371,  0.90159072,  0.50249434,  0.90085595,\n",
              "       -0.68372786, -0.12289023, -0.93576943, -0.26788808,  0.53035547,\n",
              "       -0.69166075, -0.39675353, -0.6871727 , -0.84520564, -0.67124613,\n",
              "       -0.0126646 , -1.11731035,  0.2344157 ,  1.65980218,  0.74204416,\n",
              "       -0.19183555, -0.88762896, -0.74715829,  1.6924546 ,  0.05080775,\n",
              "       -0.63699565,  0.19091548,  2.10025514,  0.12015895,  0.61720311,\n",
              "        0.30017032, -0.35224985, -1.1425182 , -0.34934272, -0.20889423,\n",
              "        0.58662319,  0.83898341,  0.93110208,  0.28558733,  0.88514116,\n",
              "       -0.75439794,  1.25286816,  0.51292982, -0.29809284,  0.48851815,\n",
              "       -0.07557171,  1.13162939,  1.51981682,  2.18557541, -1.39649634,\n",
              "       -1.44411381, -0.50446586,  0.16003707,  0.87616892,  0.31563495,\n",
              "       -2.02220122, -0.30620401,  0.82797464,  0.23009474,  0.76201118,\n",
              "       -0.22232814, -0.20075807,  0.18656139,  0.41005165,  0.19829972,\n",
              "        0.11900865, -0.67066229,  0.37756379,  0.12182127,  1.12948391,\n",
              "        1.19891788,  0.18515642, -0.37528495, -0.63873041,  0.42349435,\n",
              "        0.07734007, -0.34385368,  0.04359686, -0.62000084,  0.69803203])"
            ]
          },
          "metadata": {
            "tags": []
          },
          "execution_count": 9
        }
      ]
    },
    {
      "cell_type": "code",
      "metadata": {
        "colab": {
          "base_uri": "https://localhost:8080/"
        },
        "id": "TxXu5YFuRjk6",
        "outputId": "4da87eb4-bc1c-4f9c-88cc-f8913918f6e6"
      },
      "source": [
        "s2 = pd.Series([1, 2, 3, 4], index=['a', 'b', 'c', 'd'])\r\n",
        "s2"
      ],
      "execution_count": null,
      "outputs": [
        {
          "output_type": "execute_result",
          "data": {
            "text/plain": [
              "a    1\n",
              "b    2\n",
              "c    3\n",
              "d    4\n",
              "dtype: int64"
            ]
          },
          "metadata": {
            "tags": []
          },
          "execution_count": 10
        }
      ]
    },
    {
      "cell_type": "code",
      "metadata": {
        "colab": {
          "base_uri": "https://localhost:8080/"
        },
        "id": "NwCiuhMZSh-O",
        "outputId": "15538936-8674-45d9-bd9c-46084418a647"
      },
      "source": [
        "s2 = pd.Series({'a': 1, 'b': 2, 'c': 3, 'd': 4, 'e': 5})\r\n",
        "s2"
      ],
      "execution_count": null,
      "outputs": [
        {
          "output_type": "execute_result",
          "data": {
            "text/plain": [
              "a    1\n",
              "b    2\n",
              "c    3\n",
              "d    4\n",
              "e    5\n",
              "dtype: int64"
            ]
          },
          "metadata": {
            "tags": []
          },
          "execution_count": 12
        }
      ]
    },
    {
      "cell_type": "markdown",
      "metadata": {
        "id": "lL0i3GafTNA8"
      },
      "source": [
        "**Size, shape, uniqueness, and counts of\r\n",
        "values**"
      ]
    },
    {
      "cell_type": "code",
      "metadata": {
        "colab": {
          "base_uri": "https://localhost:8080/"
        },
        "id": "EhsuMreCTZzw",
        "outputId": "f5fb69f0-8c26-4606-9624-b9ad16241447"
      },
      "source": [
        "s = pd.Series([10, 0, 1, 1, 2, 3, 4, 5, 6, np.nan])\r\n",
        "len(s)"
      ],
      "execution_count": null,
      "outputs": [
        {
          "output_type": "execute_result",
          "data": {
            "text/plain": [
              "10"
            ]
          },
          "metadata": {
            "tags": []
          },
          "execution_count": 15
        }
      ]
    },
    {
      "cell_type": "code",
      "metadata": {
        "colab": {
          "base_uri": "https://localhost:8080/"
        },
        "id": "bXWA-L0zT7u5",
        "outputId": "640a63a2-5936-4f85-b1a2-7dc1ca1490a3"
      },
      "source": [
        "s.shape"
      ],
      "execution_count": null,
      "outputs": [
        {
          "output_type": "execute_result",
          "data": {
            "text/plain": [
              "(10,)"
            ]
          },
          "metadata": {
            "tags": []
          },
          "execution_count": 16
        }
      ]
    },
    {
      "cell_type": "code",
      "metadata": {
        "colab": {
          "base_uri": "https://localhost:8080/"
        },
        "id": "8weyKuGKUN7D",
        "outputId": "2d39d28c-6244-40fc-ae58-a82804d2d9d3"
      },
      "source": [
        "s.count()"
      ],
      "execution_count": null,
      "outputs": [
        {
          "output_type": "execute_result",
          "data": {
            "text/plain": [
              "9"
            ]
          },
          "metadata": {
            "tags": []
          },
          "execution_count": 17
        }
      ]
    },
    {
      "cell_type": "code",
      "metadata": {
        "colab": {
          "base_uri": "https://localhost:8080/"
        },
        "id": "giVnjEl-URfE",
        "outputId": "5ee0d60c-09ea-4a95-9ac1-a6ab6440be3a"
      },
      "source": [
        "s.unique()"
      ],
      "execution_count": null,
      "outputs": [
        {
          "output_type": "execute_result",
          "data": {
            "text/plain": [
              "array([10.,  0.,  1.,  2.,  3.,  4.,  5.,  6., nan])"
            ]
          },
          "metadata": {
            "tags": []
          },
          "execution_count": 18
        }
      ]
    },
    {
      "cell_type": "code",
      "metadata": {
        "colab": {
          "base_uri": "https://localhost:8080/"
        },
        "id": "aQ-hbS4NUar8",
        "outputId": "32a888e9-a1b9-4ac5-f7b3-e05c24abe62e"
      },
      "source": [
        "s.value_counts()"
      ],
      "execution_count": null,
      "outputs": [
        {
          "output_type": "execute_result",
          "data": {
            "text/plain": [
              "1.0     2\n",
              "6.0     1\n",
              "5.0     1\n",
              "4.0     1\n",
              "3.0     1\n",
              "2.0     1\n",
              "0.0     1\n",
              "10.0    1\n",
              "dtype: int64"
            ]
          },
          "metadata": {
            "tags": []
          },
          "execution_count": 19
        }
      ]
    },
    {
      "cell_type": "code",
      "metadata": {
        "colab": {
          "base_uri": "https://localhost:8080/"
        },
        "id": "BBlFOLZeUr0v",
        "outputId": "4bf2615d-18dd-4514-a57c-1833ce3098c8"
      },
      "source": [
        "s3 = pd.Series([1, 2, 3, 4], index=['a', 'b', 'c', 'd'])\r\n",
        "s3"
      ],
      "execution_count": null,
      "outputs": [
        {
          "output_type": "execute_result",
          "data": {
            "text/plain": [
              "a    1\n",
              "b    2\n",
              "c    3\n",
              "d    4\n",
              "dtype: int64"
            ]
          },
          "metadata": {
            "tags": []
          },
          "execution_count": 20
        }
      ]
    },
    {
      "cell_type": "code",
      "metadata": {
        "colab": {
          "base_uri": "https://localhost:8080/"
        },
        "id": "61PALS2YVFHa",
        "outputId": "e44bcd43-0a59-4fb0-f9f4-9651fd2d8998"
      },
      "source": [
        "s4 = pd.Series([4, 3, 2, 1], index=['d', 'c', 'b', 'a'])\r\n",
        "s4"
      ],
      "execution_count": null,
      "outputs": [
        {
          "output_type": "execute_result",
          "data": {
            "text/plain": [
              "d    4\n",
              "c    3\n",
              "b    2\n",
              "a    1\n",
              "dtype: int64"
            ]
          },
          "metadata": {
            "tags": []
          },
          "execution_count": 21
        }
      ]
    },
    {
      "cell_type": "code",
      "metadata": {
        "colab": {
          "base_uri": "https://localhost:8080/"
        },
        "id": "YoR5vA7vVRSl",
        "outputId": "e969e53e-b1a4-4f08-b302-307cf15cb4a4"
      },
      "source": [
        "s3 + s4"
      ],
      "execution_count": null,
      "outputs": [
        {
          "output_type": "execute_result",
          "data": {
            "text/plain": [
              "a    2\n",
              "b    4\n",
              "c    6\n",
              "d    8\n",
              "dtype: int64"
            ]
          },
          "metadata": {
            "tags": []
          },
          "execution_count": 22
        }
      ]
    },
    {
      "cell_type": "code",
      "metadata": {
        "colab": {
          "base_uri": "https://localhost:8080/"
        },
        "id": "aIADO5YqVezq",
        "outputId": "5f2829b6-5604-48bf-cbc0-5c55e321b0df"
      },
      "source": [
        "a1 = np.array([1, 2, 3, 4])\r\n",
        "a2 = np.array([4, 3, 2, 1])\r\n",
        "a1 + a2"
      ],
      "execution_count": null,
      "outputs": [
        {
          "output_type": "execute_result",
          "data": {
            "text/plain": [
              "array([5, 5, 5, 5])"
            ]
          },
          "metadata": {
            "tags": []
          },
          "execution_count": 23
        }
      ]
    },
    {
      "cell_type": "code",
      "metadata": {
        "colab": {
          "base_uri": "https://localhost:8080/",
          "height": 111
        },
        "id": "1QR-LSFyVyUF",
        "outputId": "b68018b7-54d4-4b04-f95c-84bb9135cf0f"
      },
      "source": [
        "pd.DataFrame(np.array([[10, 11], [20, 21]]))"
      ],
      "execution_count": null,
      "outputs": [
        {
          "output_type": "execute_result",
          "data": {
            "text/html": [
              "<div>\n",
              "<style scoped>\n",
              "    .dataframe tbody tr th:only-of-type {\n",
              "        vertical-align: middle;\n",
              "    }\n",
              "\n",
              "    .dataframe tbody tr th {\n",
              "        vertical-align: top;\n",
              "    }\n",
              "\n",
              "    .dataframe thead th {\n",
              "        text-align: right;\n",
              "    }\n",
              "</style>\n",
              "<table border=\"1\" class=\"dataframe\">\n",
              "  <thead>\n",
              "    <tr style=\"text-align: right;\">\n",
              "      <th></th>\n",
              "      <th>0</th>\n",
              "      <th>1</th>\n",
              "    </tr>\n",
              "  </thead>\n",
              "  <tbody>\n",
              "    <tr>\n",
              "      <th>0</th>\n",
              "      <td>10</td>\n",
              "      <td>11</td>\n",
              "    </tr>\n",
              "    <tr>\n",
              "      <th>1</th>\n",
              "      <td>20</td>\n",
              "      <td>21</td>\n",
              "    </tr>\n",
              "  </tbody>\n",
              "</table>\n",
              "</div>"
            ],
            "text/plain": [
              "    0   1\n",
              "0  10  11\n",
              "1  20  21"
            ]
          },
          "metadata": {
            "tags": []
          },
          "execution_count": 24
        }
      ]
    },
    {
      "cell_type": "code",
      "metadata": {
        "colab": {
          "base_uri": "https://localhost:8080/",
          "height": 111
        },
        "id": "MArg5fT7WKw8",
        "outputId": "28714cf2-bd3f-4e75-a0cd-da45ae62d4b9"
      },
      "source": [
        "df1 = pd.DataFrame([pd.Series(np.arange(10, 15)),\r\n",
        "pd.Series(np.arange(15, 20))])\r\n",
        "df1"
      ],
      "execution_count": null,
      "outputs": [
        {
          "output_type": "execute_result",
          "data": {
            "text/html": [
              "<div>\n",
              "<style scoped>\n",
              "    .dataframe tbody tr th:only-of-type {\n",
              "        vertical-align: middle;\n",
              "    }\n",
              "\n",
              "    .dataframe tbody tr th {\n",
              "        vertical-align: top;\n",
              "    }\n",
              "\n",
              "    .dataframe thead th {\n",
              "        text-align: right;\n",
              "    }\n",
              "</style>\n",
              "<table border=\"1\" class=\"dataframe\">\n",
              "  <thead>\n",
              "    <tr style=\"text-align: right;\">\n",
              "      <th></th>\n",
              "      <th>0</th>\n",
              "      <th>1</th>\n",
              "      <th>2</th>\n",
              "      <th>3</th>\n",
              "      <th>4</th>\n",
              "    </tr>\n",
              "  </thead>\n",
              "  <tbody>\n",
              "    <tr>\n",
              "      <th>0</th>\n",
              "      <td>10</td>\n",
              "      <td>11</td>\n",
              "      <td>12</td>\n",
              "      <td>13</td>\n",
              "      <td>14</td>\n",
              "    </tr>\n",
              "    <tr>\n",
              "      <th>1</th>\n",
              "      <td>15</td>\n",
              "      <td>16</td>\n",
              "      <td>17</td>\n",
              "      <td>18</td>\n",
              "      <td>19</td>\n",
              "    </tr>\n",
              "  </tbody>\n",
              "</table>\n",
              "</div>"
            ],
            "text/plain": [
              "    0   1   2   3   4\n",
              "0  10  11  12  13  14\n",
              "1  15  16  17  18  19"
            ]
          },
          "metadata": {
            "tags": []
          },
          "execution_count": 25
        }
      ]
    },
    {
      "cell_type": "code",
      "metadata": {
        "colab": {
          "base_uri": "https://localhost:8080/"
        },
        "id": "nEju_b7bWnhw",
        "outputId": "8b7ea273-779f-4551-8098-bf8ba76c0269"
      },
      "source": [
        "df1.shape"
      ],
      "execution_count": null,
      "outputs": [
        {
          "output_type": "execute_result",
          "data": {
            "text/plain": [
              "(2, 5)"
            ]
          },
          "metadata": {
            "tags": []
          },
          "execution_count": 26
        }
      ]
    },
    {
      "cell_type": "code",
      "metadata": {
        "colab": {
          "base_uri": "https://localhost:8080/",
          "height": 111
        },
        "id": "Y7uytLeXWyyi",
        "outputId": "041142d5-e39c-43a8-9611-fcdce696523c"
      },
      "source": [
        "df = pd.DataFrame(np.array([[10, 11], [20, 21]]),\r\n",
        "columns=['a', 'b'])\r\n",
        "df"
      ],
      "execution_count": null,
      "outputs": [
        {
          "output_type": "execute_result",
          "data": {
            "text/html": [
              "<div>\n",
              "<style scoped>\n",
              "    .dataframe tbody tr th:only-of-type {\n",
              "        vertical-align: middle;\n",
              "    }\n",
              "\n",
              "    .dataframe tbody tr th {\n",
              "        vertical-align: top;\n",
              "    }\n",
              "\n",
              "    .dataframe thead th {\n",
              "        text-align: right;\n",
              "    }\n",
              "</style>\n",
              "<table border=\"1\" class=\"dataframe\">\n",
              "  <thead>\n",
              "    <tr style=\"text-align: right;\">\n",
              "      <th></th>\n",
              "      <th>a</th>\n",
              "      <th>b</th>\n",
              "    </tr>\n",
              "  </thead>\n",
              "  <tbody>\n",
              "    <tr>\n",
              "      <th>0</th>\n",
              "      <td>10</td>\n",
              "      <td>11</td>\n",
              "    </tr>\n",
              "    <tr>\n",
              "      <th>1</th>\n",
              "      <td>20</td>\n",
              "      <td>21</td>\n",
              "    </tr>\n",
              "  </tbody>\n",
              "</table>\n",
              "</div>"
            ],
            "text/plain": [
              "    a   b\n",
              "0  10  11\n",
              "1  20  21"
            ]
          },
          "metadata": {
            "tags": []
          },
          "execution_count": 27
        }
      ]
    },
    {
      "cell_type": "code",
      "metadata": {
        "colab": {
          "base_uri": "https://localhost:8080/"
        },
        "id": "9h7VBCqEXE4T",
        "outputId": "4bb46ff1-a08e-4c82-84b9-90b4244a91c2"
      },
      "source": [
        "df.columns"
      ],
      "execution_count": null,
      "outputs": [
        {
          "output_type": "execute_result",
          "data": {
            "text/plain": [
              "Index(['a', 'b'], dtype='object')"
            ]
          },
          "metadata": {
            "tags": []
          },
          "execution_count": 28
        }
      ]
    },
    {
      "cell_type": "code",
      "metadata": {
        "colab": {
          "base_uri": "https://localhost:8080/",
          "height": 111
        },
        "id": "tUs1Ob6FXMz2",
        "outputId": "0fbdc823-800c-44d5-f57f-3727bd906fc1"
      },
      "source": [
        "df.columns = ['c1', 'c2']\r\n",
        "df"
      ],
      "execution_count": null,
      "outputs": [
        {
          "output_type": "execute_result",
          "data": {
            "text/html": [
              "<div>\n",
              "<style scoped>\n",
              "    .dataframe tbody tr th:only-of-type {\n",
              "        vertical-align: middle;\n",
              "    }\n",
              "\n",
              "    .dataframe tbody tr th {\n",
              "        vertical-align: top;\n",
              "    }\n",
              "\n",
              "    .dataframe thead th {\n",
              "        text-align: right;\n",
              "    }\n",
              "</style>\n",
              "<table border=\"1\" class=\"dataframe\">\n",
              "  <thead>\n",
              "    <tr style=\"text-align: right;\">\n",
              "      <th></th>\n",
              "      <th>c1</th>\n",
              "      <th>c2</th>\n",
              "    </tr>\n",
              "  </thead>\n",
              "  <tbody>\n",
              "    <tr>\n",
              "      <th>0</th>\n",
              "      <td>10</td>\n",
              "      <td>11</td>\n",
              "    </tr>\n",
              "    <tr>\n",
              "      <th>1</th>\n",
              "      <td>20</td>\n",
              "      <td>21</td>\n",
              "    </tr>\n",
              "  </tbody>\n",
              "</table>\n",
              "</div>"
            ],
            "text/plain": [
              "   c1  c2\n",
              "0  10  11\n",
              "1  20  21"
            ]
          },
          "metadata": {
            "tags": []
          },
          "execution_count": 29
        }
      ]
    },
    {
      "cell_type": "code",
      "metadata": {
        "colab": {
          "base_uri": "https://localhost:8080/",
          "height": 111
        },
        "id": "3EmNU0OzXZOk",
        "outputId": "ee069a60-3154-4fbc-9b04-5f14b13fe609"
      },
      "source": [
        "df = pd.DataFrame(np.array([[0, 1], [2, 3]]),\r\n",
        "columns=['c1', 'c2'],index=['r1', 'r2'])\r\n",
        "df"
      ],
      "execution_count": null,
      "outputs": [
        {
          "output_type": "execute_result",
          "data": {
            "text/html": [
              "<div>\n",
              "<style scoped>\n",
              "    .dataframe tbody tr th:only-of-type {\n",
              "        vertical-align: middle;\n",
              "    }\n",
              "\n",
              "    .dataframe tbody tr th {\n",
              "        vertical-align: top;\n",
              "    }\n",
              "\n",
              "    .dataframe thead th {\n",
              "        text-align: right;\n",
              "    }\n",
              "</style>\n",
              "<table border=\"1\" class=\"dataframe\">\n",
              "  <thead>\n",
              "    <tr style=\"text-align: right;\">\n",
              "      <th></th>\n",
              "      <th>c1</th>\n",
              "      <th>c2</th>\n",
              "    </tr>\n",
              "  </thead>\n",
              "  <tbody>\n",
              "    <tr>\n",
              "      <th>r1</th>\n",
              "      <td>0</td>\n",
              "      <td>1</td>\n",
              "    </tr>\n",
              "    <tr>\n",
              "      <th>r2</th>\n",
              "      <td>2</td>\n",
              "      <td>3</td>\n",
              "    </tr>\n",
              "  </tbody>\n",
              "</table>\n",
              "</div>"
            ],
            "text/plain": [
              "    c1  c2\n",
              "r1   0   1\n",
              "r2   2   3"
            ]
          },
          "metadata": {
            "tags": []
          },
          "execution_count": 30
        }
      ]
    },
    {
      "cell_type": "code",
      "metadata": {
        "colab": {
          "base_uri": "https://localhost:8080/"
        },
        "id": "wq9tq56EXtIb",
        "outputId": "5aa57386-5b10-4730-ab7b-1dd21432822f"
      },
      "source": [
        "df.index"
      ],
      "execution_count": null,
      "outputs": [
        {
          "output_type": "execute_result",
          "data": {
            "text/plain": [
              "Index(['r1', 'r2'], dtype='object')"
            ]
          },
          "metadata": {
            "tags": []
          },
          "execution_count": 31
        }
      ]
    },
    {
      "cell_type": "code",
      "metadata": {
        "colab": {
          "base_uri": "https://localhost:8080/"
        },
        "id": "BvsjHchWYAqt",
        "outputId": "08aa897f-cd48-40c9-e8fb-2838e95de770"
      },
      "source": [
        "df.values"
      ],
      "execution_count": null,
      "outputs": [
        {
          "output_type": "execute_result",
          "data": {
            "text/plain": [
              "array([[0, 1],\n",
              "       [2, 3]])"
            ]
          },
          "metadata": {
            "tags": []
          },
          "execution_count": 32
        }
      ]
    },
    {
      "cell_type": "code",
      "metadata": {
        "colab": {
          "base_uri": "https://localhost:8080/",
          "height": 204
        },
        "id": "kz72UB1fYJuh",
        "outputId": "b0388ee2-e2ed-4ee0-8808-18e432643a9f"
      },
      "source": [
        "s1 = pd.Series(np.arange(1, 6, 1))\r\n",
        "s2 = pd.Series(np.arange(6, 11, 1))\r\n",
        "pd.DataFrame({'c1': s1, 'c2': s2})"
      ],
      "execution_count": null,
      "outputs": [
        {
          "output_type": "execute_result",
          "data": {
            "text/html": [
              "<div>\n",
              "<style scoped>\n",
              "    .dataframe tbody tr th:only-of-type {\n",
              "        vertical-align: middle;\n",
              "    }\n",
              "\n",
              "    .dataframe tbody tr th {\n",
              "        vertical-align: top;\n",
              "    }\n",
              "\n",
              "    .dataframe thead th {\n",
              "        text-align: right;\n",
              "    }\n",
              "</style>\n",
              "<table border=\"1\" class=\"dataframe\">\n",
              "  <thead>\n",
              "    <tr style=\"text-align: right;\">\n",
              "      <th></th>\n",
              "      <th>c1</th>\n",
              "      <th>c2</th>\n",
              "    </tr>\n",
              "  </thead>\n",
              "  <tbody>\n",
              "    <tr>\n",
              "      <th>0</th>\n",
              "      <td>1</td>\n",
              "      <td>6</td>\n",
              "    </tr>\n",
              "    <tr>\n",
              "      <th>1</th>\n",
              "      <td>2</td>\n",
              "      <td>7</td>\n",
              "    </tr>\n",
              "    <tr>\n",
              "      <th>2</th>\n",
              "      <td>3</td>\n",
              "      <td>8</td>\n",
              "    </tr>\n",
              "    <tr>\n",
              "      <th>3</th>\n",
              "      <td>4</td>\n",
              "      <td>9</td>\n",
              "    </tr>\n",
              "    <tr>\n",
              "      <th>4</th>\n",
              "      <td>5</td>\n",
              "      <td>10</td>\n",
              "    </tr>\n",
              "  </tbody>\n",
              "</table>\n",
              "</div>"
            ],
            "text/plain": [
              "   c1  c2\n",
              "0   1   6\n",
              "1   2   7\n",
              "2   3   8\n",
              "3   4   9\n",
              "4   5  10"
            ]
          },
          "metadata": {
            "tags": []
          },
          "execution_count": 33
        }
      ]
    },
    {
      "cell_type": "code",
      "metadata": {
        "colab": {
          "base_uri": "https://localhost:8080/",
          "height": 204
        },
        "id": "lcQlTYa1Yj9c",
        "outputId": "ce53bd82-344f-419e-9734-08ad984421f6"
      },
      "source": [
        "s3 = pd.Series(np.arange(12, 14), index=[1, 2])\r\n",
        "pd.DataFrame({'c1': s1, 'c2': s2, 'c3': s3})"
      ],
      "execution_count": null,
      "outputs": [
        {
          "output_type": "execute_result",
          "data": {
            "text/html": [
              "<div>\n",
              "<style scoped>\n",
              "    .dataframe tbody tr th:only-of-type {\n",
              "        vertical-align: middle;\n",
              "    }\n",
              "\n",
              "    .dataframe tbody tr th {\n",
              "        vertical-align: top;\n",
              "    }\n",
              "\n",
              "    .dataframe thead th {\n",
              "        text-align: right;\n",
              "    }\n",
              "</style>\n",
              "<table border=\"1\" class=\"dataframe\">\n",
              "  <thead>\n",
              "    <tr style=\"text-align: right;\">\n",
              "      <th></th>\n",
              "      <th>c1</th>\n",
              "      <th>c2</th>\n",
              "      <th>c3</th>\n",
              "    </tr>\n",
              "  </thead>\n",
              "  <tbody>\n",
              "    <tr>\n",
              "      <th>0</th>\n",
              "      <td>1</td>\n",
              "      <td>6</td>\n",
              "      <td>NaN</td>\n",
              "    </tr>\n",
              "    <tr>\n",
              "      <th>1</th>\n",
              "      <td>2</td>\n",
              "      <td>7</td>\n",
              "      <td>12.0</td>\n",
              "    </tr>\n",
              "    <tr>\n",
              "      <th>2</th>\n",
              "      <td>3</td>\n",
              "      <td>8</td>\n",
              "      <td>13.0</td>\n",
              "    </tr>\n",
              "    <tr>\n",
              "      <th>3</th>\n",
              "      <td>4</td>\n",
              "      <td>9</td>\n",
              "      <td>NaN</td>\n",
              "    </tr>\n",
              "    <tr>\n",
              "      <th>4</th>\n",
              "      <td>5</td>\n",
              "      <td>10</td>\n",
              "      <td>NaN</td>\n",
              "    </tr>\n",
              "  </tbody>\n",
              "</table>\n",
              "</div>"
            ],
            "text/plain": [
              "   c1  c2    c3\n",
              "0   1   6   NaN\n",
              "1   2   7  12.0\n",
              "2   3   8  13.0\n",
              "3   4   9   NaN\n",
              "4   5  10   NaN"
            ]
          },
          "metadata": {
            "tags": []
          },
          "execution_count": 34
        }
      ]
    },
    {
      "cell_type": "code",
      "metadata": {
        "id": "3qcy_NQ4ZBKL"
      },
      "source": [
        "import pandas as pd\r\n",
        "import numpy as np\r\n",
        "import datetime\r\n",
        "import matplotlib.pyplot as plt\r\n",
        "%matplotlib inline"
      ],
      "execution_count": null,
      "outputs": []
    },
    {
      "cell_type": "code",
      "metadata": {
        "id": "bgrAL9CWh6Qo"
      },
      "source": [
        "pd.set_option('display.notebook_repr_html', False)\r\n",
        "pd.set_option('display.max_columns', 15)\r\n",
        "pd.set_option('display.max_rows', 8)\r\n",
        "pd.set_option('precision', 3)"
      ],
      "execution_count": null,
      "outputs": []
    },
    {
      "cell_type": "code",
      "metadata": {
        "colab": {
          "base_uri": "https://localhost:8080/"
        },
        "id": "d0sV_VyFiIZy",
        "outputId": "6e0a120d-6944-49be-c422-c39cb9a6848c"
      },
      "source": [
        "!pip install yfinance "
      ],
      "execution_count": 1,
      "outputs": [
        {
          "output_type": "stream",
          "text": [
            "Collecting yfinance\n",
            "  Downloading https://files.pythonhosted.org/packages/7a/e8/b9d7104d3a4bf39924799067592d9e59119fcfc900a425a12e80a3123ec8/yfinance-0.1.55.tar.gz\n",
            "Requirement already satisfied: pandas>=0.24 in /usr/local/lib/python3.6/dist-packages (from yfinance) (1.1.5)\n",
            "Requirement already satisfied: numpy>=1.15 in /usr/local/lib/python3.6/dist-packages (from yfinance) (1.19.5)\n",
            "Requirement already satisfied: requests>=2.20 in /usr/local/lib/python3.6/dist-packages (from yfinance) (2.23.0)\n",
            "Requirement already satisfied: multitasking>=0.0.7 in /usr/local/lib/python3.6/dist-packages (from yfinance) (0.0.9)\n",
            "Collecting lxml>=4.5.1\n",
            "\u001b[?25l  Downloading https://files.pythonhosted.org/packages/bd/78/56a7c88a57d0d14945472535d0df9fb4bbad7d34ede658ec7961635c790e/lxml-4.6.2-cp36-cp36m-manylinux1_x86_64.whl (5.5MB)\n",
            "\u001b[K     |████████████████████████████████| 5.5MB 6.7MB/s \n",
            "\u001b[?25hRequirement already satisfied: pytz>=2017.2 in /usr/local/lib/python3.6/dist-packages (from pandas>=0.24->yfinance) (2018.9)\n",
            "Requirement already satisfied: python-dateutil>=2.7.3 in /usr/local/lib/python3.6/dist-packages (from pandas>=0.24->yfinance) (2.8.1)\n",
            "Requirement already satisfied: idna<3,>=2.5 in /usr/local/lib/python3.6/dist-packages (from requests>=2.20->yfinance) (2.10)\n",
            "Requirement already satisfied: urllib3!=1.25.0,!=1.25.1,<1.26,>=1.21.1 in /usr/local/lib/python3.6/dist-packages (from requests>=2.20->yfinance) (1.24.3)\n",
            "Requirement already satisfied: chardet<4,>=3.0.2 in /usr/local/lib/python3.6/dist-packages (from requests>=2.20->yfinance) (3.0.4)\n",
            "Requirement already satisfied: certifi>=2017.4.17 in /usr/local/lib/python3.6/dist-packages (from requests>=2.20->yfinance) (2020.12.5)\n",
            "Requirement already satisfied: six>=1.5 in /usr/local/lib/python3.6/dist-packages (from python-dateutil>=2.7.3->pandas>=0.24->yfinance) (1.15.0)\n",
            "Building wheels for collected packages: yfinance\n",
            "  Building wheel for yfinance (setup.py) ... \u001b[?25l\u001b[?25hdone\n",
            "  Created wheel for yfinance: filename=yfinance-0.1.55-py2.py3-none-any.whl size=22616 sha256=87d91ffc65a22d041d9f5cf7c041cbb522c8a7b9e86fd6f73866bd68db01a0e7\n",
            "  Stored in directory: /root/.cache/pip/wheels/04/98/cc/2702a4242d60bdc14f48b4557c427ded1fe92aedf257d4565c\n",
            "Successfully built yfinance\n",
            "Installing collected packages: lxml, yfinance\n",
            "  Found existing installation: lxml 4.2.6\n",
            "    Uninstalling lxml-4.2.6:\n",
            "      Successfully uninstalled lxml-4.2.6\n",
            "Successfully installed lxml-4.6.2 yfinance-0.1.55\n"
          ],
          "name": "stdout"
        }
      ]
    },
    {
      "cell_type": "code",
      "metadata": {
        "id": "69Cprma4jA7g"
      },
      "source": [
        "import yfinance as yf"
      ],
      "execution_count": 2,
      "outputs": []
    },
    {
      "cell_type": "code",
      "metadata": {
        "id": "1B4OSjI9kJgd"
      },
      "source": [
        "msft = yf.download('MSFT',\r\n",
        "start='2000-01-01',\r\n",
        "end='2021-02-12',\r\n",
        "progress=False)\r\n"
      ],
      "execution_count": 62,
      "outputs": []
    },
    {
      "cell_type": "code",
      "metadata": {
        "colab": {
          "base_uri": "https://localhost:8080/"
        },
        "id": "fEQCaHSopKuN",
        "outputId": "bfaefcfb-31e0-44b1-a3e0-50efc3c78ad6"
      },
      "source": [
        "msft.head()\r\n"
      ],
      "execution_count": null,
      "outputs": [
        {
          "output_type": "execute_result",
          "data": {
            "text/plain": [
              "              Open    High     Low   Close  Adj Close    Volume\n",
              "Date                                                           \n",
              "2000-01-03  58.688  59.312  56.000  58.281     37.103  53228400\n",
              "2000-01-04  56.781  58.562  56.125  56.312     35.849  54119000\n",
              "2000-01-05  55.562  58.188  54.688  56.906     36.227  64059600\n",
              "2000-01-06  56.094  56.938  54.188  55.000     35.014  54976600\n",
              "2000-01-07  54.312  56.125  53.656  55.719     35.471  62013600"
            ]
          },
          "metadata": {
            "tags": []
          },
          "execution_count": 60
        }
      ]
    },
    {
      "cell_type": "code",
      "metadata": {
        "colab": {
          "base_uri": "https://localhost:8080/"
        },
        "id": "yIi6PxnvpP-q",
        "outputId": "f861943d-af85-4433-ab05-c8f38815b904"
      },
      "source": [
        "msft.tail()"
      ],
      "execution_count": null,
      "outputs": [
        {
          "output_type": "execute_result",
          "data": {
            "text/plain": [
              "              Open    High     Low   Close  Adj Close    Volume\n",
              "Date                                                           \n",
              "2021-02-05  242.23  243.28  240.42  242.20     242.20  18043900\n",
              "2021-02-08  243.15  243.68  240.81  242.47     242.47  22211900\n",
              "2021-02-09  241.87  244.76  241.38  243.77     243.77  23565000\n",
              "2021-02-10  245.00  245.92  240.89  242.82     242.82  22186700\n",
              "2021-02-11  244.78  245.15  242.15  244.49     244.49  15742200"
            ]
          },
          "metadata": {
            "tags": []
          },
          "execution_count": 61
        }
      ]
    },
    {
      "cell_type": "code",
      "metadata": {
        "colab": {
          "base_uri": "https://localhost:8080/"
        },
        "id": "wkMUM6iEpgXN",
        "outputId": "ca8c03cc-6323-4882-a2e2-d390c2a93a49"
      },
      "source": [
        "msftAC = msft['Adj Close']\r\n",
        "msftAC.head(3)\r\n"
      ],
      "execution_count": 63,
      "outputs": [
        {
          "output_type": "execute_result",
          "data": {
            "text/plain": [
              "Date\n",
              "2000-01-03    37.017384\n",
              "2000-01-04    35.766914\n",
              "2000-01-05    36.144032\n",
              "Name: Adj Close, dtype: float64"
            ]
          },
          "metadata": {
            "tags": []
          },
          "execution_count": 63
        }
      ]
    },
    {
      "cell_type": "code",
      "metadata": {
        "id": "fS6C0Jk5Usay"
      },
      "source": [
        ""
      ],
      "execution_count": null,
      "outputs": []
    },
    {
      "cell_type": "code",
      "metadata": {
        "colab": {
          "base_uri": "https://localhost:8080/"
        },
        "id": "tAhqkP9dqcbq",
        "outputId": "6438d53b-a355-4316-bc64-18e5b1f91a26"
      },
      "source": [
        "msft['2021-02-01':'2021-02-16']"
      ],
      "execution_count": null,
      "outputs": [
        {
          "output_type": "execute_result",
          "data": {
            "text/plain": [
              "              Open    High     Low   Close  Adj Close    Volume\n",
              "Date                                                           \n",
              "2021-02-01  235.06  242.50  232.43  239.65     239.65  33314200\n",
              "2021-02-02  241.30  242.31  238.69  239.51     239.51  25916300\n",
              "2021-02-03  239.57  245.09  239.26  243.00     243.00  27158100\n",
              "2021-02-04  242.66  243.24  240.37  242.01     242.01  25296100\n",
              "...            ...     ...     ...     ...        ...       ...\n",
              "2021-02-08  243.15  243.68  240.81  242.47     242.47  22211900\n",
              "2021-02-09  241.87  244.76  241.38  243.77     243.77  23565000\n",
              "2021-02-10  245.00  245.92  240.89  242.82     242.82  22186700\n",
              "2021-02-11  244.78  245.15  242.15  244.49     244.49  15742200\n",
              "\n",
              "[9 rows x 6 columns]"
            ]
          },
          "metadata": {
            "tags": []
          },
          "execution_count": 66
        }
      ]
    },
    {
      "cell_type": "code",
      "metadata": {
        "colab": {
          "base_uri": "https://localhost:8080/"
        },
        "id": "anPMRc8frQ0O",
        "outputId": "3725c406-c3c0-4f0a-d31f-1dff85188bb4"
      },
      "source": [
        "msft.loc['2021-02-11']"
      ],
      "execution_count": null,
      "outputs": [
        {
          "output_type": "execute_result",
          "data": {
            "text/plain": [
              "Open         2.448e+02\n",
              "High         2.451e+02\n",
              "Low          2.421e+02\n",
              "Close        2.445e+02\n",
              "Adj Close    2.445e+02\n",
              "Volume       1.574e+07\n",
              "Name: 2021-02-11 00:00:00, dtype: float64"
            ]
          },
          "metadata": {
            "tags": []
          },
          "execution_count": 67
        }
      ]
    },
    {
      "cell_type": "code",
      "metadata": {
        "colab": {
          "base_uri": "https://localhost:8080/"
        },
        "id": "lbIWZRL1sLwq",
        "outputId": "4b527d09-0b9f-47f9-ca4d-3280fe6ae0b7"
      },
      "source": [
        "msftAC['2021-02-11']"
      ],
      "execution_count": null,
      "outputs": [
        {
          "output_type": "execute_result",
          "data": {
            "text/plain": [
              "244.49000549316406"
            ]
          },
          "metadata": {
            "tags": []
          },
          "execution_count": 75
        }
      ]
    },
    {
      "cell_type": "code",
      "metadata": {
        "colab": {
          "base_uri": "https://localhost:8080/"
        },
        "id": "D6KTqJM7s7Nr",
        "outputId": "ef60bcf7-720b-45db-e2f5-73329cbf04a8"
      },
      "source": [
        "msft['2020-02'].head()"
      ],
      "execution_count": null,
      "outputs": [
        {
          "output_type": "execute_result",
          "data": {
            "text/plain": [
              "              Open    High     Low   Close  Adj Close    Volume\n",
              "Date                                                           \n",
              "2020-02-03  170.43  174.50  170.40  174.38    172.552  30149100\n",
              "2020-02-04  177.14  180.64  176.31  180.12    178.232  36433300\n",
              "2020-02-05  184.03  184.20  178.41  179.90    178.014  39186300\n",
              "2020-02-06  180.97  183.82  180.06  183.63    181.705  27751400\n",
              "2020-02-07  182.85  185.63  182.48  183.89    181.962  33529100"
            ]
          },
          "metadata": {
            "tags": []
          },
          "execution_count": 77
        }
      ]
    },
    {
      "cell_type": "code",
      "metadata": {
        "colab": {
          "base_uri": "https://localhost:8080/"
        },
        "id": "chdlXK78tsq3",
        "outputId": "99740c03-4dad-471c-ed1e-4891ea93b7f6"
      },
      "source": [
        "msft['2012-02':'2012-02-09'][:5]"
      ],
      "execution_count": null,
      "outputs": [
        {
          "output_type": "execute_result",
          "data": {
            "text/plain": [
              "             Open   High    Low  Close  Adj Close    Volume\n",
              "Date                                                       \n",
              "2012-02-01  29.79  30.05  29.76  29.89     24.396  67409900\n",
              "2012-02-02  29.90  30.17  29.71  29.95     24.445  52223300\n",
              "2012-02-03  30.14  30.40  30.09  30.24     24.682  41838500\n",
              "2012-02-06  30.04  30.22  29.97  30.20     24.649  28039700\n",
              "2012-02-07  30.15  30.49  30.05  30.35     24.771  39242400"
            ]
          },
          "metadata": {
            "tags": []
          },
          "execution_count": 78
        }
      ]
    },
    {
      "cell_type": "code",
      "metadata": {
        "colab": {
          "base_uri": "https://localhost:8080/"
        },
        "id": "G2Qo_wJet0ad",
        "outputId": "3f2a8fa1-35f2-4ce4-e6be-f544367a59cb"
      },
      "source": [
        "msft['2012-02':'2012-02-09'][6:]"
      ],
      "execution_count": null,
      "outputs": [
        {
          "output_type": "execute_result",
          "data": {
            "text/plain": [
              "             Open  High    Low  Close  Adj Close    Volume\n",
              "Date                                                      \n",
              "2012-02-09  30.68  30.8  30.48  30.77     25.114  50481600"
            ]
          },
          "metadata": {
            "tags": []
          },
          "execution_count": 79
        }
      ]
    },
    {
      "cell_type": "code",
      "metadata": {
        "colab": {
          "base_uri": "https://localhost:8080/"
        },
        "id": "Es0fCMYtucZ9",
        "outputId": "dba724ec-f27f-400c-fa4a-fbe3ef7e231a"
      },
      "source": [
        "bymin = pd.Series(np.arange(0, 90*60*24),\r\n",
        "pd.date_range('2014-08-01',\r\n",
        "'2014-10-29 23:59:00',\r\n",
        "freq='T'))\r\n",
        "bymin"
      ],
      "execution_count": null,
      "outputs": [
        {
          "output_type": "execute_result",
          "data": {
            "text/plain": [
              "2014-08-01 00:00:00         0\n",
              "2014-08-01 00:01:00         1\n",
              "2014-08-01 00:02:00         2\n",
              "2014-08-01 00:03:00         3\n",
              "                        ...  \n",
              "2014-10-29 23:56:00    129596\n",
              "2014-10-29 23:57:00    129597\n",
              "2014-10-29 23:58:00    129598\n",
              "2014-10-29 23:59:00    129599\n",
              "Freq: T, Length: 129600, dtype: int64"
            ]
          },
          "metadata": {
            "tags": []
          },
          "execution_count": 81
        }
      ]
    },
    {
      "cell_type": "code",
      "metadata": {
        "colab": {
          "base_uri": "https://localhost:8080/"
        },
        "id": "W8WzAX7Ru3Q9",
        "outputId": "a61c5316-5853-4e87-dab0-fa2f01069c27"
      },
      "source": [
        "bymin['2014-08-01 12:30':'2014-08-01 12:59']"
      ],
      "execution_count": null,
      "outputs": [
        {
          "output_type": "execute_result",
          "data": {
            "text/plain": [
              "2014-08-01 12:30:00    750\n",
              "2014-08-01 12:31:00    751\n",
              "2014-08-01 12:32:00    752\n",
              "2014-08-01 12:33:00    753\n",
              "                      ... \n",
              "2014-08-01 12:56:00    776\n",
              "2014-08-01 12:57:00    777\n",
              "2014-08-01 12:58:00    778\n",
              "2014-08-01 12:59:00    779\n",
              "Freq: T, Length: 30, dtype: int64"
            ]
          },
          "metadata": {
            "tags": []
          },
          "execution_count": 82
        }
      ]
    },
    {
      "cell_type": "code",
      "metadata": {
        "colab": {
          "base_uri": "https://localhost:8080/"
        },
        "id": "L2A3-qyVvRQg",
        "outputId": "0fdf89fe-a327-4b1a-cc29-bb8ecdc8c9a1"
      },
      "source": [
        "aug2014 = pd.Period('2014-08', freq='M')\r\n",
        "aug2014"
      ],
      "execution_count": null,
      "outputs": [
        {
          "output_type": "execute_result",
          "data": {
            "text/plain": [
              "Period('2014-08', 'M')"
            ]
          },
          "metadata": {
            "tags": []
          },
          "execution_count": 83
        }
      ]
    },
    {
      "cell_type": "code",
      "metadata": {
        "colab": {
          "base_uri": "https://localhost:8080/"
        },
        "id": "WGtgXYSmv2-c",
        "outputId": "0465fa8d-d10f-4aa3-e9db-b7af688eb4df"
      },
      "source": [
        "sep2014 = aug2014 + 1\r\n",
        "sep2014"
      ],
      "execution_count": null,
      "outputs": [
        {
          "output_type": "execute_result",
          "data": {
            "text/plain": [
              "Period('2014-09', 'M')"
            ]
          },
          "metadata": {
            "tags": []
          },
          "execution_count": 84
        }
      ]
    },
    {
      "cell_type": "code",
      "metadata": {
        "colab": {
          "base_uri": "https://localhost:8080/"
        },
        "id": "5t9QJX4tweAz",
        "outputId": "eaa93c99-c846-4dfd-c72a-527d78cc2940"
      },
      "source": [
        "msft.describe()"
      ],
      "execution_count": null,
      "outputs": [
        {
          "output_type": "execute_result",
          "data": {
            "text/plain": [
              "           Open      High       Low     Close  Adj Close     Volume\n",
              "count  5312.000  5312.000  5312.000  5312.000   5312.000  5.312e+03\n",
              "mean     50.419    50.950    49.882    50.429     44.147  5.436e+07\n",
              "std      44.358    44.822    43.865    44.375     46.332  3.126e+07\n",
              "min      15.200    15.620    14.870    15.150     11.608  7.426e+06\n",
              "25%      26.717    26.980    26.430    26.700     19.134  3.213e+07\n",
              "50%      30.250    30.615    29.988    30.260     22.516  4.960e+07\n",
              "75%      50.978    51.658    50.345    51.035     45.761  6.779e+07\n",
              "max     245.000   245.920   242.150   244.490    244.490  5.911e+08"
            ]
          },
          "metadata": {
            "tags": []
          },
          "execution_count": 85
        }
      ]
    },
    {
      "cell_type": "code",
      "metadata": {
        "colab": {
          "base_uri": "https://localhost:8080/"
        },
        "id": "4uByGcmvyrqR",
        "outputId": "90c81568-1776-47ab-b750-d1b8bd7b9142"
      },
      "source": [
        "msft.describe(percentiles=[0.025, 0.5, 0.975])"
      ],
      "execution_count": null,
      "outputs": [
        {
          "output_type": "execute_result",
          "data": {
            "text/plain": [
              "           Open      High       Low     Close  Adj Close     Volume\n",
              "count  5312.000  5312.000  5312.000  5312.000   5312.000  5.312e+03\n",
              "mean     50.419    50.950    49.882    50.429     44.147  5.436e+07\n",
              "std      44.358    44.822    43.865    44.375     46.332  3.126e+07\n",
              "min      15.200    15.620    14.870    15.150     11.608  7.426e+06\n",
              "2.5%     20.721    21.250    20.295    20.853     14.966  1.692e+07\n",
              "50%      30.250    30.615    29.988    30.260     22.516  4.960e+07\n",
              "97.5%   205.781   208.842   202.646   205.122    204.586  1.275e+08\n",
              "max     245.000   245.920   242.150   244.490    244.490  5.911e+08"
            ]
          },
          "metadata": {
            "tags": []
          },
          "execution_count": 86
        }
      ]
    },
    {
      "cell_type": "code",
      "metadata": {
        "id": "-Exrhu9czKyq"
      },
      "source": [
        "import scipy.stats as stats\r\n"
      ],
      "execution_count": 64,
      "outputs": []
    },
    {
      "cell_type": "code",
      "metadata": {
        "id": "wd4ITiZX0Jfo"
      },
      "source": [
        "msftAC = msft['2012']['Adj Close']"
      ],
      "execution_count": null,
      "outputs": []
    },
    {
      "cell_type": "code",
      "metadata": {
        "colab": {
          "base_uri": "https://localhost:8080/"
        },
        "id": "MBXcfX-G2nOT",
        "outputId": "46dfd351-53e1-416d-c966-c223f8362427"
      },
      "source": [
        "msftAC[:5]"
      ],
      "execution_count": null,
      "outputs": [
        {
          "output_type": "execute_result",
          "data": {
            "text/plain": [
              "Date\n",
              "2012-01-03    21.849\n",
              "2012-01-04    22.364\n",
              "2012-01-05    22.592\n",
              "2012-01-06    22.943\n",
              "2012-01-09    22.641\n",
              "Name: Adj Close, dtype: float64"
            ]
          },
          "metadata": {
            "tags": []
          },
          "execution_count": 97
        }
      ]
    },
    {
      "cell_type": "code",
      "metadata": {
        "colab": {
          "base_uri": "https://localhost:8080/",
          "height": 335
        },
        "id": "AotJmCNG2q7-",
        "outputId": "cb6a445f-c7fb-41b3-e779-00ab9a49fd5f"
      },
      "source": [
        "sample = msftAC['2021']\r\n",
        "sample.plot(figsize=(12,5));"
      ],
      "execution_count": 66,
      "outputs": [
        {
          "output_type": "display_data",
          "data": {
            "image/png": "[encoded data removed]",
            "text/plain": [
              "<Figure size 864x360 with 1 Axes>"
            ]
          },
          "metadata": {
            "tags": [],
            "needs_background": "light"
          }
        }
      ]
    },
    {
      "cell_type": "code",
      "metadata": {
        "id": "sN1jh4P33mdQ"
      },
      "source": [
        "msftAC = msft['2013']['Adj Close']"
      ],
      "execution_count": null,
      "outputs": []
    },
    {
      "cell_type": "code",
      "metadata": {
        "colab": {
          "base_uri": "https://localhost:8080/",
          "height": 326
        },
        "id": "GB1B7zIk3DbD",
        "outputId": "ef5b60fa-62a4-4f5d-9207-2d007fbbb375"
      },
      "source": [
        "sample1 = msftAC['2013']\r\n",
        "sample1.plot(figsize=(12,5));"
      ],
      "execution_count": null,
      "outputs": [
        {
          "output_type": "display_data",
          "data": {
            "image/png": "[encoded data removed]",
            "text/plain": [
              "<Figure size 864x360 with 1 Axes>"
            ]
          },
          "metadata": {
            "tags": [],
            "needs_background": "light"
          }
        }
      ]
    },
    {
      "cell_type": "code",
      "metadata": {
        "colab": {
          "base_uri": "https://localhost:8080/",
          "height": 513
        },
        "id": "5RWuj1E7sPbV",
        "outputId": "3f1dc322-93eb-442e-d6f2-35baddce8646"
      },
      "source": [
        "f = plt.figure(figsize=(12,8))\r\n",
        "ax = f.add_subplot(111)\r\n",
        "stats.probplot(msftAC, dist='norm', plot=ax)\r\n",
        "plt.show();\r\n"
      ],
      "execution_count": 65,
      "outputs": [
        {
          "output_type": "display_data",
          "data": {
            "image/png": "[encoded data removed]",
            "text/plain": [
              "<Figure size 864x576 with 1 Axes>"
            ]
          },
          "metadata": {
            "tags": [],
            "needs_background": "light"
          }
        }
      ]
    },
    {
      "cell_type": "code",
      "metadata": {
        "colab": {
          "base_uri": "https://localhost:8080/",
          "height": 335
        },
        "id": "EK7shecdtYJT",
        "outputId": "52a8a83a-3c75-4567-9a39-6c6c611216f9"
      },
      "source": [
        "sample = msftAC['2021']\r\n",
        "sample.plot(figsize=(12,5));"
      ],
      "execution_count": 67,
      "outputs": [
        {
          "output_type": "display_data",
          "data": {
            "image/png": "[encoded data removed]",
            "text/plain": [
              "<Figure size 864x360 with 1 Axes>"
            ]
          },
          "metadata": {
            "tags": [],
            "needs_background": "light"
          }
        }
      ]
    },
    {
      "cell_type": "code",
      "metadata": {
        "id": "EepWCx11z6LF"
      },
      "source": [
        "tcs = yf.download('TCS.NS',\r\n",
        "start='2000-01-01',\r\n",
        "end='2021-02-18',\r\n",
        "progress=False)"
      ],
      "execution_count": 55,
      "outputs": []
    },
    {
      "cell_type": "code",
      "metadata": {
        "id": "M5PBNjzk0EXZ",
        "colab": {
          "base_uri": "https://localhost:8080/",
          "height": 297
        },
        "outputId": "13ed70e7-f14f-46bc-d79f-d01102204d93"
      },
      "source": [
        "tcs.head(7)"
      ],
      "execution_count": 5,
      "outputs": [
        {
          "output_type": "execute_result",
          "data": {
            "text/html": [
              "<div>\n",
              "<style scoped>\n",
              "    .dataframe tbody tr th:only-of-type {\n",
              "        vertical-align: middle;\n",
              "    }\n",
              "\n",
              "    .dataframe tbody tr th {\n",
              "        vertical-align: top;\n",
              "    }\n",
              "\n",
              "    .dataframe thead th {\n",
              "        text-align: right;\n",
              "    }\n",
              "</style>\n",
              "<table border=\"1\" class=\"dataframe\">\n",
              "  <thead>\n",
              "    <tr style=\"text-align: right;\">\n",
              "      <th></th>\n",
              "      <th>Open</th>\n",
              "      <th>High</th>\n",
              "      <th>Low</th>\n",
              "      <th>Close</th>\n",
              "      <th>Adj Close</th>\n",
              "      <th>Volume</th>\n",
              "    </tr>\n",
              "    <tr>\n",
              "      <th>Date</th>\n",
              "      <th></th>\n",
              "      <th></th>\n",
              "      <th></th>\n",
              "      <th></th>\n",
              "      <th></th>\n",
              "      <th></th>\n",
              "    </tr>\n",
              "  </thead>\n",
              "  <tbody>\n",
              "    <tr>\n",
              "      <th>2004-08-25</th>\n",
              "      <td>149.837494</td>\n",
              "      <td>149.837494</td>\n",
              "      <td>122.375000</td>\n",
              "      <td>123.493752</td>\n",
              "      <td>92.474930</td>\n",
              "      <td>136928</td>\n",
              "    </tr>\n",
              "    <tr>\n",
              "      <th>2004-08-26</th>\n",
              "      <td>124.000000</td>\n",
              "      <td>124.625000</td>\n",
              "      <td>121.912498</td>\n",
              "      <td>122.375000</td>\n",
              "      <td>91.637184</td>\n",
              "      <td>40443200</td>\n",
              "    </tr>\n",
              "    <tr>\n",
              "      <th>2004-08-27</th>\n",
              "      <td>122.800003</td>\n",
              "      <td>122.800003</td>\n",
              "      <td>119.820000</td>\n",
              "      <td>120.332497</td>\n",
              "      <td>90.107712</td>\n",
              "      <td>30646000</td>\n",
              "    </tr>\n",
              "    <tr>\n",
              "      <th>2004-08-30</th>\n",
              "      <td>121.237503</td>\n",
              "      <td>123.750000</td>\n",
              "      <td>120.625000</td>\n",
              "      <td>123.345001</td>\n",
              "      <td>92.363548</td>\n",
              "      <td>24465208</td>\n",
              "    </tr>\n",
              "    <tr>\n",
              "      <th>2004-08-31</th>\n",
              "      <td>123.312500</td>\n",
              "      <td>123.750000</td>\n",
              "      <td>122.000000</td>\n",
              "      <td>123.512497</td>\n",
              "      <td>92.488968</td>\n",
              "      <td>21194656</td>\n",
              "    </tr>\n",
              "    <tr>\n",
              "      <th>2004-09-01</th>\n",
              "      <td>123.750000</td>\n",
              "      <td>124.375000</td>\n",
              "      <td>122.949997</td>\n",
              "      <td>123.487503</td>\n",
              "      <td>92.470253</td>\n",
              "      <td>19935544</td>\n",
              "    </tr>\n",
              "    <tr>\n",
              "      <th>2004-09-02</th>\n",
              "      <td>123.737503</td>\n",
              "      <td>125.574997</td>\n",
              "      <td>123.250000</td>\n",
              "      <td>124.207497</td>\n",
              "      <td>93.009407</td>\n",
              "      <td>21356352</td>\n",
              "    </tr>\n",
              "  </tbody>\n",
              "</table>\n",
              "</div>"
            ],
            "text/plain": [
              "                  Open        High         Low       Close  Adj Close    Volume\n",
              "Date                                                                           \n",
              "2004-08-25  149.837494  149.837494  122.375000  123.493752  92.474930    136928\n",
              "2004-08-26  124.000000  124.625000  121.912498  122.375000  91.637184  40443200\n",
              "2004-08-27  122.800003  122.800003  119.820000  120.332497  90.107712  30646000\n",
              "2004-08-30  121.237503  123.750000  120.625000  123.345001  92.363548  24465208\n",
              "2004-08-31  123.312500  123.750000  122.000000  123.512497  92.488968  21194656\n",
              "2004-09-01  123.750000  124.375000  122.949997  123.487503  92.470253  19935544\n",
              "2004-09-02  123.737503  125.574997  123.250000  124.207497  93.009407  21356352"
            ]
          },
          "metadata": {
            "tags": []
          },
          "execution_count": 5
        }
      ]
    },
    {
      "cell_type": "code",
      "metadata": {
        "colab": {
          "base_uri": "https://localhost:8080/",
          "height": 297
        },
        "id": "GnHRPlDtUTYM",
        "outputId": "d38c6809-cbbc-4f77-d1d0-a7e7d89ecf7c"
      },
      "source": [
        "tcs.tail(7)"
      ],
      "execution_count": 6,
      "outputs": [
        {
          "output_type": "execute_result",
          "data": {
            "text/html": [
              "<div>\n",
              "<style scoped>\n",
              "    .dataframe tbody tr th:only-of-type {\n",
              "        vertical-align: middle;\n",
              "    }\n",
              "\n",
              "    .dataframe tbody tr th {\n",
              "        vertical-align: top;\n",
              "    }\n",
              "\n",
              "    .dataframe thead th {\n",
              "        text-align: right;\n",
              "    }\n",
              "</style>\n",
              "<table border=\"1\" class=\"dataframe\">\n",
              "  <thead>\n",
              "    <tr style=\"text-align: right;\">\n",
              "      <th></th>\n",
              "      <th>Open</th>\n",
              "      <th>High</th>\n",
              "      <th>Low</th>\n",
              "      <th>Close</th>\n",
              "      <th>Adj Close</th>\n",
              "      <th>Volume</th>\n",
              "    </tr>\n",
              "    <tr>\n",
              "      <th>Date</th>\n",
              "      <th></th>\n",
              "      <th></th>\n",
              "      <th></th>\n",
              "      <th></th>\n",
              "      <th></th>\n",
              "      <th></th>\n",
              "    </tr>\n",
              "  </thead>\n",
              "  <tbody>\n",
              "    <tr>\n",
              "      <th>2021-02-09</th>\n",
              "      <td>3195.000000</td>\n",
              "      <td>3245.800049</td>\n",
              "      <td>3164.000000</td>\n",
              "      <td>3176.899902</td>\n",
              "      <td>3176.899902</td>\n",
              "      <td>2658751</td>\n",
              "    </tr>\n",
              "    <tr>\n",
              "      <th>2021-02-10</th>\n",
              "      <td>3185.000000</td>\n",
              "      <td>3219.399902</td>\n",
              "      <td>3157.300049</td>\n",
              "      <td>3213.300049</td>\n",
              "      <td>3213.300049</td>\n",
              "      <td>2127983</td>\n",
              "    </tr>\n",
              "    <tr>\n",
              "      <th>2021-02-11</th>\n",
              "      <td>3215.000000</td>\n",
              "      <td>3219.300049</td>\n",
              "      <td>3185.050049</td>\n",
              "      <td>3206.000000</td>\n",
              "      <td>3206.000000</td>\n",
              "      <td>1165882</td>\n",
              "    </tr>\n",
              "    <tr>\n",
              "      <th>2021-02-12</th>\n",
              "      <td>3184.199951</td>\n",
              "      <td>3245.500000</td>\n",
              "      <td>3182.000000</td>\n",
              "      <td>3190.800049</td>\n",
              "      <td>3190.800049</td>\n",
              "      <td>2777404</td>\n",
              "    </tr>\n",
              "    <tr>\n",
              "      <th>2021-02-15</th>\n",
              "      <td>3209.000000</td>\n",
              "      <td>3209.000000</td>\n",
              "      <td>3131.550049</td>\n",
              "      <td>3139.850098</td>\n",
              "      <td>3139.850098</td>\n",
              "      <td>2630853</td>\n",
              "    </tr>\n",
              "    <tr>\n",
              "      <th>2021-02-16</th>\n",
              "      <td>3150.000000</td>\n",
              "      <td>3167.649902</td>\n",
              "      <td>3100.000000</td>\n",
              "      <td>3108.800049</td>\n",
              "      <td>3108.800049</td>\n",
              "      <td>3435770</td>\n",
              "    </tr>\n",
              "    <tr>\n",
              "      <th>2021-02-17</th>\n",
              "      <td>3105.100098</td>\n",
              "      <td>3132.850098</td>\n",
              "      <td>3045.550049</td>\n",
              "      <td>3073.100098</td>\n",
              "      <td>3073.100098</td>\n",
              "      <td>3678426</td>\n",
              "    </tr>\n",
              "  </tbody>\n",
              "</table>\n",
              "</div>"
            ],
            "text/plain": [
              "                   Open         High  ...    Adj Close   Volume\n",
              "Date                                  ...                      \n",
              "2021-02-09  3195.000000  3245.800049  ...  3176.899902  2658751\n",
              "2021-02-10  3185.000000  3219.399902  ...  3213.300049  2127983\n",
              "2021-02-11  3215.000000  3219.300049  ...  3206.000000  1165882\n",
              "2021-02-12  3184.199951  3245.500000  ...  3190.800049  2777404\n",
              "2021-02-15  3209.000000  3209.000000  ...  3139.850098  2630853\n",
              "2021-02-16  3150.000000  3167.649902  ...  3108.800049  3435770\n",
              "2021-02-17  3105.100098  3132.850098  ...  3073.100098  3678426\n",
              "\n",
              "[7 rows x 6 columns]"
            ]
          },
          "metadata": {
            "tags": []
          },
          "execution_count": 6
        }
      ]
    },
    {
      "cell_type": "code",
      "metadata": {
        "colab": {
          "base_uri": "https://localhost:8080/"
        },
        "id": "D7bPifFrUxc-",
        "outputId": "03f95be3-cbff-47d4-cd5b-8a3b7006ea05"
      },
      "source": [
        "tcsAC = tcs['Adj Close']\r\n",
        "tcsAC.tail(4)"
      ],
      "execution_count": 72,
      "outputs": [
        {
          "output_type": "execute_result",
          "data": {
            "text/plain": [
              "Date\n",
              "2021-02-12    3190.800049\n",
              "2021-02-15    3139.850098\n",
              "2021-02-16    3108.800049\n",
              "2021-02-17    3073.100098\n",
              "Name: Adj Close, dtype: float64"
            ]
          },
          "metadata": {
            "tags": []
          },
          "execution_count": 72
        }
      ]
    },
    {
      "cell_type": "code",
      "metadata": {
        "colab": {
          "base_uri": "https://localhost:8080/",
          "height": 483
        },
        "id": "sxsEzXRVVVY_",
        "outputId": "80bcb5f3-b712-404a-f205-0ff662961f43"
      },
      "source": [
        "tcs['2021-02-01':'2021-02-18']"
      ],
      "execution_count": 9,
      "outputs": [
        {
          "output_type": "execute_result",
          "data": {
            "text/html": [
              "<div>\n",
              "<style scoped>\n",
              "    .dataframe tbody tr th:only-of-type {\n",
              "        vertical-align: middle;\n",
              "    }\n",
              "\n",
              "    .dataframe tbody tr th {\n",
              "        vertical-align: top;\n",
              "    }\n",
              "\n",
              "    .dataframe thead th {\n",
              "        text-align: right;\n",
              "    }\n",
              "</style>\n",
              "<table border=\"1\" class=\"dataframe\">\n",
              "  <thead>\n",
              "    <tr style=\"text-align: right;\">\n",
              "      <th></th>\n",
              "      <th>Open</th>\n",
              "      <th>High</th>\n",
              "      <th>Low</th>\n",
              "      <th>Close</th>\n",
              "      <th>Adj Close</th>\n",
              "      <th>Volume</th>\n",
              "    </tr>\n",
              "    <tr>\n",
              "      <th>Date</th>\n",
              "      <th></th>\n",
              "      <th></th>\n",
              "      <th></th>\n",
              "      <th></th>\n",
              "      <th></th>\n",
              "      <th></th>\n",
              "    </tr>\n",
              "  </thead>\n",
              "  <tbody>\n",
              "    <tr>\n",
              "      <th>2021-02-01</th>\n",
              "      <td>3100.000000</td>\n",
              "      <td>3165.000000</td>\n",
              "      <td>3044.100098</td>\n",
              "      <td>3139.350098</td>\n",
              "      <td>3139.350098</td>\n",
              "      <td>3985846</td>\n",
              "    </tr>\n",
              "    <tr>\n",
              "      <th>2021-02-02</th>\n",
              "      <td>3174.000000</td>\n",
              "      <td>3224.000000</td>\n",
              "      <td>3150.000000</td>\n",
              "      <td>3203.449951</td>\n",
              "      <td>3203.449951</td>\n",
              "      <td>2881837</td>\n",
              "    </tr>\n",
              "    <tr>\n",
              "      <th>2021-02-03</th>\n",
              "      <td>3213.000000</td>\n",
              "      <td>3236.000000</td>\n",
              "      <td>3162.649902</td>\n",
              "      <td>3200.050049</td>\n",
              "      <td>3200.050049</td>\n",
              "      <td>2505866</td>\n",
              "    </tr>\n",
              "    <tr>\n",
              "      <th>2021-02-04</th>\n",
              "      <td>3216.050049</td>\n",
              "      <td>3237.850098</td>\n",
              "      <td>3176.000000</td>\n",
              "      <td>3188.449951</td>\n",
              "      <td>3188.449951</td>\n",
              "      <td>2057261</td>\n",
              "    </tr>\n",
              "    <tr>\n",
              "      <th>2021-02-05</th>\n",
              "      <td>3198.949951</td>\n",
              "      <td>3205.850098</td>\n",
              "      <td>3129.000000</td>\n",
              "      <td>3157.949951</td>\n",
              "      <td>3157.949951</td>\n",
              "      <td>2366135</td>\n",
              "    </tr>\n",
              "    <tr>\n",
              "      <th>2021-02-08</th>\n",
              "      <td>3189.500000</td>\n",
              "      <td>3226.000000</td>\n",
              "      <td>3155.149902</td>\n",
              "      <td>3214.100098</td>\n",
              "      <td>3214.100098</td>\n",
              "      <td>2526592</td>\n",
              "    </tr>\n",
              "    <tr>\n",
              "      <th>2021-02-09</th>\n",
              "      <td>3195.000000</td>\n",
              "      <td>3245.800049</td>\n",
              "      <td>3164.000000</td>\n",
              "      <td>3176.899902</td>\n",
              "      <td>3176.899902</td>\n",
              "      <td>2658751</td>\n",
              "    </tr>\n",
              "    <tr>\n",
              "      <th>2021-02-10</th>\n",
              "      <td>3185.000000</td>\n",
              "      <td>3219.399902</td>\n",
              "      <td>3157.300049</td>\n",
              "      <td>3213.300049</td>\n",
              "      <td>3213.300049</td>\n",
              "      <td>2127983</td>\n",
              "    </tr>\n",
              "    <tr>\n",
              "      <th>2021-02-11</th>\n",
              "      <td>3215.000000</td>\n",
              "      <td>3219.300049</td>\n",
              "      <td>3185.050049</td>\n",
              "      <td>3206.000000</td>\n",
              "      <td>3206.000000</td>\n",
              "      <td>1165882</td>\n",
              "    </tr>\n",
              "    <tr>\n",
              "      <th>2021-02-12</th>\n",
              "      <td>3184.199951</td>\n",
              "      <td>3245.500000</td>\n",
              "      <td>3182.000000</td>\n",
              "      <td>3190.800049</td>\n",
              "      <td>3190.800049</td>\n",
              "      <td>2777404</td>\n",
              "    </tr>\n",
              "    <tr>\n",
              "      <th>2021-02-15</th>\n",
              "      <td>3209.000000</td>\n",
              "      <td>3209.000000</td>\n",
              "      <td>3131.550049</td>\n",
              "      <td>3139.850098</td>\n",
              "      <td>3139.850098</td>\n",
              "      <td>2630853</td>\n",
              "    </tr>\n",
              "    <tr>\n",
              "      <th>2021-02-16</th>\n",
              "      <td>3150.000000</td>\n",
              "      <td>3167.649902</td>\n",
              "      <td>3100.000000</td>\n",
              "      <td>3108.800049</td>\n",
              "      <td>3108.800049</td>\n",
              "      <td>3435770</td>\n",
              "    </tr>\n",
              "    <tr>\n",
              "      <th>2021-02-17</th>\n",
              "      <td>3105.100098</td>\n",
              "      <td>3132.850098</td>\n",
              "      <td>3045.550049</td>\n",
              "      <td>3073.100098</td>\n",
              "      <td>3073.100098</td>\n",
              "      <td>3678426</td>\n",
              "    </tr>\n",
              "  </tbody>\n",
              "</table>\n",
              "</div>"
            ],
            "text/plain": [
              "                   Open         High  ...    Adj Close   Volume\n",
              "Date                                  ...                      \n",
              "2021-02-01  3100.000000  3165.000000  ...  3139.350098  3985846\n",
              "2021-02-02  3174.000000  3224.000000  ...  3203.449951  2881837\n",
              "2021-02-03  3213.000000  3236.000000  ...  3200.050049  2505866\n",
              "2021-02-04  3216.050049  3237.850098  ...  3188.449951  2057261\n",
              "2021-02-05  3198.949951  3205.850098  ...  3157.949951  2366135\n",
              "2021-02-08  3189.500000  3226.000000  ...  3214.100098  2526592\n",
              "2021-02-09  3195.000000  3245.800049  ...  3176.899902  2658751\n",
              "2021-02-10  3185.000000  3219.399902  ...  3213.300049  2127983\n",
              "2021-02-11  3215.000000  3219.300049  ...  3206.000000  1165882\n",
              "2021-02-12  3184.199951  3245.500000  ...  3190.800049  2777404\n",
              "2021-02-15  3209.000000  3209.000000  ...  3139.850098  2630853\n",
              "2021-02-16  3150.000000  3167.649902  ...  3108.800049  3435770\n",
              "2021-02-17  3105.100098  3132.850098  ...  3073.100098  3678426\n",
              "\n",
              "[13 rows x 6 columns]"
            ]
          },
          "metadata": {
            "tags": []
          },
          "execution_count": 9
        }
      ]
    },
    {
      "cell_type": "code",
      "metadata": {
        "colab": {
          "base_uri": "https://localhost:8080/",
          "height": 142
        },
        "id": "C9gnH9HKWMH-",
        "outputId": "b6dbd281-ef2a-4a83-bf68-6d4e0417192a"
      },
      "source": [
        "tcs.loc[['2021-02-17','2020-02-17']]"
      ],
      "execution_count": 18,
      "outputs": [
        {
          "output_type": "execute_result",
          "data": {
            "text/html": [
              "<div>\n",
              "<style scoped>\n",
              "    .dataframe tbody tr th:only-of-type {\n",
              "        vertical-align: middle;\n",
              "    }\n",
              "\n",
              "    .dataframe tbody tr th {\n",
              "        vertical-align: top;\n",
              "    }\n",
              "\n",
              "    .dataframe thead th {\n",
              "        text-align: right;\n",
              "    }\n",
              "</style>\n",
              "<table border=\"1\" class=\"dataframe\">\n",
              "  <thead>\n",
              "    <tr style=\"text-align: right;\">\n",
              "      <th></th>\n",
              "      <th>Open</th>\n",
              "      <th>High</th>\n",
              "      <th>Low</th>\n",
              "      <th>Close</th>\n",
              "      <th>Adj Close</th>\n",
              "      <th>Volume</th>\n",
              "    </tr>\n",
              "    <tr>\n",
              "      <th>Date</th>\n",
              "      <th></th>\n",
              "      <th></th>\n",
              "      <th></th>\n",
              "      <th></th>\n",
              "      <th></th>\n",
              "      <th></th>\n",
              "    </tr>\n",
              "  </thead>\n",
              "  <tbody>\n",
              "    <tr>\n",
              "      <th>2021-02-17</th>\n",
              "      <td>3105.100098</td>\n",
              "      <td>3132.850098</td>\n",
              "      <td>3045.550049</td>\n",
              "      <td>3073.100098</td>\n",
              "      <td>3073.100098</td>\n",
              "      <td>3678426</td>\n",
              "    </tr>\n",
              "    <tr>\n",
              "      <th>2020-02-17</th>\n",
              "      <td>2196.949951</td>\n",
              "      <td>2217.000000</td>\n",
              "      <td>2190.199951</td>\n",
              "      <td>2203.250000</td>\n",
              "      <td>2162.623535</td>\n",
              "      <td>1774724</td>\n",
              "    </tr>\n",
              "  </tbody>\n",
              "</table>\n",
              "</div>"
            ],
            "text/plain": [
              "                   Open         High  ...    Adj Close   Volume\n",
              "Date                                  ...                      \n",
              "2021-02-17  3105.100098  3132.850098  ...  3073.100098  3678426\n",
              "2020-02-17  2196.949951  2217.000000  ...  2162.623535  1774724\n",
              "\n",
              "[2 rows x 6 columns]"
            ]
          },
          "metadata": {
            "tags": []
          },
          "execution_count": 18
        }
      ]
    },
    {
      "cell_type": "code",
      "metadata": {
        "colab": {
          "base_uri": "https://localhost:8080/",
          "height": 235
        },
        "id": "RU00w6mJWc1y",
        "outputId": "d96b9890-d650-4f2d-a714-6bb550f57d4f"
      },
      "source": [
        "tcs['2020-02'].head()"
      ],
      "execution_count": 11,
      "outputs": [
        {
          "output_type": "execute_result",
          "data": {
            "text/html": [
              "<div>\n",
              "<style scoped>\n",
              "    .dataframe tbody tr th:only-of-type {\n",
              "        vertical-align: middle;\n",
              "    }\n",
              "\n",
              "    .dataframe tbody tr th {\n",
              "        vertical-align: top;\n",
              "    }\n",
              "\n",
              "    .dataframe thead th {\n",
              "        text-align: right;\n",
              "    }\n",
              "</style>\n",
              "<table border=\"1\" class=\"dataframe\">\n",
              "  <thead>\n",
              "    <tr style=\"text-align: right;\">\n",
              "      <th></th>\n",
              "      <th>Open</th>\n",
              "      <th>High</th>\n",
              "      <th>Low</th>\n",
              "      <th>Close</th>\n",
              "      <th>Adj Close</th>\n",
              "      <th>Volume</th>\n",
              "    </tr>\n",
              "    <tr>\n",
              "      <th>Date</th>\n",
              "      <th></th>\n",
              "      <th></th>\n",
              "      <th></th>\n",
              "      <th></th>\n",
              "      <th></th>\n",
              "      <th></th>\n",
              "    </tr>\n",
              "  </thead>\n",
              "  <tbody>\n",
              "    <tr>\n",
              "      <th>2020-02-03</th>\n",
              "      <td>2152.0</td>\n",
              "      <td>2194.699951</td>\n",
              "      <td>2093.199951</td>\n",
              "      <td>2102.500000</td>\n",
              "      <td>2063.731201</td>\n",
              "      <td>4728073</td>\n",
              "    </tr>\n",
              "    <tr>\n",
              "      <th>2020-02-04</th>\n",
              "      <td>2129.0</td>\n",
              "      <td>2136.699951</td>\n",
              "      <td>2086.600098</td>\n",
              "      <td>2107.750000</td>\n",
              "      <td>2068.884521</td>\n",
              "      <td>3509339</td>\n",
              "    </tr>\n",
              "    <tr>\n",
              "      <th>2020-02-05</th>\n",
              "      <td>2115.0</td>\n",
              "      <td>2156.699951</td>\n",
              "      <td>2104.300049</td>\n",
              "      <td>2146.550049</td>\n",
              "      <td>2106.968994</td>\n",
              "      <td>2439322</td>\n",
              "    </tr>\n",
              "    <tr>\n",
              "      <th>2020-02-06</th>\n",
              "      <td>2145.0</td>\n",
              "      <td>2174.199951</td>\n",
              "      <td>2115.500000</td>\n",
              "      <td>2128.350098</td>\n",
              "      <td>2089.104980</td>\n",
              "      <td>2640065</td>\n",
              "    </tr>\n",
              "    <tr>\n",
              "      <th>2020-02-07</th>\n",
              "      <td>2139.0</td>\n",
              "      <td>2151.000000</td>\n",
              "      <td>2119.000000</td>\n",
              "      <td>2136.550049</td>\n",
              "      <td>2097.153564</td>\n",
              "      <td>2083442</td>\n",
              "    </tr>\n",
              "  </tbody>\n",
              "</table>\n",
              "</div>"
            ],
            "text/plain": [
              "              Open         High          Low        Close    Adj Close   Volume\n",
              "Date                                                                           \n",
              "2020-02-03  2152.0  2194.699951  2093.199951  2102.500000  2063.731201  4728073\n",
              "2020-02-04  2129.0  2136.699951  2086.600098  2107.750000  2068.884521  3509339\n",
              "2020-02-05  2115.0  2156.699951  2104.300049  2146.550049  2106.968994  2439322\n",
              "2020-02-06  2145.0  2174.199951  2115.500000  2128.350098  2089.104980  2640065\n",
              "2020-02-07  2139.0  2151.000000  2119.000000  2136.550049  2097.153564  2083442"
            ]
          },
          "metadata": {
            "tags": []
          },
          "execution_count": 11
        }
      ]
    },
    {
      "cell_type": "code",
      "metadata": {
        "colab": {
          "base_uri": "https://localhost:8080/",
          "height": 390
        },
        "id": "E38D6HhSW7tU",
        "outputId": "4c66c4ff-f521-41ba-ca0d-8c8d4dc3e932"
      },
      "source": [
        "tcs['2012-02':'2012-02-17'][:10]"
      ],
      "execution_count": 20,
      "outputs": [
        {
          "output_type": "execute_result",
          "data": {
            "text/html": [
              "<div>\n",
              "<style scoped>\n",
              "    .dataframe tbody tr th:only-of-type {\n",
              "        vertical-align: middle;\n",
              "    }\n",
              "\n",
              "    .dataframe tbody tr th {\n",
              "        vertical-align: top;\n",
              "    }\n",
              "\n",
              "    .dataframe thead th {\n",
              "        text-align: right;\n",
              "    }\n",
              "</style>\n",
              "<table border=\"1\" class=\"dataframe\">\n",
              "  <thead>\n",
              "    <tr style=\"text-align: right;\">\n",
              "      <th></th>\n",
              "      <th>Open</th>\n",
              "      <th>High</th>\n",
              "      <th>Low</th>\n",
              "      <th>Close</th>\n",
              "      <th>Adj Close</th>\n",
              "      <th>Volume</th>\n",
              "    </tr>\n",
              "    <tr>\n",
              "      <th>Date</th>\n",
              "      <th></th>\n",
              "      <th></th>\n",
              "      <th></th>\n",
              "      <th></th>\n",
              "      <th></th>\n",
              "      <th></th>\n",
              "    </tr>\n",
              "  </thead>\n",
              "  <tbody>\n",
              "    <tr>\n",
              "      <th>2012-02-01</th>\n",
              "      <td>564.700012</td>\n",
              "      <td>567.500000</td>\n",
              "      <td>554.125000</td>\n",
              "      <td>564.349976</td>\n",
              "      <td>471.020233</td>\n",
              "      <td>2288804</td>\n",
              "    </tr>\n",
              "    <tr>\n",
              "      <th>2012-02-02</th>\n",
              "      <td>568.000000</td>\n",
              "      <td>576.325012</td>\n",
              "      <td>565.150024</td>\n",
              "      <td>574.000000</td>\n",
              "      <td>479.074310</td>\n",
              "      <td>3386140</td>\n",
              "    </tr>\n",
              "    <tr>\n",
              "      <th>2012-02-03</th>\n",
              "      <td>572.500000</td>\n",
              "      <td>588.000000</td>\n",
              "      <td>570.500000</td>\n",
              "      <td>585.775024</td>\n",
              "      <td>488.902130</td>\n",
              "      <td>2777558</td>\n",
              "    </tr>\n",
              "    <tr>\n",
              "      <th>2012-02-06</th>\n",
              "      <td>591.849976</td>\n",
              "      <td>600.025024</td>\n",
              "      <td>586.674988</td>\n",
              "      <td>596.924988</td>\n",
              "      <td>498.208069</td>\n",
              "      <td>3427196</td>\n",
              "    </tr>\n",
              "    <tr>\n",
              "      <th>2012-02-07</th>\n",
              "      <td>604.849976</td>\n",
              "      <td>604.849976</td>\n",
              "      <td>595.950012</td>\n",
              "      <td>599.000000</td>\n",
              "      <td>499.940277</td>\n",
              "      <td>3407656</td>\n",
              "    </tr>\n",
              "    <tr>\n",
              "      <th>2012-02-08</th>\n",
              "      <td>608.200012</td>\n",
              "      <td>613.424988</td>\n",
              "      <td>605.500000</td>\n",
              "      <td>609.825012</td>\n",
              "      <td>508.974762</td>\n",
              "      <td>3627184</td>\n",
              "    </tr>\n",
              "    <tr>\n",
              "      <th>2012-02-09</th>\n",
              "      <td>605.549988</td>\n",
              "      <td>616.000000</td>\n",
              "      <td>594.000000</td>\n",
              "      <td>614.299988</td>\n",
              "      <td>512.709839</td>\n",
              "      <td>3038062</td>\n",
              "    </tr>\n",
              "    <tr>\n",
              "      <th>2012-02-10</th>\n",
              "      <td>614.000000</td>\n",
              "      <td>619.000000</td>\n",
              "      <td>606.000000</td>\n",
              "      <td>616.700012</td>\n",
              "      <td>514.713074</td>\n",
              "      <td>2324302</td>\n",
              "    </tr>\n",
              "    <tr>\n",
              "      <th>2012-02-13</th>\n",
              "      <td>611.099976</td>\n",
              "      <td>618.974976</td>\n",
              "      <td>607.000000</td>\n",
              "      <td>612.849976</td>\n",
              "      <td>511.499542</td>\n",
              "      <td>1631770</td>\n",
              "    </tr>\n",
              "    <tr>\n",
              "      <th>2012-02-14</th>\n",
              "      <td>612.500000</td>\n",
              "      <td>614.775024</td>\n",
              "      <td>607.500000</td>\n",
              "      <td>610.000000</td>\n",
              "      <td>509.120880</td>\n",
              "      <td>1826646</td>\n",
              "    </tr>\n",
              "  </tbody>\n",
              "</table>\n",
              "</div>"
            ],
            "text/plain": [
              "                  Open        High         Low       Close   Adj Close   Volume\n",
              "Date                                                                           \n",
              "2012-02-01  564.700012  567.500000  554.125000  564.349976  471.020233  2288804\n",
              "2012-02-02  568.000000  576.325012  565.150024  574.000000  479.074310  3386140\n",
              "2012-02-03  572.500000  588.000000  570.500000  585.775024  488.902130  2777558\n",
              "2012-02-06  591.849976  600.025024  586.674988  596.924988  498.208069  3427196\n",
              "2012-02-07  604.849976  604.849976  595.950012  599.000000  499.940277  3407656\n",
              "2012-02-08  608.200012  613.424988  605.500000  609.825012  508.974762  3627184\n",
              "2012-02-09  605.549988  616.000000  594.000000  614.299988  512.709839  3038062\n",
              "2012-02-10  614.000000  619.000000  606.000000  616.700012  514.713074  2324302\n",
              "2012-02-13  611.099976  618.974976  607.000000  612.849976  511.499542  1631770\n",
              "2012-02-14  612.500000  614.775024  607.500000  610.000000  509.120880  1826646"
            ]
          },
          "metadata": {
            "tags": []
          },
          "execution_count": 20
        }
      ]
    },
    {
      "cell_type": "code",
      "metadata": {
        "colab": {
          "base_uri": "https://localhost:8080/",
          "height": 111
        },
        "id": "guF_jlHpZZmA",
        "outputId": "3a6f14f6-6ee5-460b-963e-c3f5aafc6532"
      },
      "source": [
        "tcs['2012-02':'2012-02-09'][6:]"
      ],
      "execution_count": 24,
      "outputs": [
        {
          "output_type": "execute_result",
          "data": {
            "text/html": [
              "<div>\n",
              "<style scoped>\n",
              "    .dataframe tbody tr th:only-of-type {\n",
              "        vertical-align: middle;\n",
              "    }\n",
              "\n",
              "    .dataframe tbody tr th {\n",
              "        vertical-align: top;\n",
              "    }\n",
              "\n",
              "    .dataframe thead th {\n",
              "        text-align: right;\n",
              "    }\n",
              "</style>\n",
              "<table border=\"1\" class=\"dataframe\">\n",
              "  <thead>\n",
              "    <tr style=\"text-align: right;\">\n",
              "      <th></th>\n",
              "      <th>Open</th>\n",
              "      <th>High</th>\n",
              "      <th>Low</th>\n",
              "      <th>Close</th>\n",
              "      <th>Adj Close</th>\n",
              "      <th>Volume</th>\n",
              "    </tr>\n",
              "    <tr>\n",
              "      <th>Date</th>\n",
              "      <th></th>\n",
              "      <th></th>\n",
              "      <th></th>\n",
              "      <th></th>\n",
              "      <th></th>\n",
              "      <th></th>\n",
              "    </tr>\n",
              "  </thead>\n",
              "  <tbody>\n",
              "    <tr>\n",
              "      <th>2012-02-09</th>\n",
              "      <td>605.549988</td>\n",
              "      <td>616.0</td>\n",
              "      <td>594.0</td>\n",
              "      <td>614.299988</td>\n",
              "      <td>512.709839</td>\n",
              "      <td>3038062</td>\n",
              "    </tr>\n",
              "  </tbody>\n",
              "</table>\n",
              "</div>"
            ],
            "text/plain": [
              "                  Open   High    Low       Close   Adj Close   Volume\n",
              "Date                                                                 \n",
              "2012-02-09  605.549988  616.0  594.0  614.299988  512.709839  3038062"
            ]
          },
          "metadata": {
            "tags": []
          },
          "execution_count": 24
        }
      ]
    },
    {
      "cell_type": "code",
      "metadata": {
        "id": "uKRMsLgMbyl6"
      },
      "source": [
        "import pandas as pd\r\n",
        "import numpy as np\r\n",
        "import datetime\r\n",
        "import matplotlib.pyplot as plt\r\n",
        "%matplotlib inline"
      ],
      "execution_count": 26,
      "outputs": []
    },
    {
      "cell_type": "code",
      "metadata": {
        "colab": {
          "base_uri": "https://localhost:8080/"
        },
        "id": "YqtDlJVaa-TT",
        "outputId": "1762c6cf-f15f-4094-d495-a72469f5413a"
      },
      "source": [
        "tcsmin = pd.Series(np.arange(0, 90*60*24),\r\n",
        "pd.date_range('2014-08-01',\r\n",
        "'2014-10-29 23:59:00',\r\n",
        "freq='T'))\r\n",
        "tcsmin"
      ],
      "execution_count": 27,
      "outputs": [
        {
          "output_type": "execute_result",
          "data": {
            "text/plain": [
              "2014-08-01 00:00:00         0\n",
              "2014-08-01 00:01:00         1\n",
              "2014-08-01 00:02:00         2\n",
              "2014-08-01 00:03:00         3\n",
              "2014-08-01 00:04:00         4\n",
              "                        ...  \n",
              "2014-10-29 23:55:00    129595\n",
              "2014-10-29 23:56:00    129596\n",
              "2014-10-29 23:57:00    129597\n",
              "2014-10-29 23:58:00    129598\n",
              "2014-10-29 23:59:00    129599\n",
              "Freq: T, Length: 129600, dtype: int64"
            ]
          },
          "metadata": {
            "tags": []
          },
          "execution_count": 27
        }
      ]
    },
    {
      "cell_type": "code",
      "metadata": {
        "colab": {
          "base_uri": "https://localhost:8080/"
        },
        "id": "xWFCYauwcdse",
        "outputId": "fcdd6cd4-1729-49dc-96dd-1bb5317eebfb"
      },
      "source": [
        "tcsmin['2021-02-01 12:30':'2021-02-01 12:59']"
      ],
      "execution_count": 31,
      "outputs": [
        {
          "output_type": "execute_result",
          "data": {
            "text/plain": [
              "Series([], Freq: T, dtype: int64)"
            ]
          },
          "metadata": {
            "tags": []
          },
          "execution_count": 31
        }
      ]
    },
    {
      "cell_type": "code",
      "metadata": {
        "colab": {
          "base_uri": "https://localhost:8080/"
        },
        "id": "Gi_lVrjyeIIp",
        "outputId": "07e2f2e6-54ad-4462-c2f8-ad06e0d93228"
      },
      "source": [
        "aug2020 = pd.Period('2020-08', freq='M')\r\n",
        "aug2020"
      ],
      "execution_count": 32,
      "outputs": [
        {
          "output_type": "execute_result",
          "data": {
            "text/plain": [
              "Period('2020-08', 'M')"
            ]
          },
          "metadata": {
            "tags": []
          },
          "execution_count": 32
        }
      ]
    },
    {
      "cell_type": "code",
      "metadata": {
        "colab": {
          "base_uri": "https://localhost:8080/",
          "height": 297
        },
        "id": "s_X0eiXNeRro",
        "outputId": "07892f2d-889b-4072-aea8-ab8aa9091e9d"
      },
      "source": [
        "tcs.describe()"
      ],
      "execution_count": 33,
      "outputs": [
        {
          "output_type": "execute_result",
          "data": {
            "text/html": [
              "<div>\n",
              "<style scoped>\n",
              "    .dataframe tbody tr th:only-of-type {\n",
              "        vertical-align: middle;\n",
              "    }\n",
              "\n",
              "    .dataframe tbody tr th {\n",
              "        vertical-align: top;\n",
              "    }\n",
              "\n",
              "    .dataframe thead th {\n",
              "        text-align: right;\n",
              "    }\n",
              "</style>\n",
              "<table border=\"1\" class=\"dataframe\">\n",
              "  <thead>\n",
              "    <tr style=\"text-align: right;\">\n",
              "      <th></th>\n",
              "      <th>Open</th>\n",
              "      <th>High</th>\n",
              "      <th>Low</th>\n",
              "      <th>Close</th>\n",
              "      <th>Adj Close</th>\n",
              "      <th>Volume</th>\n",
              "    </tr>\n",
              "  </thead>\n",
              "  <tbody>\n",
              "    <tr>\n",
              "      <th>count</th>\n",
              "      <td>4065.000000</td>\n",
              "      <td>4065.000000</td>\n",
              "      <td>4065.000000</td>\n",
              "      <td>4065.000000</td>\n",
              "      <td>4065.000000</td>\n",
              "      <td>4.065000e+03</td>\n",
              "    </tr>\n",
              "    <tr>\n",
              "      <th>mean</th>\n",
              "      <td>915.043613</td>\n",
              "      <td>925.530904</td>\n",
              "      <td>903.826914</td>\n",
              "      <td>914.575345</td>\n",
              "      <td>831.715467</td>\n",
              "      <td>3.738937e+06</td>\n",
              "    </tr>\n",
              "    <tr>\n",
              "      <th>std</th>\n",
              "      <td>712.084992</td>\n",
              "      <td>719.282249</td>\n",
              "      <td>704.282980</td>\n",
              "      <td>711.692718</td>\n",
              "      <td>706.096739</td>\n",
              "      <td>3.327405e+06</td>\n",
              "    </tr>\n",
              "    <tr>\n",
              "      <th>min</th>\n",
              "      <td>112.000000</td>\n",
              "      <td>116.112503</td>\n",
              "      <td>103.837502</td>\n",
              "      <td>111.550003</td>\n",
              "      <td>88.550110</td>\n",
              "      <td>0.000000e+00</td>\n",
              "    </tr>\n",
              "    <tr>\n",
              "      <th>25%</th>\n",
              "      <td>268.100006</td>\n",
              "      <td>272.000000</td>\n",
              "      <td>263.350006</td>\n",
              "      <td>267.100006</td>\n",
              "      <td>207.507904</td>\n",
              "      <td>1.982346e+06</td>\n",
              "    </tr>\n",
              "    <tr>\n",
              "      <th>50%</th>\n",
              "      <td>654.549988</td>\n",
              "      <td>660.825012</td>\n",
              "      <td>646.275024</td>\n",
              "      <td>653.174988</td>\n",
              "      <td>550.434204</td>\n",
              "      <td>2.893762e+06</td>\n",
              "    </tr>\n",
              "    <tr>\n",
              "      <th>75%</th>\n",
              "      <td>1281.875000</td>\n",
              "      <td>1295.000000</td>\n",
              "      <td>1270.500000</td>\n",
              "      <td>1280.824951</td>\n",
              "      <td>1155.224731</td>\n",
              "      <td>4.492016e+06</td>\n",
              "    </tr>\n",
              "    <tr>\n",
              "      <th>max</th>\n",
              "      <td>3308.949951</td>\n",
              "      <td>3339.800049</td>\n",
              "      <td>3278.649902</td>\n",
              "      <td>3308.800049</td>\n",
              "      <td>3308.800049</td>\n",
              "      <td>8.806715e+07</td>\n",
              "    </tr>\n",
              "  </tbody>\n",
              "</table>\n",
              "</div>"
            ],
            "text/plain": [
              "              Open         High  ...    Adj Close        Volume\n",
              "count  4065.000000  4065.000000  ...  4065.000000  4.065000e+03\n",
              "mean    915.043613   925.530904  ...   831.715467  3.738937e+06\n",
              "std     712.084992   719.282249  ...   706.096739  3.327405e+06\n",
              "min     112.000000   116.112503  ...    88.550110  0.000000e+00\n",
              "25%     268.100006   272.000000  ...   207.507904  1.982346e+06\n",
              "50%     654.549988   660.825012  ...   550.434204  2.893762e+06\n",
              "75%    1281.875000  1295.000000  ...  1155.224731  4.492016e+06\n",
              "max    3308.949951  3339.800049  ...  3308.800049  8.806715e+07\n",
              "\n",
              "[8 rows x 6 columns]"
            ]
          },
          "metadata": {
            "tags": []
          },
          "execution_count": 33
        }
      ]
    },
    {
      "cell_type": "code",
      "metadata": {
        "colab": {
          "base_uri": "https://localhost:8080/",
          "height": 297
        },
        "id": "13svZcJTe9f1",
        "outputId": "fcdd4beb-9ee1-4a77-a7d7-915934332718"
      },
      "source": [
        "tcs.describe(percentiles=[0.025, 0.5, 0.975])"
      ],
      "execution_count": 34,
      "outputs": [
        {
          "output_type": "execute_result",
          "data": {
            "text/html": [
              "<div>\n",
              "<style scoped>\n",
              "    .dataframe tbody tr th:only-of-type {\n",
              "        vertical-align: middle;\n",
              "    }\n",
              "\n",
              "    .dataframe tbody tr th {\n",
              "        vertical-align: top;\n",
              "    }\n",
              "\n",
              "    .dataframe thead th {\n",
              "        text-align: right;\n",
              "    }\n",
              "</style>\n",
              "<table border=\"1\" class=\"dataframe\">\n",
              "  <thead>\n",
              "    <tr style=\"text-align: right;\">\n",
              "      <th></th>\n",
              "      <th>Open</th>\n",
              "      <th>High</th>\n",
              "      <th>Low</th>\n",
              "      <th>Close</th>\n",
              "      <th>Adj Close</th>\n",
              "      <th>Volume</th>\n",
              "    </tr>\n",
              "  </thead>\n",
              "  <tbody>\n",
              "    <tr>\n",
              "      <th>count</th>\n",
              "      <td>4065.000000</td>\n",
              "      <td>4065.000000</td>\n",
              "      <td>4065.000000</td>\n",
              "      <td>4065.000000</td>\n",
              "      <td>4065.000000</td>\n",
              "      <td>4.065000e+03</td>\n",
              "    </tr>\n",
              "    <tr>\n",
              "      <th>mean</th>\n",
              "      <td>915.043613</td>\n",
              "      <td>925.530904</td>\n",
              "      <td>903.826914</td>\n",
              "      <td>914.575345</td>\n",
              "      <td>831.715467</td>\n",
              "      <td>3.738937e+06</td>\n",
              "    </tr>\n",
              "    <tr>\n",
              "      <th>std</th>\n",
              "      <td>712.084992</td>\n",
              "      <td>719.282249</td>\n",
              "      <td>704.282980</td>\n",
              "      <td>711.692718</td>\n",
              "      <td>706.096739</td>\n",
              "      <td>3.327405e+06</td>\n",
              "    </tr>\n",
              "    <tr>\n",
              "      <th>min</th>\n",
              "      <td>112.000000</td>\n",
              "      <td>116.112503</td>\n",
              "      <td>103.837502</td>\n",
              "      <td>111.550003</td>\n",
              "      <td>88.550110</td>\n",
              "      <td>0.000000e+00</td>\n",
              "    </tr>\n",
              "    <tr>\n",
              "      <th>2.5%</th>\n",
              "      <td>130.000000</td>\n",
              "      <td>133.650000</td>\n",
              "      <td>126.675000</td>\n",
              "      <td>130.237506</td>\n",
              "      <td>101.987790</td>\n",
              "      <td>1.028129e+06</td>\n",
              "    </tr>\n",
              "    <tr>\n",
              "      <th>50%</th>\n",
              "      <td>654.549988</td>\n",
              "      <td>660.825012</td>\n",
              "      <td>646.275024</td>\n",
              "      <td>653.174988</td>\n",
              "      <td>550.434204</td>\n",
              "      <td>2.893762e+06</td>\n",
              "    </tr>\n",
              "    <tr>\n",
              "      <th>97.5%</th>\n",
              "      <td>2471.000000</td>\n",
              "      <td>2504.939941</td>\n",
              "      <td>2430.339990</td>\n",
              "      <td>2466.160010</td>\n",
              "      <td>2451.025684</td>\n",
              "      <td>1.056837e+07</td>\n",
              "    </tr>\n",
              "    <tr>\n",
              "      <th>max</th>\n",
              "      <td>3308.949951</td>\n",
              "      <td>3339.800049</td>\n",
              "      <td>3278.649902</td>\n",
              "      <td>3308.800049</td>\n",
              "      <td>3308.800049</td>\n",
              "      <td>8.806715e+07</td>\n",
              "    </tr>\n",
              "  </tbody>\n",
              "</table>\n",
              "</div>"
            ],
            "text/plain": [
              "              Open         High  ...    Adj Close        Volume\n",
              "count  4065.000000  4065.000000  ...  4065.000000  4.065000e+03\n",
              "mean    915.043613   925.530904  ...   831.715467  3.738937e+06\n",
              "std     712.084992   719.282249  ...   706.096739  3.327405e+06\n",
              "min     112.000000   116.112503  ...    88.550110  0.000000e+00\n",
              "2.5%    130.000000   133.650000  ...   101.987790  1.028129e+06\n",
              "50%     654.549988   660.825012  ...   550.434204  2.893762e+06\n",
              "97.5%  2471.000000  2504.939941  ...  2451.025684  1.056837e+07\n",
              "max    3308.949951  3339.800049  ...  3308.800049  8.806715e+07\n",
              "\n",
              "[8 rows x 6 columns]"
            ]
          },
          "metadata": {
            "tags": []
          },
          "execution_count": 34
        }
      ]
    },
    {
      "cell_type": "code",
      "metadata": {
        "id": "oMCXuhT9fevj"
      },
      "source": [
        "import scipy.stats as stats\r\n",
        "import pandas as pd\r\n"
      ],
      "execution_count": 76,
      "outputs": []
    },
    {
      "cell_type": "code",
      "metadata": {
        "colab": {
          "base_uri": "https://localhost:8080/",
          "height": 513
        },
        "id": "2O24Be_yraQg",
        "outputId": "e446a707-ef52-468a-de35-a9c6877f7b73"
      },
      "source": [
        "f = plt.figure(figsize=(12,8))\r\n",
        "ax = f.add_subplot(111)\r\n",
        "stats.probplot(tcsAC, dist='norm', plot=ax)\r\n",
        "plt.show();"
      ],
      "execution_count": 60,
      "outputs": [
        {
          "output_type": "display_data",
          "data": {
            "image/png": "[encoded data removed]",
            "text/plain": [
              "<Figure size 864x576 with 1 Axes>"
            ]
          },
          "metadata": {
            "tags": [],
            "needs_background": "light"
          }
        }
      ]
    },
    {
      "cell_type": "code",
      "metadata": {
        "id": "T3aQeDb2f_ys"
      },
      "source": [
        "tcsAC = tcs['2012']['Adj Close']"
      ],
      "execution_count": 51,
      "outputs": []
    },
    {
      "cell_type": "code",
      "metadata": {
        "colab": {
          "base_uri": "https://localhost:8080/",
          "height": 326
        },
        "id": "vPsOmeQohKkk",
        "outputId": "c1d99b82-eac8-47a5-e4f5-f92e99cb2e9e"
      },
      "source": [
        "sample = tcsAC['2020']\r\n",
        "sample.plot(figsize=(12,5));"
      ],
      "execution_count": 73,
      "outputs": [
        {
          "output_type": "display_data",
          "data": {
            "image/png": "[encoded data removed]",
            "text/plain": [
              "<Figure size 864x360 with 1 Axes>"
            ]
          },
          "metadata": {
            "tags": [],
            "needs_background": "light"
          }
        }
      ]
    },
    {
      "cell_type": "code",
      "metadata": {
        "colab": {
          "base_uri": "https://localhost:8080/",
          "height": 636
        },
        "id": "dSq_J9cS06Cv",
        "outputId": "70a1e200-eb93-4dac-91b8-33118ce85951"
      },
      "source": [
        "sample.plot(figsize=(12,8))\r\n",
        "pd.rolling_mean(sample, 5).plot(figsize=(12,8));"
      ],
      "execution_count": 77,
      "outputs": [
        {
          "output_type": "error",
          "ename": "AttributeError",
          "evalue": "ignored",
          "traceback": [
            "\u001b[0;31m---------------------------------------------------------------------------\u001b[0m",
            "\u001b[0;31mAttributeError\u001b[0m                            Traceback (most recent call last)",
            "\u001b[0;32m<ipython-input-77-e3d493cb1310>\u001b[0m in \u001b[0;36m<module>\u001b[0;34m()\u001b[0m\n\u001b[1;32m      1\u001b[0m \u001b[0msample\u001b[0m\u001b[0;34m.\u001b[0m\u001b[0mplot\u001b[0m\u001b[0;34m(\u001b[0m\u001b[0mfigsize\u001b[0m\u001b[0;34m=\u001b[0m\u001b[0;34m(\u001b[0m\u001b[0;36m12\u001b[0m\u001b[0;34m,\u001b[0m\u001b[0;36m8\u001b[0m\u001b[0;34m)\u001b[0m\u001b[0;34m)\u001b[0m\u001b[0;34m\u001b[0m\u001b[0;34m\u001b[0m\u001b[0m\n\u001b[0;32m----> 2\u001b[0;31m \u001b[0mpd\u001b[0m\u001b[0;34m.\u001b[0m\u001b[0mrolling_mean\u001b[0m\u001b[0;34m(\u001b[0m\u001b[0msample\u001b[0m\u001b[0;34m,\u001b[0m \u001b[0;36m5\u001b[0m\u001b[0;34m)\u001b[0m\u001b[0;34m.\u001b[0m\u001b[0mplot\u001b[0m\u001b[0;34m(\u001b[0m\u001b[0mfigsize\u001b[0m\u001b[0;34m=\u001b[0m\u001b[0;34m(\u001b[0m\u001b[0;36m12\u001b[0m\u001b[0;34m,\u001b[0m\u001b[0;36m8\u001b[0m\u001b[0;34m)\u001b[0m\u001b[0;34m)\u001b[0m\u001b[0;34m;\u001b[0m\u001b[0;34m\u001b[0m\u001b[0;34m\u001b[0m\u001b[0m\n\u001b[0m",
            "\u001b[0;31mAttributeError\u001b[0m: module 'pandas' has no attribute 'rolling_mean'"
          ]
        },
        {
          "output_type": "display_data",
          "data": {
            "image/png": "[encoded data removed]",
            "text/plain": [
              "<Figure size 864x576 with 1 Axes>"
            ]
          },
          "metadata": {
            "tags": [],
            "needs_background": "light"
          }
        }
      ]
    },
    {
      "cell_type": "code",
      "metadata": {
        "colab": {
          "base_uri": "https://localhost:8080/",
          "height": 772
        },
        "id": "VOnjj1Qwk871",
        "outputId": "fe12e607-5a78-41e7-dbf1-6f8718d4f75b"
      },
      "source": [
        "tcsAC.hist(bins=50, sharex=True, figsize=(12,8));"
      ],
      "execution_count": 69,
      "outputs": [
        {
          "output_type": "error",
          "ename": "AttributeError",
          "evalue": "ignored",
          "traceback": [
            "\u001b[0;31m---------------------------------------------------------------------------\u001b[0m",
            "\u001b[0;31mAttributeError\u001b[0m                            Traceback (most recent call last)",
            "\u001b[0;32m<ipython-input-69-d9160d33e417>\u001b[0m in \u001b[0;36m<module>\u001b[0;34m()\u001b[0m\n\u001b[0;32m----> 1\u001b[0;31m \u001b[0mtcsAC\u001b[0m\u001b[0;34m.\u001b[0m\u001b[0mhist\u001b[0m\u001b[0;34m(\u001b[0m\u001b[0mbins\u001b[0m\u001b[0;34m=\u001b[0m\u001b[0;36m50\u001b[0m\u001b[0;34m,\u001b[0m \u001b[0msharex\u001b[0m\u001b[0;34m=\u001b[0m\u001b[0;32mTrue\u001b[0m\u001b[0;34m,\u001b[0m \u001b[0mfigsize\u001b[0m\u001b[0;34m=\u001b[0m\u001b[0;34m(\u001b[0m\u001b[0;36m12\u001b[0m\u001b[0;34m,\u001b[0m\u001b[0;36m8\u001b[0m\u001b[0;34m)\u001b[0m\u001b[0;34m)\u001b[0m\u001b[0;34m;\u001b[0m\u001b[0;34m\u001b[0m\u001b[0;34m\u001b[0m\u001b[0m\n\u001b[0m",
            "\u001b[0;32m/usr/local/lib/python3.6/dist-packages/pandas/plotting/_core.py\u001b[0m in \u001b[0;36mhist_series\u001b[0;34m(self, by, ax, grid, xlabelsize, xrot, ylabelsize, yrot, figsize, bins, backend, legend, **kwargs)\u001b[0m\n\u001b[1;32m     95\u001b[0m         \u001b[0mbins\u001b[0m\u001b[0;34m=\u001b[0m\u001b[0mbins\u001b[0m\u001b[0;34m,\u001b[0m\u001b[0;34m\u001b[0m\u001b[0;34m\u001b[0m\u001b[0m\n\u001b[1;32m     96\u001b[0m         \u001b[0mlegend\u001b[0m\u001b[0;34m=\u001b[0m\u001b[0mlegend\u001b[0m\u001b[0;34m,\u001b[0m\u001b[0;34m\u001b[0m\u001b[0;34m\u001b[0m\u001b[0m\n\u001b[0;32m---> 97\u001b[0;31m         \u001b[0;34m**\u001b[0m\u001b[0mkwargs\u001b[0m\u001b[0;34m,\u001b[0m\u001b[0;34m\u001b[0m\u001b[0;34m\u001b[0m\u001b[0m\n\u001b[0m\u001b[1;32m     98\u001b[0m     )\n\u001b[1;32m     99\u001b[0m \u001b[0;34m\u001b[0m\u001b[0m\n",
            "\u001b[0;32m/usr/local/lib/python3.6/dist-packages/pandas/plotting/_matplotlib/hist.py\u001b[0m in \u001b[0;36mhist_series\u001b[0;34m(self, by, ax, grid, xlabelsize, xrot, ylabelsize, yrot, figsize, bins, legend, **kwds)\u001b[0m\n\u001b[1;32m    327\u001b[0m         \u001b[0;32mif\u001b[0m \u001b[0mlegend\u001b[0m\u001b[0;34m:\u001b[0m\u001b[0;34m\u001b[0m\u001b[0;34m\u001b[0m\u001b[0m\n\u001b[1;32m    328\u001b[0m             \u001b[0mkwds\u001b[0m\u001b[0;34m[\u001b[0m\u001b[0;34m\"label\"\u001b[0m\u001b[0;34m]\u001b[0m \u001b[0;34m=\u001b[0m \u001b[0mself\u001b[0m\u001b[0;34m.\u001b[0m\u001b[0mname\u001b[0m\u001b[0;34m\u001b[0m\u001b[0;34m\u001b[0m\u001b[0m\n\u001b[0;32m--> 329\u001b[0;31m         \u001b[0max\u001b[0m\u001b[0;34m.\u001b[0m\u001b[0mhist\u001b[0m\u001b[0;34m(\u001b[0m\u001b[0mvalues\u001b[0m\u001b[0;34m,\u001b[0m \u001b[0mbins\u001b[0m\u001b[0;34m=\u001b[0m\u001b[0mbins\u001b[0m\u001b[0;34m,\u001b[0m \u001b[0;34m**\u001b[0m\u001b[0mkwds\u001b[0m\u001b[0;34m)\u001b[0m\u001b[0;34m\u001b[0m\u001b[0;34m\u001b[0m\u001b[0m\n\u001b[0m\u001b[1;32m    330\u001b[0m         \u001b[0;32mif\u001b[0m \u001b[0mlegend\u001b[0m\u001b[0;34m:\u001b[0m\u001b[0;34m\u001b[0m\u001b[0;34m\u001b[0m\u001b[0m\n\u001b[1;32m    331\u001b[0m             \u001b[0max\u001b[0m\u001b[0;34m.\u001b[0m\u001b[0mlegend\u001b[0m\u001b[0;34m(\u001b[0m\u001b[0;34m)\u001b[0m\u001b[0;34m\u001b[0m\u001b[0;34m\u001b[0m\u001b[0m\n",
            "\u001b[0;32m/usr/local/lib/python3.6/dist-packages/matplotlib/__init__.py\u001b[0m in \u001b[0;36minner\u001b[0;34m(ax, data, *args, **kwargs)\u001b[0m\n\u001b[1;32m   1563\u001b[0m     \u001b[0;32mdef\u001b[0m \u001b[0minner\u001b[0m\u001b[0;34m(\u001b[0m\u001b[0max\u001b[0m\u001b[0;34m,\u001b[0m \u001b[0;34m*\u001b[0m\u001b[0margs\u001b[0m\u001b[0;34m,\u001b[0m \u001b[0mdata\u001b[0m\u001b[0;34m=\u001b[0m\u001b[0;32mNone\u001b[0m\u001b[0;34m,\u001b[0m \u001b[0;34m**\u001b[0m\u001b[0mkwargs\u001b[0m\u001b[0;34m)\u001b[0m\u001b[0;34m:\u001b[0m\u001b[0;34m\u001b[0m\u001b[0;34m\u001b[0m\u001b[0m\n\u001b[1;32m   1564\u001b[0m         \u001b[0;32mif\u001b[0m \u001b[0mdata\u001b[0m \u001b[0;32mis\u001b[0m \u001b[0;32mNone\u001b[0m\u001b[0;34m:\u001b[0m\u001b[0;34m\u001b[0m\u001b[0;34m\u001b[0m\u001b[0m\n\u001b[0;32m-> 1565\u001b[0;31m             \u001b[0;32mreturn\u001b[0m \u001b[0mfunc\u001b[0m\u001b[0;34m(\u001b[0m\u001b[0max\u001b[0m\u001b[0;34m,\u001b[0m \u001b[0;34m*\u001b[0m\u001b[0mmap\u001b[0m\u001b[0;34m(\u001b[0m\u001b[0msanitize_sequence\u001b[0m\u001b[0;34m,\u001b[0m \u001b[0margs\u001b[0m\u001b[0;34m)\u001b[0m\u001b[0;34m,\u001b[0m \u001b[0;34m**\u001b[0m\u001b[0mkwargs\u001b[0m\u001b[0;34m)\u001b[0m\u001b[0;34m\u001b[0m\u001b[0;34m\u001b[0m\u001b[0m\n\u001b[0m\u001b[1;32m   1566\u001b[0m \u001b[0;34m\u001b[0m\u001b[0m\n\u001b[1;32m   1567\u001b[0m         \u001b[0mbound\u001b[0m \u001b[0;34m=\u001b[0m \u001b[0mnew_sig\u001b[0m\u001b[0;34m.\u001b[0m\u001b[0mbind\u001b[0m\u001b[0;34m(\u001b[0m\u001b[0max\u001b[0m\u001b[0;34m,\u001b[0m \u001b[0;34m*\u001b[0m\u001b[0margs\u001b[0m\u001b[0;34m,\u001b[0m \u001b[0;34m**\u001b[0m\u001b[0mkwargs\u001b[0m\u001b[0;34m)\u001b[0m\u001b[0;34m\u001b[0m\u001b[0;34m\u001b[0m\u001b[0m\n",
            "\u001b[0;32m/usr/local/lib/python3.6/dist-packages/matplotlib/axes/_axes.py\u001b[0m in \u001b[0;36mhist\u001b[0;34m(self, x, bins, range, density, weights, cumulative, bottom, histtype, align, orientation, rwidth, log, color, label, stacked, **kwargs)\u001b[0m\n\u001b[1;32m   6817\u001b[0m             \u001b[0;32mif\u001b[0m \u001b[0mpatch\u001b[0m\u001b[0;34m:\u001b[0m\u001b[0;34m\u001b[0m\u001b[0;34m\u001b[0m\u001b[0m\n\u001b[1;32m   6818\u001b[0m                 \u001b[0mp\u001b[0m \u001b[0;34m=\u001b[0m \u001b[0mpatch\u001b[0m\u001b[0;34m[\u001b[0m\u001b[0;36m0\u001b[0m\u001b[0;34m]\u001b[0m\u001b[0;34m\u001b[0m\u001b[0;34m\u001b[0m\u001b[0m\n\u001b[0;32m-> 6819\u001b[0;31m                 \u001b[0mp\u001b[0m\u001b[0;34m.\u001b[0m\u001b[0mupdate\u001b[0m\u001b[0;34m(\u001b[0m\u001b[0mkwargs\u001b[0m\u001b[0;34m)\u001b[0m\u001b[0;34m\u001b[0m\u001b[0;34m\u001b[0m\u001b[0m\n\u001b[0m\u001b[1;32m   6820\u001b[0m                 \u001b[0;32mif\u001b[0m \u001b[0mlbl\u001b[0m \u001b[0;32mis\u001b[0m \u001b[0;32mnot\u001b[0m \u001b[0;32mNone\u001b[0m\u001b[0;34m:\u001b[0m\u001b[0;34m\u001b[0m\u001b[0;34m\u001b[0m\u001b[0m\n\u001b[1;32m   6821\u001b[0m                     \u001b[0mp\u001b[0m\u001b[0;34m.\u001b[0m\u001b[0mset_label\u001b[0m\u001b[0;34m(\u001b[0m\u001b[0mlbl\u001b[0m\u001b[0;34m)\u001b[0m\u001b[0;34m\u001b[0m\u001b[0;34m\u001b[0m\u001b[0m\n",
            "\u001b[0;32m/usr/local/lib/python3.6/dist-packages/matplotlib/artist.py\u001b[0m in \u001b[0;36mupdate\u001b[0;34m(self, props)\u001b[0m\n\u001b[1;32m   1004\u001b[0m \u001b[0;34m\u001b[0m\u001b[0m\n\u001b[1;32m   1005\u001b[0m         \u001b[0;32mwith\u001b[0m \u001b[0mcbook\u001b[0m\u001b[0;34m.\u001b[0m\u001b[0m_setattr_cm\u001b[0m\u001b[0;34m(\u001b[0m\u001b[0mself\u001b[0m\u001b[0;34m,\u001b[0m \u001b[0meventson\u001b[0m\u001b[0;34m=\u001b[0m\u001b[0;32mFalse\u001b[0m\u001b[0;34m)\u001b[0m\u001b[0;34m:\u001b[0m\u001b[0;34m\u001b[0m\u001b[0;34m\u001b[0m\u001b[0m\n\u001b[0;32m-> 1006\u001b[0;31m             \u001b[0mret\u001b[0m \u001b[0;34m=\u001b[0m \u001b[0;34m[\u001b[0m\u001b[0m_update_property\u001b[0m\u001b[0;34m(\u001b[0m\u001b[0mself\u001b[0m\u001b[0;34m,\u001b[0m \u001b[0mk\u001b[0m\u001b[0;34m,\u001b[0m \u001b[0mv\u001b[0m\u001b[0;34m)\u001b[0m \u001b[0;32mfor\u001b[0m \u001b[0mk\u001b[0m\u001b[0;34m,\u001b[0m \u001b[0mv\u001b[0m \u001b[0;32min\u001b[0m \u001b[0mprops\u001b[0m\u001b[0;34m.\u001b[0m\u001b[0mitems\u001b[0m\u001b[0;34m(\u001b[0m\u001b[0;34m)\u001b[0m\u001b[0;34m]\u001b[0m\u001b[0;34m\u001b[0m\u001b[0;34m\u001b[0m\u001b[0m\n\u001b[0m\u001b[1;32m   1007\u001b[0m \u001b[0;34m\u001b[0m\u001b[0m\n\u001b[1;32m   1008\u001b[0m         \u001b[0;32mif\u001b[0m \u001b[0mlen\u001b[0m\u001b[0;34m(\u001b[0m\u001b[0mret\u001b[0m\u001b[0;34m)\u001b[0m\u001b[0;34m:\u001b[0m\u001b[0;34m\u001b[0m\u001b[0;34m\u001b[0m\u001b[0m\n",
            "\u001b[0;32m/usr/local/lib/python3.6/dist-packages/matplotlib/artist.py\u001b[0m in \u001b[0;36m<listcomp>\u001b[0;34m(.0)\u001b[0m\n\u001b[1;32m   1004\u001b[0m \u001b[0;34m\u001b[0m\u001b[0m\n\u001b[1;32m   1005\u001b[0m         \u001b[0;32mwith\u001b[0m \u001b[0mcbook\u001b[0m\u001b[0;34m.\u001b[0m\u001b[0m_setattr_cm\u001b[0m\u001b[0;34m(\u001b[0m\u001b[0mself\u001b[0m\u001b[0;34m,\u001b[0m \u001b[0meventson\u001b[0m\u001b[0;34m=\u001b[0m\u001b[0;32mFalse\u001b[0m\u001b[0;34m)\u001b[0m\u001b[0;34m:\u001b[0m\u001b[0;34m\u001b[0m\u001b[0;34m\u001b[0m\u001b[0m\n\u001b[0;32m-> 1006\u001b[0;31m             \u001b[0mret\u001b[0m \u001b[0;34m=\u001b[0m \u001b[0;34m[\u001b[0m\u001b[0m_update_property\u001b[0m\u001b[0;34m(\u001b[0m\u001b[0mself\u001b[0m\u001b[0;34m,\u001b[0m \u001b[0mk\u001b[0m\u001b[0;34m,\u001b[0m \u001b[0mv\u001b[0m\u001b[0;34m)\u001b[0m \u001b[0;32mfor\u001b[0m \u001b[0mk\u001b[0m\u001b[0;34m,\u001b[0m \u001b[0mv\u001b[0m \u001b[0;32min\u001b[0m \u001b[0mprops\u001b[0m\u001b[0;34m.\u001b[0m\u001b[0mitems\u001b[0m\u001b[0;34m(\u001b[0m\u001b[0;34m)\u001b[0m\u001b[0;34m]\u001b[0m\u001b[0;34m\u001b[0m\u001b[0;34m\u001b[0m\u001b[0m\n\u001b[0m\u001b[1;32m   1007\u001b[0m \u001b[0;34m\u001b[0m\u001b[0m\n\u001b[1;32m   1008\u001b[0m         \u001b[0;32mif\u001b[0m \u001b[0mlen\u001b[0m\u001b[0;34m(\u001b[0m\u001b[0mret\u001b[0m\u001b[0;34m)\u001b[0m\u001b[0;34m:\u001b[0m\u001b[0;34m\u001b[0m\u001b[0;34m\u001b[0m\u001b[0m\n",
            "\u001b[0;32m/usr/local/lib/python3.6/dist-packages/matplotlib/artist.py\u001b[0m in \u001b[0;36m_update_property\u001b[0;34m(self, k, v)\u001b[0m\n\u001b[1;32m   1000\u001b[0m                 \u001b[0;32mif\u001b[0m \u001b[0;32mnot\u001b[0m \u001b[0mcallable\u001b[0m\u001b[0;34m(\u001b[0m\u001b[0mfunc\u001b[0m\u001b[0;34m)\u001b[0m\u001b[0;34m:\u001b[0m\u001b[0;34m\u001b[0m\u001b[0;34m\u001b[0m\u001b[0m\n\u001b[1;32m   1001\u001b[0m                     raise AttributeError('{!r} object has no property {!r}'\n\u001b[0;32m-> 1002\u001b[0;31m                                          .format(type(self).__name__, k))\n\u001b[0m\u001b[1;32m   1003\u001b[0m                 \u001b[0;32mreturn\u001b[0m \u001b[0mfunc\u001b[0m\u001b[0;34m(\u001b[0m\u001b[0mv\u001b[0m\u001b[0;34m)\u001b[0m\u001b[0;34m\u001b[0m\u001b[0;34m\u001b[0m\u001b[0m\n\u001b[1;32m   1004\u001b[0m \u001b[0;34m\u001b[0m\u001b[0m\n",
            "\u001b[0;31mAttributeError\u001b[0m: 'Rectangle' object has no property 'sharex'"
          ]
        },
        {
          "output_type": "display_data",
          "data": {
            "image/png": "[encoded data removed]",
            "text/plain": [
              "<Figure size 864x576 with 1 Axes>"
            ]
          },
          "metadata": {
            "tags": [],
            "needs_background": "light"
          }
        }
      ]
    },
    {
      "cell_type": "code",
      "metadata": {
        "colab": {
          "base_uri": "https://localhost:8080/",
          "height": 374
        },
        "id": "ryAsDEENwDxt",
        "outputId": "bdcc2729-bd48-4779-a6d8-58c6bd3619b9"
      },
      "source": [
        "tcsAC.plot(kind='box', figsize=(3,6));\r\n"
      ],
      "execution_count": 71,
      "outputs": [
        {
          "output_type": "display_data",
          "data": {
            "image/png": "[encoded data removed]",
            "text/plain": [
              "<Figure size 216x432 with 1 Axes>"
            ]
          },
          "metadata": {
            "tags": [],
            "needs_background": "light"
          }
        }
      ]
    },
    {
      "cell_type": "code",
      "metadata": {
        "colab": {
          "base_uri": "https://localhost:8080/"
        },
        "id": "zqey_p6J0bIS",
        "outputId": "7d32b78a-f36c-4926-bde3-7d3b5b4bb046"
      },
      "source": [
        "tcsAC.value_counts()"
      ],
      "execution_count": 78,
      "outputs": [
        {
          "output_type": "execute_result",
          "data": {
            "text/plain": [
              "563.153381     2\n",
              "234.413116     2\n",
              "633.782776     2\n",
              "466.839172     2\n",
              "327.581146     2\n",
              "              ..\n",
              "199.309753     1\n",
              "1114.472900    1\n",
              "1162.467407    1\n",
              "1134.244019    1\n",
              "196.000168     1\n",
              "Name: Adj Close, Length: 4026, dtype: int64"
            ]
          },
          "metadata": {
            "tags": []
          },
          "execution_count": 78
        }
      ]
    }
  ]
}