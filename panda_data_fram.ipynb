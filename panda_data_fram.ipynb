{
  "nbformat": 4,
  "nbformat_minor": 0,
  "metadata": {
    "colab": {
      "name": "panda data_fram.ipynb",
      "provenance": [],
      "authorship_tag": "ABX9TyMhyrd0GkeZHHq7gG/Jg+0w",
      "include_colab_link": true
    },
    "kernelspec": {
      "name": "python3",
      "display_name": "Python 3"
    }
  },
  "cells": [
    {
      "cell_type": "markdown",
      "metadata": {
        "id": "view-in-github",
        "colab_type": "text"
      },
      "source": [
        "<a href=\"https://colab.research.google.com/github/manikur/R-programming/blob/main/panda_data_fram.ipynb\" target=\"_parent\"><img src=\"https://colab.research.google.com/assets/colab-badge.svg\" alt=\"Open In Colab\"/></a>"
      ]
    },
    {
      "cell_type": "code",
      "metadata": {
        "id": "QuKndG7mLUVl"
      },
      "source": [
        "import pandas as pd\r\n",
        "import numpy as np"
      ],
      "execution_count": 1,
      "outputs": []
    },
    {
      "cell_type": "code",
      "metadata": {
        "colab": {
          "base_uri": "https://localhost:8080/"
        },
        "id": "8ZA4inudLm_b",
        "outputId": "0b3b9bf0-da1f-4ef1-a548-fad8e76353f5"
      },
      "source": [
        "np.random.seed(1)\r\n",
        "s = pd.Series(np.random.randn(100))\r\n",
        "s"
      ],
      "execution_count": 2,
      "outputs": [
        {
          "output_type": "execute_result",
          "data": {
            "text/plain": [
              "0     1.624345\n",
              "1    -0.611756\n",
              "2    -0.528172\n",
              "3    -1.072969\n",
              "4     0.865408\n",
              "        ...   \n",
              "95    0.077340\n",
              "96   -0.343854\n",
              "97    0.043597\n",
              "98   -0.620001\n",
              "99    0.698032\n",
              "Length: 100, dtype: float64"
            ]
          },
          "metadata": {
            "tags": []
          },
          "execution_count": 2
        }
      ]
    },
    {
      "cell_type": "code",
      "metadata": {
        "colab": {
          "base_uri": "https://localhost:8080/"
        },
        "id": "77U8lxlsNMqm",
        "outputId": "c6647613-ae11-41e6-9603-1f4d1d059ff4"
      },
      "source": [
        "s[2]"
      ],
      "execution_count": 3,
      "outputs": [
        {
          "output_type": "execute_result",
          "data": {
            "text/plain": [
              "-0.5281717522634557"
            ]
          },
          "metadata": {
            "tags": []
          },
          "execution_count": 3
        }
      ]
    },
    {
      "cell_type": "code",
      "metadata": {
        "colab": {
          "base_uri": "https://localhost:8080/"
        },
        "id": "hIaQONWfNb4T",
        "outputId": "8912c316-59aa-450f-8849-8fc56ac50258"
      },
      "source": [
        "s[[2, 5, 20]]"
      ],
      "execution_count": 4,
      "outputs": [
        {
          "output_type": "execute_result",
          "data": {
            "text/plain": [
              "2    -0.528172\n",
              "5    -2.301539\n",
              "20   -1.100619\n",
              "dtype: float64"
            ]
          },
          "metadata": {
            "tags": []
          },
          "execution_count": 4
        }
      ]
    },
    {
      "cell_type": "code",
      "metadata": {
        "colab": {
          "base_uri": "https://localhost:8080/"
        },
        "id": "iVKG46SZNz4o",
        "outputId": "222853c8-e4c0-48a4-abde-0f7d36e02c79"
      },
      "source": [
        "s[3:8]"
      ],
      "execution_count": 5,
      "outputs": [
        {
          "output_type": "execute_result",
          "data": {
            "text/plain": [
              "3   -1.072969\n",
              "4    0.865408\n",
              "5   -2.301539\n",
              "6    1.744812\n",
              "7   -0.761207\n",
              "dtype: float64"
            ]
          },
          "metadata": {
            "tags": []
          },
          "execution_count": 5
        }
      ]
    },
    {
      "cell_type": "code",
      "metadata": {
        "colab": {
          "base_uri": "https://localhost:8080/"
        },
        "id": "6nr3aAyvOPG_",
        "outputId": "117d8e5a-da39-4027-d2cc-c02d1c73f9d8"
      },
      "source": [
        "s.head()\r\n",
        "s.tail()"
      ],
      "execution_count": 6,
      "outputs": [
        {
          "output_type": "execute_result",
          "data": {
            "text/plain": [
              "95    0.077340\n",
              "96   -0.343854\n",
              "97    0.043597\n",
              "98   -0.620001\n",
              "99    0.698032\n",
              "dtype: float64"
            ]
          },
          "metadata": {
            "tags": []
          },
          "execution_count": 6
        }
      ]
    },
    {
      "cell_type": "code",
      "metadata": {
        "colab": {
          "base_uri": "https://localhost:8080/"
        },
        "id": "Cy44BmsEOjG5",
        "outputId": "4b4a18dd-d3bb-43c2-e544-12de0b2e522d"
      },
      "source": [
        "s.index"
      ],
      "execution_count": 7,
      "outputs": [
        {
          "output_type": "execute_result",
          "data": {
            "text/plain": [
              "RangeIndex(start=0, stop=100, step=1)"
            ]
          },
          "metadata": {
            "tags": []
          },
          "execution_count": 7
        }
      ]
    },
    {
      "cell_type": "code",
      "metadata": {
        "colab": {
          "base_uri": "https://localhost:8080/"
        },
        "id": "wNa1Zy0HOy78",
        "outputId": "aa621d26-8e5f-4f01-c294-4363de6764cf"
      },
      "source": [
        "s.values"
      ],
      "execution_count": 9,
      "outputs": [
        {
          "output_type": "execute_result",
          "data": {
            "text/plain": [
              "array([ 1.62434536, -0.61175641, -0.52817175, -1.07296862,  0.86540763,\n",
              "       -2.3015387 ,  1.74481176, -0.7612069 ,  0.3190391 , -0.24937038,\n",
              "        1.46210794, -2.06014071, -0.3224172 , -0.38405435,  1.13376944,\n",
              "       -1.09989127, -0.17242821, -0.87785842,  0.04221375,  0.58281521,\n",
              "       -1.10061918,  1.14472371,  0.90159072,  0.50249434,  0.90085595,\n",
              "       -0.68372786, -0.12289023, -0.93576943, -0.26788808,  0.53035547,\n",
              "       -0.69166075, -0.39675353, -0.6871727 , -0.84520564, -0.67124613,\n",
              "       -0.0126646 , -1.11731035,  0.2344157 ,  1.65980218,  0.74204416,\n",
              "       -0.19183555, -0.88762896, -0.74715829,  1.6924546 ,  0.05080775,\n",
              "       -0.63699565,  0.19091548,  2.10025514,  0.12015895,  0.61720311,\n",
              "        0.30017032, -0.35224985, -1.1425182 , -0.34934272, -0.20889423,\n",
              "        0.58662319,  0.83898341,  0.93110208,  0.28558733,  0.88514116,\n",
              "       -0.75439794,  1.25286816,  0.51292982, -0.29809284,  0.48851815,\n",
              "       -0.07557171,  1.13162939,  1.51981682,  2.18557541, -1.39649634,\n",
              "       -1.44411381, -0.50446586,  0.16003707,  0.87616892,  0.31563495,\n",
              "       -2.02220122, -0.30620401,  0.82797464,  0.23009474,  0.76201118,\n",
              "       -0.22232814, -0.20075807,  0.18656139,  0.41005165,  0.19829972,\n",
              "        0.11900865, -0.67066229,  0.37756379,  0.12182127,  1.12948391,\n",
              "        1.19891788,  0.18515642, -0.37528495, -0.63873041,  0.42349435,\n",
              "        0.07734007, -0.34385368,  0.04359686, -0.62000084,  0.69803203])"
            ]
          },
          "metadata": {
            "tags": []
          },
          "execution_count": 9
        }
      ]
    },
    {
      "cell_type": "code",
      "metadata": {
        "colab": {
          "base_uri": "https://localhost:8080/"
        },
        "id": "TxXu5YFuRjk6",
        "outputId": "4da87eb4-bc1c-4f9c-88cc-f8913918f6e6"
      },
      "source": [
        "s2 = pd.Series([1, 2, 3, 4], index=['a', 'b', 'c', 'd'])\r\n",
        "s2"
      ],
      "execution_count": 10,
      "outputs": [
        {
          "output_type": "execute_result",
          "data": {
            "text/plain": [
              "a    1\n",
              "b    2\n",
              "c    3\n",
              "d    4\n",
              "dtype: int64"
            ]
          },
          "metadata": {
            "tags": []
          },
          "execution_count": 10
        }
      ]
    },
    {
      "cell_type": "code",
      "metadata": {
        "colab": {
          "base_uri": "https://localhost:8080/"
        },
        "id": "NwCiuhMZSh-O",
        "outputId": "15538936-8674-45d9-bd9c-46084418a647"
      },
      "source": [
        "s2 = pd.Series({'a': 1, 'b': 2, 'c': 3, 'd': 4, 'e': 5})\r\n",
        "s2"
      ],
      "execution_count": 12,
      "outputs": [
        {
          "output_type": "execute_result",
          "data": {
            "text/plain": [
              "a    1\n",
              "b    2\n",
              "c    3\n",
              "d    4\n",
              "e    5\n",
              "dtype: int64"
            ]
          },
          "metadata": {
            "tags": []
          },
          "execution_count": 12
        }
      ]
    },
    {
      "cell_type": "markdown",
      "metadata": {
        "id": "lL0i3GafTNA8"
      },
      "source": [
        "**Size, shape, uniqueness, and counts of\r\n",
        "values**"
      ]
    },
    {
      "cell_type": "code",
      "metadata": {
        "colab": {
          "base_uri": "https://localhost:8080/"
        },
        "id": "EhsuMreCTZzw",
        "outputId": "f5fb69f0-8c26-4606-9624-b9ad16241447"
      },
      "source": [
        "s = pd.Series([10, 0, 1, 1, 2, 3, 4, 5, 6, np.nan])\r\n",
        "len(s)"
      ],
      "execution_count": 15,
      "outputs": [
        {
          "output_type": "execute_result",
          "data": {
            "text/plain": [
              "10"
            ]
          },
          "metadata": {
            "tags": []
          },
          "execution_count": 15
        }
      ]
    },
    {
      "cell_type": "code",
      "metadata": {
        "colab": {
          "base_uri": "https://localhost:8080/"
        },
        "id": "bXWA-L0zT7u5",
        "outputId": "640a63a2-5936-4f85-b1a2-7dc1ca1490a3"
      },
      "source": [
        "s.shape"
      ],
      "execution_count": 16,
      "outputs": [
        {
          "output_type": "execute_result",
          "data": {
            "text/plain": [
              "(10,)"
            ]
          },
          "metadata": {
            "tags": []
          },
          "execution_count": 16
        }
      ]
    },
    {
      "cell_type": "code",
      "metadata": {
        "colab": {
          "base_uri": "https://localhost:8080/"
        },
        "id": "8weyKuGKUN7D",
        "outputId": "2d39d28c-6244-40fc-ae58-a82804d2d9d3"
      },
      "source": [
        "s.count()"
      ],
      "execution_count": 17,
      "outputs": [
        {
          "output_type": "execute_result",
          "data": {
            "text/plain": [
              "9"
            ]
          },
          "metadata": {
            "tags": []
          },
          "execution_count": 17
        }
      ]
    },
    {
      "cell_type": "code",
      "metadata": {
        "colab": {
          "base_uri": "https://localhost:8080/"
        },
        "id": "giVnjEl-URfE",
        "outputId": "5ee0d60c-09ea-4a95-9ac1-a6ab6440be3a"
      },
      "source": [
        "s.unique()"
      ],
      "execution_count": 18,
      "outputs": [
        {
          "output_type": "execute_result",
          "data": {
            "text/plain": [
              "array([10.,  0.,  1.,  2.,  3.,  4.,  5.,  6., nan])"
            ]
          },
          "metadata": {
            "tags": []
          },
          "execution_count": 18
        }
      ]
    },
    {
      "cell_type": "code",
      "metadata": {
        "colab": {
          "base_uri": "https://localhost:8080/"
        },
        "id": "aQ-hbS4NUar8",
        "outputId": "32a888e9-a1b9-4ac5-f7b3-e05c24abe62e"
      },
      "source": [
        "s.value_counts()"
      ],
      "execution_count": 19,
      "outputs": [
        {
          "output_type": "execute_result",
          "data": {
            "text/plain": [
              "1.0     2\n",
              "6.0     1\n",
              "5.0     1\n",
              "4.0     1\n",
              "3.0     1\n",
              "2.0     1\n",
              "0.0     1\n",
              "10.0    1\n",
              "dtype: int64"
            ]
          },
          "metadata": {
            "tags": []
          },
          "execution_count": 19
        }
      ]
    },
    {
      "cell_type": "code",
      "metadata": {
        "colab": {
          "base_uri": "https://localhost:8080/"
        },
        "id": "BBlFOLZeUr0v",
        "outputId": "4bf2615d-18dd-4514-a57c-1833ce3098c8"
      },
      "source": [
        "s3 = pd.Series([1, 2, 3, 4], index=['a', 'b', 'c', 'd'])\r\n",
        "s3"
      ],
      "execution_count": 20,
      "outputs": [
        {
          "output_type": "execute_result",
          "data": {
            "text/plain": [
              "a    1\n",
              "b    2\n",
              "c    3\n",
              "d    4\n",
              "dtype: int64"
            ]
          },
          "metadata": {
            "tags": []
          },
          "execution_count": 20
        }
      ]
    },
    {
      "cell_type": "code",
      "metadata": {
        "colab": {
          "base_uri": "https://localhost:8080/"
        },
        "id": "61PALS2YVFHa",
        "outputId": "e44bcd43-0a59-4fb0-f9f4-9651fd2d8998"
      },
      "source": [
        "s4 = pd.Series([4, 3, 2, 1], index=['d', 'c', 'b', 'a'])\r\n",
        "s4"
      ],
      "execution_count": 21,
      "outputs": [
        {
          "output_type": "execute_result",
          "data": {
            "text/plain": [
              "d    4\n",
              "c    3\n",
              "b    2\n",
              "a    1\n",
              "dtype: int64"
            ]
          },
          "metadata": {
            "tags": []
          },
          "execution_count": 21
        }
      ]
    },
    {
      "cell_type": "code",
      "metadata": {
        "colab": {
          "base_uri": "https://localhost:8080/"
        },
        "id": "YoR5vA7vVRSl",
        "outputId": "e969e53e-b1a4-4f08-b302-307cf15cb4a4"
      },
      "source": [
        "s3 + s4"
      ],
      "execution_count": 22,
      "outputs": [
        {
          "output_type": "execute_result",
          "data": {
            "text/plain": [
              "a    2\n",
              "b    4\n",
              "c    6\n",
              "d    8\n",
              "dtype: int64"
            ]
          },
          "metadata": {
            "tags": []
          },
          "execution_count": 22
        }
      ]
    },
    {
      "cell_type": "code",
      "metadata": {
        "colab": {
          "base_uri": "https://localhost:8080/"
        },
        "id": "aIADO5YqVezq",
        "outputId": "5f2829b6-5604-48bf-cbc0-5c55e321b0df"
      },
      "source": [
        "a1 = np.array([1, 2, 3, 4])\r\n",
        "a2 = np.array([4, 3, 2, 1])\r\n",
        "a1 + a2"
      ],
      "execution_count": 23,
      "outputs": [
        {
          "output_type": "execute_result",
          "data": {
            "text/plain": [
              "array([5, 5, 5, 5])"
            ]
          },
          "metadata": {
            "tags": []
          },
          "execution_count": 23
        }
      ]
    },
    {
      "cell_type": "code",
      "metadata": {
        "colab": {
          "base_uri": "https://localhost:8080/",
          "height": 111
        },
        "id": "1QR-LSFyVyUF",
        "outputId": "b68018b7-54d4-4b04-f95c-84bb9135cf0f"
      },
      "source": [
        "pd.DataFrame(np.array([[10, 11], [20, 21]]))"
      ],
      "execution_count": 24,
      "outputs": [
        {
          "output_type": "execute_result",
          "data": {
            "text/html": [
              "<div>\n",
              "<style scoped>\n",
              "    .dataframe tbody tr th:only-of-type {\n",
              "        vertical-align: middle;\n",
              "    }\n",
              "\n",
              "    .dataframe tbody tr th {\n",
              "        vertical-align: top;\n",
              "    }\n",
              "\n",
              "    .dataframe thead th {\n",
              "        text-align: right;\n",
              "    }\n",
              "</style>\n",
              "<table border=\"1\" class=\"dataframe\">\n",
              "  <thead>\n",
              "    <tr style=\"text-align: right;\">\n",
              "      <th></th>\n",
              "      <th>0</th>\n",
              "      <th>1</th>\n",
              "    </tr>\n",
              "  </thead>\n",
              "  <tbody>\n",
              "    <tr>\n",
              "      <th>0</th>\n",
              "      <td>10</td>\n",
              "      <td>11</td>\n",
              "    </tr>\n",
              "    <tr>\n",
              "      <th>1</th>\n",
              "      <td>20</td>\n",
              "      <td>21</td>\n",
              "    </tr>\n",
              "  </tbody>\n",
              "</table>\n",
              "</div>"
            ],
            "text/plain": [
              "    0   1\n",
              "0  10  11\n",
              "1  20  21"
            ]
          },
          "metadata": {
            "tags": []
          },
          "execution_count": 24
        }
      ]
    },
    {
      "cell_type": "code",
      "metadata": {
        "colab": {
          "base_uri": "https://localhost:8080/",
          "height": 111
        },
        "id": "MArg5fT7WKw8",
        "outputId": "28714cf2-bd3f-4e75-a0cd-da45ae62d4b9"
      },
      "source": [
        "df1 = pd.DataFrame([pd.Series(np.arange(10, 15)),\r\n",
        "pd.Series(np.arange(15, 20))])\r\n",
        "df1"
      ],
      "execution_count": 25,
      "outputs": [
        {
          "output_type": "execute_result",
          "data": {
            "text/html": [
              "<div>\n",
              "<style scoped>\n",
              "    .dataframe tbody tr th:only-of-type {\n",
              "        vertical-align: middle;\n",
              "    }\n",
              "\n",
              "    .dataframe tbody tr th {\n",
              "        vertical-align: top;\n",
              "    }\n",
              "\n",
              "    .dataframe thead th {\n",
              "        text-align: right;\n",
              "    }\n",
              "</style>\n",
              "<table border=\"1\" class=\"dataframe\">\n",
              "  <thead>\n",
              "    <tr style=\"text-align: right;\">\n",
              "      <th></th>\n",
              "      <th>0</th>\n",
              "      <th>1</th>\n",
              "      <th>2</th>\n",
              "      <th>3</th>\n",
              "      <th>4</th>\n",
              "    </tr>\n",
              "  </thead>\n",
              "  <tbody>\n",
              "    <tr>\n",
              "      <th>0</th>\n",
              "      <td>10</td>\n",
              "      <td>11</td>\n",
              "      <td>12</td>\n",
              "      <td>13</td>\n",
              "      <td>14</td>\n",
              "    </tr>\n",
              "    <tr>\n",
              "      <th>1</th>\n",
              "      <td>15</td>\n",
              "      <td>16</td>\n",
              "      <td>17</td>\n",
              "      <td>18</td>\n",
              "      <td>19</td>\n",
              "    </tr>\n",
              "  </tbody>\n",
              "</table>\n",
              "</div>"
            ],
            "text/plain": [
              "    0   1   2   3   4\n",
              "0  10  11  12  13  14\n",
              "1  15  16  17  18  19"
            ]
          },
          "metadata": {
            "tags": []
          },
          "execution_count": 25
        }
      ]
    },
    {
      "cell_type": "code",
      "metadata": {
        "colab": {
          "base_uri": "https://localhost:8080/"
        },
        "id": "nEju_b7bWnhw",
        "outputId": "8b7ea273-779f-4551-8098-bf8ba76c0269"
      },
      "source": [
        "df1.shape"
      ],
      "execution_count": 26,
      "outputs": [
        {
          "output_type": "execute_result",
          "data": {
            "text/plain": [
              "(2, 5)"
            ]
          },
          "metadata": {
            "tags": []
          },
          "execution_count": 26
        }
      ]
    },
    {
      "cell_type": "code",
      "metadata": {
        "colab": {
          "base_uri": "https://localhost:8080/",
          "height": 111
        },
        "id": "Y7uytLeXWyyi",
        "outputId": "041142d5-e39c-43a8-9611-fcdce696523c"
      },
      "source": [
        "df = pd.DataFrame(np.array([[10, 11], [20, 21]]),\r\n",
        "columns=['a', 'b'])\r\n",
        "df"
      ],
      "execution_count": 27,
      "outputs": [
        {
          "output_type": "execute_result",
          "data": {
            "text/html": [
              "<div>\n",
              "<style scoped>\n",
              "    .dataframe tbody tr th:only-of-type {\n",
              "        vertical-align: middle;\n",
              "    }\n",
              "\n",
              "    .dataframe tbody tr th {\n",
              "        vertical-align: top;\n",
              "    }\n",
              "\n",
              "    .dataframe thead th {\n",
              "        text-align: right;\n",
              "    }\n",
              "</style>\n",
              "<table border=\"1\" class=\"dataframe\">\n",
              "  <thead>\n",
              "    <tr style=\"text-align: right;\">\n",
              "      <th></th>\n",
              "      <th>a</th>\n",
              "      <th>b</th>\n",
              "    </tr>\n",
              "  </thead>\n",
              "  <tbody>\n",
              "    <tr>\n",
              "      <th>0</th>\n",
              "      <td>10</td>\n",
              "      <td>11</td>\n",
              "    </tr>\n",
              "    <tr>\n",
              "      <th>1</th>\n",
              "      <td>20</td>\n",
              "      <td>21</td>\n",
              "    </tr>\n",
              "  </tbody>\n",
              "</table>\n",
              "</div>"
            ],
            "text/plain": [
              "    a   b\n",
              "0  10  11\n",
              "1  20  21"
            ]
          },
          "metadata": {
            "tags": []
          },
          "execution_count": 27
        }
      ]
    },
    {
      "cell_type": "code",
      "metadata": {
        "colab": {
          "base_uri": "https://localhost:8080/"
        },
        "id": "9h7VBCqEXE4T",
        "outputId": "4bb46ff1-a08e-4c82-84b9-90b4244a91c2"
      },
      "source": [
        "df.columns"
      ],
      "execution_count": 28,
      "outputs": [
        {
          "output_type": "execute_result",
          "data": {
            "text/plain": [
              "Index(['a', 'b'], dtype='object')"
            ]
          },
          "metadata": {
            "tags": []
          },
          "execution_count": 28
        }
      ]
    },
    {
      "cell_type": "code",
      "metadata": {
        "colab": {
          "base_uri": "https://localhost:8080/",
          "height": 111
        },
        "id": "tUs1Ob6FXMz2",
        "outputId": "0fbdc823-800c-44d5-f57f-3727bd906fc1"
      },
      "source": [
        "df.columns = ['c1', 'c2']\r\n",
        "df"
      ],
      "execution_count": 29,
      "outputs": [
        {
          "output_type": "execute_result",
          "data": {
            "text/html": [
              "<div>\n",
              "<style scoped>\n",
              "    .dataframe tbody tr th:only-of-type {\n",
              "        vertical-align: middle;\n",
              "    }\n",
              "\n",
              "    .dataframe tbody tr th {\n",
              "        vertical-align: top;\n",
              "    }\n",
              "\n",
              "    .dataframe thead th {\n",
              "        text-align: right;\n",
              "    }\n",
              "</style>\n",
              "<table border=\"1\" class=\"dataframe\">\n",
              "  <thead>\n",
              "    <tr style=\"text-align: right;\">\n",
              "      <th></th>\n",
              "      <th>c1</th>\n",
              "      <th>c2</th>\n",
              "    </tr>\n",
              "  </thead>\n",
              "  <tbody>\n",
              "    <tr>\n",
              "      <th>0</th>\n",
              "      <td>10</td>\n",
              "      <td>11</td>\n",
              "    </tr>\n",
              "    <tr>\n",
              "      <th>1</th>\n",
              "      <td>20</td>\n",
              "      <td>21</td>\n",
              "    </tr>\n",
              "  </tbody>\n",
              "</table>\n",
              "</div>"
            ],
            "text/plain": [
              "   c1  c2\n",
              "0  10  11\n",
              "1  20  21"
            ]
          },
          "metadata": {
            "tags": []
          },
          "execution_count": 29
        }
      ]
    },
    {
      "cell_type": "code",
      "metadata": {
        "colab": {
          "base_uri": "https://localhost:8080/",
          "height": 111
        },
        "id": "3EmNU0OzXZOk",
        "outputId": "ee069a60-3154-4fbc-9b04-5f14b13fe609"
      },
      "source": [
        "df = pd.DataFrame(np.array([[0, 1], [2, 3]]),\r\n",
        "columns=['c1', 'c2'],index=['r1', 'r2'])\r\n",
        "df"
      ],
      "execution_count": 30,
      "outputs": [
        {
          "output_type": "execute_result",
          "data": {
            "text/html": [
              "<div>\n",
              "<style scoped>\n",
              "    .dataframe tbody tr th:only-of-type {\n",
              "        vertical-align: middle;\n",
              "    }\n",
              "\n",
              "    .dataframe tbody tr th {\n",
              "        vertical-align: top;\n",
              "    }\n",
              "\n",
              "    .dataframe thead th {\n",
              "        text-align: right;\n",
              "    }\n",
              "</style>\n",
              "<table border=\"1\" class=\"dataframe\">\n",
              "  <thead>\n",
              "    <tr style=\"text-align: right;\">\n",
              "      <th></th>\n",
              "      <th>c1</th>\n",
              "      <th>c2</th>\n",
              "    </tr>\n",
              "  </thead>\n",
              "  <tbody>\n",
              "    <tr>\n",
              "      <th>r1</th>\n",
              "      <td>0</td>\n",
              "      <td>1</td>\n",
              "    </tr>\n",
              "    <tr>\n",
              "      <th>r2</th>\n",
              "      <td>2</td>\n",
              "      <td>3</td>\n",
              "    </tr>\n",
              "  </tbody>\n",
              "</table>\n",
              "</div>"
            ],
            "text/plain": [
              "    c1  c2\n",
              "r1   0   1\n",
              "r2   2   3"
            ]
          },
          "metadata": {
            "tags": []
          },
          "execution_count": 30
        }
      ]
    },
    {
      "cell_type": "code",
      "metadata": {
        "colab": {
          "base_uri": "https://localhost:8080/"
        },
        "id": "wq9tq56EXtIb",
        "outputId": "5aa57386-5b10-4730-ab7b-1dd21432822f"
      },
      "source": [
        "df.index"
      ],
      "execution_count": 31,
      "outputs": [
        {
          "output_type": "execute_result",
          "data": {
            "text/plain": [
              "Index(['r1', 'r2'], dtype='object')"
            ]
          },
          "metadata": {
            "tags": []
          },
          "execution_count": 31
        }
      ]
    },
    {
      "cell_type": "code",
      "metadata": {
        "colab": {
          "base_uri": "https://localhost:8080/"
        },
        "id": "BvsjHchWYAqt",
        "outputId": "08aa897f-cd48-40c9-e8fb-2838e95de770"
      },
      "source": [
        "df.values"
      ],
      "execution_count": 32,
      "outputs": [
        {
          "output_type": "execute_result",
          "data": {
            "text/plain": [
              "array([[0, 1],\n",
              "       [2, 3]])"
            ]
          },
          "metadata": {
            "tags": []
          },
          "execution_count": 32
        }
      ]
    },
    {
      "cell_type": "code",
      "metadata": {
        "colab": {
          "base_uri": "https://localhost:8080/",
          "height": 204
        },
        "id": "kz72UB1fYJuh",
        "outputId": "b0388ee2-e2ed-4ee0-8808-18e432643a9f"
      },
      "source": [
        "s1 = pd.Series(np.arange(1, 6, 1))\r\n",
        "s2 = pd.Series(np.arange(6, 11, 1))\r\n",
        "pd.DataFrame({'c1': s1, 'c2': s2})"
      ],
      "execution_count": 33,
      "outputs": [
        {
          "output_type": "execute_result",
          "data": {
            "text/html": [
              "<div>\n",
              "<style scoped>\n",
              "    .dataframe tbody tr th:only-of-type {\n",
              "        vertical-align: middle;\n",
              "    }\n",
              "\n",
              "    .dataframe tbody tr th {\n",
              "        vertical-align: top;\n",
              "    }\n",
              "\n",
              "    .dataframe thead th {\n",
              "        text-align: right;\n",
              "    }\n",
              "</style>\n",
              "<table border=\"1\" class=\"dataframe\">\n",
              "  <thead>\n",
              "    <tr style=\"text-align: right;\">\n",
              "      <th></th>\n",
              "      <th>c1</th>\n",
              "      <th>c2</th>\n",
              "    </tr>\n",
              "  </thead>\n",
              "  <tbody>\n",
              "    <tr>\n",
              "      <th>0</th>\n",
              "      <td>1</td>\n",
              "      <td>6</td>\n",
              "    </tr>\n",
              "    <tr>\n",
              "      <th>1</th>\n",
              "      <td>2</td>\n",
              "      <td>7</td>\n",
              "    </tr>\n",
              "    <tr>\n",
              "      <th>2</th>\n",
              "      <td>3</td>\n",
              "      <td>8</td>\n",
              "    </tr>\n",
              "    <tr>\n",
              "      <th>3</th>\n",
              "      <td>4</td>\n",
              "      <td>9</td>\n",
              "    </tr>\n",
              "    <tr>\n",
              "      <th>4</th>\n",
              "      <td>5</td>\n",
              "      <td>10</td>\n",
              "    </tr>\n",
              "  </tbody>\n",
              "</table>\n",
              "</div>"
            ],
            "text/plain": [
              "   c1  c2\n",
              "0   1   6\n",
              "1   2   7\n",
              "2   3   8\n",
              "3   4   9\n",
              "4   5  10"
            ]
          },
          "metadata": {
            "tags": []
          },
          "execution_count": 33
        }
      ]
    },
    {
      "cell_type": "code",
      "metadata": {
        "colab": {
          "base_uri": "https://localhost:8080/",
          "height": 204
        },
        "id": "lcQlTYa1Yj9c",
        "outputId": "ce53bd82-344f-419e-9734-08ad984421f6"
      },
      "source": [
        "s3 = pd.Series(np.arange(12, 14), index=[1, 2])\r\n",
        "pd.DataFrame({'c1': s1, 'c2': s2, 'c3': s3})"
      ],
      "execution_count": 34,
      "outputs": [
        {
          "output_type": "execute_result",
          "data": {
            "text/html": [
              "<div>\n",
              "<style scoped>\n",
              "    .dataframe tbody tr th:only-of-type {\n",
              "        vertical-align: middle;\n",
              "    }\n",
              "\n",
              "    .dataframe tbody tr th {\n",
              "        vertical-align: top;\n",
              "    }\n",
              "\n",
              "    .dataframe thead th {\n",
              "        text-align: right;\n",
              "    }\n",
              "</style>\n",
              "<table border=\"1\" class=\"dataframe\">\n",
              "  <thead>\n",
              "    <tr style=\"text-align: right;\">\n",
              "      <th></th>\n",
              "      <th>c1</th>\n",
              "      <th>c2</th>\n",
              "      <th>c3</th>\n",
              "    </tr>\n",
              "  </thead>\n",
              "  <tbody>\n",
              "    <tr>\n",
              "      <th>0</th>\n",
              "      <td>1</td>\n",
              "      <td>6</td>\n",
              "      <td>NaN</td>\n",
              "    </tr>\n",
              "    <tr>\n",
              "      <th>1</th>\n",
              "      <td>2</td>\n",
              "      <td>7</td>\n",
              "      <td>12.0</td>\n",
              "    </tr>\n",
              "    <tr>\n",
              "      <th>2</th>\n",
              "      <td>3</td>\n",
              "      <td>8</td>\n",
              "      <td>13.0</td>\n",
              "    </tr>\n",
              "    <tr>\n",
              "      <th>3</th>\n",
              "      <td>4</td>\n",
              "      <td>9</td>\n",
              "      <td>NaN</td>\n",
              "    </tr>\n",
              "    <tr>\n",
              "      <th>4</th>\n",
              "      <td>5</td>\n",
              "      <td>10</td>\n",
              "      <td>NaN</td>\n",
              "    </tr>\n",
              "  </tbody>\n",
              "</table>\n",
              "</div>"
            ],
            "text/plain": [
              "   c1  c2    c3\n",
              "0   1   6   NaN\n",
              "1   2   7  12.0\n",
              "2   3   8  13.0\n",
              "3   4   9   NaN\n",
              "4   5  10   NaN"
            ]
          },
          "metadata": {
            "tags": []
          },
          "execution_count": 34
        }
      ]
    },
    {
      "cell_type": "code",
      "metadata": {
        "id": "3qcy_NQ4ZBKL"
      },
      "source": [
        "import pandas as pd\r\n",
        "import numpy as np\r\n",
        "import datetime\r\n",
        "import matplotlib.pyplot as plt\r\n",
        "%matplotlib inline"
      ],
      "execution_count": 40,
      "outputs": []
    },
    {
      "cell_type": "code",
      "metadata": {
        "id": "bgrAL9CWh6Qo"
      },
      "source": [
        "pd.set_option('display.notebook_repr_html', False)\r\n",
        "pd.set_option('display.max_columns', 15)\r\n",
        "pd.set_option('display.max_rows', 8)\r\n",
        "pd.set_option('precision', 3)"
      ],
      "execution_count": 41,
      "outputs": []
    },
    {
      "cell_type": "code",
      "metadata": {
        "colab": {
          "base_uri": "https://localhost:8080/"
        },
        "id": "d0sV_VyFiIZy",
        "outputId": "3a607352-dbad-4cdb-a6d0-28b6a1ae9554"
      },
      "source": [
        "!pip install yfinance "
      ],
      "execution_count": 44,
      "outputs": [
        {
          "output_type": "stream",
          "text": [
            "Collecting yfinance\n",
            "  Downloading https://files.pythonhosted.org/packages/7a/e8/b9d7104d3a4bf39924799067592d9e59119fcfc900a425a12e80a3123ec8/yfinance-0.1.55.tar.gz\n",
            "Requirement already satisfied: pandas>=0.24 in /usr/local/lib/python3.6/dist-packages (from yfinance) (1.1.5)\n",
            "Requirement already satisfied: numpy>=1.15 in /usr/local/lib/python3.6/dist-packages (from yfinance) (1.19.5)\n",
            "Requirement already satisfied: requests>=2.20 in /usr/local/lib/python3.6/dist-packages (from yfinance) (2.23.0)\n",
            "Requirement already satisfied: multitasking>=0.0.7 in /usr/local/lib/python3.6/dist-packages (from yfinance) (0.0.9)\n",
            "Collecting lxml>=4.5.1\n",
            "\u001b[?25l  Downloading https://files.pythonhosted.org/packages/bd/78/56a7c88a57d0d14945472535d0df9fb4bbad7d34ede658ec7961635c790e/lxml-4.6.2-cp36-cp36m-manylinux1_x86_64.whl (5.5MB)\n",
            "\u001b[K     |████████████████████████████████| 5.5MB 6.5MB/s \n",
            "\u001b[?25hRequirement already satisfied: python-dateutil>=2.7.3 in /usr/local/lib/python3.6/dist-packages (from pandas>=0.24->yfinance) (2.8.1)\n",
            "Requirement already satisfied: pytz>=2017.2 in /usr/local/lib/python3.6/dist-packages (from pandas>=0.24->yfinance) (2018.9)\n",
            "Requirement already satisfied: idna<3,>=2.5 in /usr/local/lib/python3.6/dist-packages (from requests>=2.20->yfinance) (2.10)\n",
            "Requirement already satisfied: certifi>=2017.4.17 in /usr/local/lib/python3.6/dist-packages (from requests>=2.20->yfinance) (2020.12.5)\n",
            "Requirement already satisfied: chardet<4,>=3.0.2 in /usr/local/lib/python3.6/dist-packages (from requests>=2.20->yfinance) (3.0.4)\n",
            "Requirement already satisfied: urllib3!=1.25.0,!=1.25.1,<1.26,>=1.21.1 in /usr/local/lib/python3.6/dist-packages (from requests>=2.20->yfinance) (1.24.3)\n",
            "Requirement already satisfied: six>=1.5 in /usr/local/lib/python3.6/dist-packages (from python-dateutil>=2.7.3->pandas>=0.24->yfinance) (1.15.0)\n",
            "Building wheels for collected packages: yfinance\n",
            "  Building wheel for yfinance (setup.py) ... \u001b[?25l\u001b[?25hdone\n",
            "  Created wheel for yfinance: filename=yfinance-0.1.55-py2.py3-none-any.whl size=22616 sha256=c6a31907000cb50e5544fdafdb10bca95b598b8a24ed68bb4b1bd699af8fdcab\n",
            "  Stored in directory: /root/.cache/pip/wheels/04/98/cc/2702a4242d60bdc14f48b4557c427ded1fe92aedf257d4565c\n",
            "Successfully built yfinance\n",
            "Installing collected packages: lxml, yfinance\n",
            "  Found existing installation: lxml 4.2.6\n",
            "    Uninstalling lxml-4.2.6:\n",
            "      Successfully uninstalled lxml-4.2.6\n",
            "Successfully installed lxml-4.6.2 yfinance-0.1.55\n"
          ],
          "name": "stdout"
        }
      ]
    },
    {
      "cell_type": "code",
      "metadata": {
        "id": "69Cprma4jA7g"
      },
      "source": [
        "import yfinance as yf"
      ],
      "execution_count": 56,
      "outputs": []
    },
    {
      "cell_type": "code",
      "metadata": {
        "id": "1B4OSjI9kJgd"
      },
      "source": [
        "msft = yf.download('MSFT',\r\n",
        "start='2000-01-01',\r\n",
        "end='2021-02-12',\r\n",
        "progress=False)\r\n"
      ],
      "execution_count": 59,
      "outputs": []
    },
    {
      "cell_type": "code",
      "metadata": {
        "colab": {
          "base_uri": "https://localhost:8080/"
        },
        "id": "fEQCaHSopKuN",
        "outputId": "bfaefcfb-31e0-44b1-a3e0-50efc3c78ad6"
      },
      "source": [
        "msft.head()\r\n"
      ],
      "execution_count": 60,
      "outputs": [
        {
          "output_type": "execute_result",
          "data": {
            "text/plain": [
              "              Open    High     Low   Close  Adj Close    Volume\n",
              "Date                                                           \n",
              "2000-01-03  58.688  59.312  56.000  58.281     37.103  53228400\n",
              "2000-01-04  56.781  58.562  56.125  56.312     35.849  54119000\n",
              "2000-01-05  55.562  58.188  54.688  56.906     36.227  64059600\n",
              "2000-01-06  56.094  56.938  54.188  55.000     35.014  54976600\n",
              "2000-01-07  54.312  56.125  53.656  55.719     35.471  62013600"
            ]
          },
          "metadata": {
            "tags": []
          },
          "execution_count": 60
        }
      ]
    },
    {
      "cell_type": "code",
      "metadata": {
        "colab": {
          "base_uri": "https://localhost:8080/"
        },
        "id": "yIi6PxnvpP-q",
        "outputId": "f861943d-af85-4433-ab05-c8f38815b904"
      },
      "source": [
        "msft.tail()"
      ],
      "execution_count": 61,
      "outputs": [
        {
          "output_type": "execute_result",
          "data": {
            "text/plain": [
              "              Open    High     Low   Close  Adj Close    Volume\n",
              "Date                                                           \n",
              "2021-02-05  242.23  243.28  240.42  242.20     242.20  18043900\n",
              "2021-02-08  243.15  243.68  240.81  242.47     242.47  22211900\n",
              "2021-02-09  241.87  244.76  241.38  243.77     243.77  23565000\n",
              "2021-02-10  245.00  245.92  240.89  242.82     242.82  22186700\n",
              "2021-02-11  244.78  245.15  242.15  244.49     244.49  15742200"
            ]
          },
          "metadata": {
            "tags": []
          },
          "execution_count": 61
        }
      ]
    },
    {
      "cell_type": "code",
      "metadata": {
        "colab": {
          "base_uri": "https://localhost:8080/"
        },
        "id": "wkMUM6iEpgXN",
        "outputId": "537f6817-d1b6-42a6-9e56-5b38f580e246"
      },
      "source": [
        "msftAC = msft['Adj Close']\r\n",
        "msftAC.head(3)\r\n"
      ],
      "execution_count": 65,
      "outputs": [
        {
          "output_type": "execute_result",
          "data": {
            "text/plain": [
              "Date\n",
              "2000-01-03    37.103\n",
              "2000-01-04    35.849\n",
              "2000-01-05    36.227\n",
              "Name: Adj Close, dtype: float64"
            ]
          },
          "metadata": {
            "tags": []
          },
          "execution_count": 65
        }
      ]
    },
    {
      "cell_type": "code",
      "metadata": {
        "colab": {
          "base_uri": "https://localhost:8080/"
        },
        "id": "tAhqkP9dqcbq",
        "outputId": "6438d53b-a355-4316-bc64-18e5b1f91a26"
      },
      "source": [
        "msft['2021-02-01':'2021-02-16']"
      ],
      "execution_count": 66,
      "outputs": [
        {
          "output_type": "execute_result",
          "data": {
            "text/plain": [
              "              Open    High     Low   Close  Adj Close    Volume\n",
              "Date                                                           \n",
              "2021-02-01  235.06  242.50  232.43  239.65     239.65  33314200\n",
              "2021-02-02  241.30  242.31  238.69  239.51     239.51  25916300\n",
              "2021-02-03  239.57  245.09  239.26  243.00     243.00  27158100\n",
              "2021-02-04  242.66  243.24  240.37  242.01     242.01  25296100\n",
              "...            ...     ...     ...     ...        ...       ...\n",
              "2021-02-08  243.15  243.68  240.81  242.47     242.47  22211900\n",
              "2021-02-09  241.87  244.76  241.38  243.77     243.77  23565000\n",
              "2021-02-10  245.00  245.92  240.89  242.82     242.82  22186700\n",
              "2021-02-11  244.78  245.15  242.15  244.49     244.49  15742200\n",
              "\n",
              "[9 rows x 6 columns]"
            ]
          },
          "metadata": {
            "tags": []
          },
          "execution_count": 66
        }
      ]
    },
    {
      "cell_type": "code",
      "metadata": {
        "colab": {
          "base_uri": "https://localhost:8080/"
        },
        "id": "anPMRc8frQ0O",
        "outputId": "3725c406-c3c0-4f0a-d31f-1dff85188bb4"
      },
      "source": [
        "msft.loc['2021-02-11']"
      ],
      "execution_count": 67,
      "outputs": [
        {
          "output_type": "execute_result",
          "data": {
            "text/plain": [
              "Open         2.448e+02\n",
              "High         2.451e+02\n",
              "Low          2.421e+02\n",
              "Close        2.445e+02\n",
              "Adj Close    2.445e+02\n",
              "Volume       1.574e+07\n",
              "Name: 2021-02-11 00:00:00, dtype: float64"
            ]
          },
          "metadata": {
            "tags": []
          },
          "execution_count": 67
        }
      ]
    },
    {
      "cell_type": "code",
      "metadata": {
        "colab": {
          "base_uri": "https://localhost:8080/"
        },
        "id": "lbIWZRL1sLwq",
        "outputId": "4b527d09-0b9f-47f9-ca4d-3280fe6ae0b7"
      },
      "source": [
        "msftAC['2021-02-11']"
      ],
      "execution_count": 75,
      "outputs": [
        {
          "output_type": "execute_result",
          "data": {
            "text/plain": [
              "244.49000549316406"
            ]
          },
          "metadata": {
            "tags": []
          },
          "execution_count": 75
        }
      ]
    },
    {
      "cell_type": "code",
      "metadata": {
        "colab": {
          "base_uri": "https://localhost:8080/"
        },
        "id": "D6KTqJM7s7Nr",
        "outputId": "ef60bcf7-720b-45db-e2f5-73329cbf04a8"
      },
      "source": [
        "msft['2020-02'].head()"
      ],
      "execution_count": 77,
      "outputs": [
        {
          "output_type": "execute_result",
          "data": {
            "text/plain": [
              "              Open    High     Low   Close  Adj Close    Volume\n",
              "Date                                                           \n",
              "2020-02-03  170.43  174.50  170.40  174.38    172.552  30149100\n",
              "2020-02-04  177.14  180.64  176.31  180.12    178.232  36433300\n",
              "2020-02-05  184.03  184.20  178.41  179.90    178.014  39186300\n",
              "2020-02-06  180.97  183.82  180.06  183.63    181.705  27751400\n",
              "2020-02-07  182.85  185.63  182.48  183.89    181.962  33529100"
            ]
          },
          "metadata": {
            "tags": []
          },
          "execution_count": 77
        }
      ]
    },
    {
      "cell_type": "code",
      "metadata": {
        "colab": {
          "base_uri": "https://localhost:8080/"
        },
        "id": "chdlXK78tsq3",
        "outputId": "99740c03-4dad-471c-ed1e-4891ea93b7f6"
      },
      "source": [
        "msft['2012-02':'2012-02-09'][:5]"
      ],
      "execution_count": 78,
      "outputs": [
        {
          "output_type": "execute_result",
          "data": {
            "text/plain": [
              "             Open   High    Low  Close  Adj Close    Volume\n",
              "Date                                                       \n",
              "2012-02-01  29.79  30.05  29.76  29.89     24.396  67409900\n",
              "2012-02-02  29.90  30.17  29.71  29.95     24.445  52223300\n",
              "2012-02-03  30.14  30.40  30.09  30.24     24.682  41838500\n",
              "2012-02-06  30.04  30.22  29.97  30.20     24.649  28039700\n",
              "2012-02-07  30.15  30.49  30.05  30.35     24.771  39242400"
            ]
          },
          "metadata": {
            "tags": []
          },
          "execution_count": 78
        }
      ]
    },
    {
      "cell_type": "code",
      "metadata": {
        "colab": {
          "base_uri": "https://localhost:8080/"
        },
        "id": "G2Qo_wJet0ad",
        "outputId": "3f2a8fa1-35f2-4ce4-e6be-f544367a59cb"
      },
      "source": [
        "msft['2012-02':'2012-02-09'][6:]"
      ],
      "execution_count": 79,
      "outputs": [
        {
          "output_type": "execute_result",
          "data": {
            "text/plain": [
              "             Open  High    Low  Close  Adj Close    Volume\n",
              "Date                                                      \n",
              "2012-02-09  30.68  30.8  30.48  30.77     25.114  50481600"
            ]
          },
          "metadata": {
            "tags": []
          },
          "execution_count": 79
        }
      ]
    },
    {
      "cell_type": "code",
      "metadata": {
        "colab": {
          "base_uri": "https://localhost:8080/"
        },
        "id": "Es0fCMYtucZ9",
        "outputId": "dba724ec-f27f-400c-fa4a-fbe3ef7e231a"
      },
      "source": [
        "bymin = pd.Series(np.arange(0, 90*60*24),\r\n",
        "pd.date_range('2014-08-01',\r\n",
        "'2014-10-29 23:59:00',\r\n",
        "freq='T'))\r\n",
        "bymin"
      ],
      "execution_count": 81,
      "outputs": [
        {
          "output_type": "execute_result",
          "data": {
            "text/plain": [
              "2014-08-01 00:00:00         0\n",
              "2014-08-01 00:01:00         1\n",
              "2014-08-01 00:02:00         2\n",
              "2014-08-01 00:03:00         3\n",
              "                        ...  \n",
              "2014-10-29 23:56:00    129596\n",
              "2014-10-29 23:57:00    129597\n",
              "2014-10-29 23:58:00    129598\n",
              "2014-10-29 23:59:00    129599\n",
              "Freq: T, Length: 129600, dtype: int64"
            ]
          },
          "metadata": {
            "tags": []
          },
          "execution_count": 81
        }
      ]
    },
    {
      "cell_type": "code",
      "metadata": {
        "colab": {
          "base_uri": "https://localhost:8080/"
        },
        "id": "W8WzAX7Ru3Q9",
        "outputId": "a61c5316-5853-4e87-dab0-fa2f01069c27"
      },
      "source": [
        "bymin['2014-08-01 12:30':'2014-08-01 12:59']"
      ],
      "execution_count": 82,
      "outputs": [
        {
          "output_type": "execute_result",
          "data": {
            "text/plain": [
              "2014-08-01 12:30:00    750\n",
              "2014-08-01 12:31:00    751\n",
              "2014-08-01 12:32:00    752\n",
              "2014-08-01 12:33:00    753\n",
              "                      ... \n",
              "2014-08-01 12:56:00    776\n",
              "2014-08-01 12:57:00    777\n",
              "2014-08-01 12:58:00    778\n",
              "2014-08-01 12:59:00    779\n",
              "Freq: T, Length: 30, dtype: int64"
            ]
          },
          "metadata": {
            "tags": []
          },
          "execution_count": 82
        }
      ]
    },
    {
      "cell_type": "code",
      "metadata": {
        "colab": {
          "base_uri": "https://localhost:8080/"
        },
        "id": "L2A3-qyVvRQg",
        "outputId": "0fdf89fe-a327-4b1a-cc29-bb8ecdc8c9a1"
      },
      "source": [
        "aug2014 = pd.Period('2014-08', freq='M')\r\n",
        "aug2014"
      ],
      "execution_count": 83,
      "outputs": [
        {
          "output_type": "execute_result",
          "data": {
            "text/plain": [
              "Period('2014-08', 'M')"
            ]
          },
          "metadata": {
            "tags": []
          },
          "execution_count": 83
        }
      ]
    },
    {
      "cell_type": "code",
      "metadata": {
        "colab": {
          "base_uri": "https://localhost:8080/"
        },
        "id": "WGtgXYSmv2-c",
        "outputId": "0465fa8d-d10f-4aa3-e9db-b7af688eb4df"
      },
      "source": [
        "sep2014 = aug2014 + 1\r\n",
        "sep2014"
      ],
      "execution_count": 84,
      "outputs": [
        {
          "output_type": "execute_result",
          "data": {
            "text/plain": [
              "Period('2014-09', 'M')"
            ]
          },
          "metadata": {
            "tags": []
          },
          "execution_count": 84
        }
      ]
    },
    {
      "cell_type": "code",
      "metadata": {
        "colab": {
          "base_uri": "https://localhost:8080/"
        },
        "id": "5t9QJX4tweAz",
        "outputId": "eaa93c99-c846-4dfd-c72a-527d78cc2940"
      },
      "source": [
        "msft.describe()"
      ],
      "execution_count": 85,
      "outputs": [
        {
          "output_type": "execute_result",
          "data": {
            "text/plain": [
              "           Open      High       Low     Close  Adj Close     Volume\n",
              "count  5312.000  5312.000  5312.000  5312.000   5312.000  5.312e+03\n",
              "mean     50.419    50.950    49.882    50.429     44.147  5.436e+07\n",
              "std      44.358    44.822    43.865    44.375     46.332  3.126e+07\n",
              "min      15.200    15.620    14.870    15.150     11.608  7.426e+06\n",
              "25%      26.717    26.980    26.430    26.700     19.134  3.213e+07\n",
              "50%      30.250    30.615    29.988    30.260     22.516  4.960e+07\n",
              "75%      50.978    51.658    50.345    51.035     45.761  6.779e+07\n",
              "max     245.000   245.920   242.150   244.490    244.490  5.911e+08"
            ]
          },
          "metadata": {
            "tags": []
          },
          "execution_count": 85
        }
      ]
    },
    {
      "cell_type": "code",
      "metadata": {
        "colab": {
          "base_uri": "https://localhost:8080/"
        },
        "id": "4uByGcmvyrqR",
        "outputId": "90c81568-1776-47ab-b750-d1b8bd7b9142"
      },
      "source": [
        "msft.describe(percentiles=[0.025, 0.5, 0.975])"
      ],
      "execution_count": 86,
      "outputs": [
        {
          "output_type": "execute_result",
          "data": {
            "text/plain": [
              "           Open      High       Low     Close  Adj Close     Volume\n",
              "count  5312.000  5312.000  5312.000  5312.000   5312.000  5.312e+03\n",
              "mean     50.419    50.950    49.882    50.429     44.147  5.436e+07\n",
              "std      44.358    44.822    43.865    44.375     46.332  3.126e+07\n",
              "min      15.200    15.620    14.870    15.150     11.608  7.426e+06\n",
              "2.5%     20.721    21.250    20.295    20.853     14.966  1.692e+07\n",
              "50%      30.250    30.615    29.988    30.260     22.516  4.960e+07\n",
              "97.5%   205.781   208.842   202.646   205.122    204.586  1.275e+08\n",
              "max     245.000   245.920   242.150   244.490    244.490  5.911e+08"
            ]
          },
          "metadata": {
            "tags": []
          },
          "execution_count": 86
        }
      ]
    },
    {
      "cell_type": "code",
      "metadata": {
        "id": "-Exrhu9czKyq"
      },
      "source": [
        "import scipy.stats as stats\r\n"
      ],
      "execution_count": 91,
      "outputs": []
    },
    {
      "cell_type": "code",
      "metadata": {
        "id": "wd4ITiZX0Jfo"
      },
      "source": [
        "msftAC = msft['2012']['Adj Close']"
      ],
      "execution_count": 105,
      "outputs": []
    },
    {
      "cell_type": "code",
      "metadata": {
        "colab": {
          "base_uri": "https://localhost:8080/"
        },
        "id": "MBXcfX-G2nOT",
        "outputId": "46dfd351-53e1-416d-c966-c223f8362427"
      },
      "source": [
        "msftAC[:5]"
      ],
      "execution_count": 97,
      "outputs": [
        {
          "output_type": "execute_result",
          "data": {
            "text/plain": [
              "Date\n",
              "2012-01-03    21.849\n",
              "2012-01-04    22.364\n",
              "2012-01-05    22.592\n",
              "2012-01-06    22.943\n",
              "2012-01-09    22.641\n",
              "Name: Adj Close, dtype: float64"
            ]
          },
          "metadata": {
            "tags": []
          },
          "execution_count": 97
        }
      ]
    },
    {
      "cell_type": "code",
      "metadata": {
        "colab": {
          "base_uri": "https://localhost:8080/",
          "height": 326
        },
        "id": "AotJmCNG2q7-",
        "outputId": "50320ca7-26cf-43f3-aa93-8ac3b887104b"
      },
      "source": [
        "sample = msftAC['2012']\r\n",
        "sample.plot(figsize=(12,5));"
      ],
      "execution_count": 106,
      "outputs": [
        {
          "output_type": "display_data",
          "data": {
            "image/png": "[encoded data removed]",
            "text/plain": [
              "<Figure size 864x360 with 1 Axes>"
            ]
          },
          "metadata": {
            "tags": [],
            "needs_background": "light"
          }
        }
      ]
    },
    {
      "cell_type": "code",
      "metadata": {
        "id": "sN1jh4P33mdQ"
      },
      "source": [
        "msftAC = msft['2013']['Adj Close']"
      ],
      "execution_count": 100,
      "outputs": []
    },
    {
      "cell_type": "code",
      "metadata": {
        "colab": {
          "base_uri": "https://localhost:8080/",
          "height": 326
        },
        "id": "GB1B7zIk3DbD",
        "outputId": "ef5b60fa-62a4-4f5d-9207-2d007fbbb375"
      },
      "source": [
        "sample1 = msftAC['2013']\r\n",
        "sample1.plot(figsize=(12,5));"
      ],
      "execution_count": 103,
      "outputs": [
        {
          "output_type": "display_data",
          "data": {
            "image/png": "[encoded data removed]",
            "text/plain": [
              "<Figure size 864x360 with 1 Axes>"
            ]
          },
          "metadata": {
            "tags": [],
            "needs_background": "light"
          }
        }
      ]
    },
    {
      "cell_type": "code",
      "metadata": {
        "colab": {
          "base_uri": "https://localhost:8080/",
          "height": 929
        },
        "id": "EepWCx11z6LF",
        "outputId": "c256a64e-e77b-46c0-d44a-080ab0598338"
      },
      "source": [
        "f = plt.figure(figsize=(12,8))\r\n",
        "ax = f.add_subplot(111)\r\n",
        "stats.probplot(msft, dist='norm', plot=ax)\r\n",
        "plt.show();"
      ],
      "execution_count": 89,
      "outputs": [
        {
          "output_type": "error",
          "ename": "ValueError",
          "evalue": "ignored",
          "traceback": [
            "\u001b[0;31m---------------------------------------------------------------------------\u001b[0m",
            "\u001b[0;31mValueError\u001b[0m                                Traceback (most recent call last)",
            "\u001b[0;32m<ipython-input-89-77f597f6465e>\u001b[0m in \u001b[0;36m<module>\u001b[0;34m()\u001b[0m\n\u001b[1;32m      1\u001b[0m \u001b[0mf\u001b[0m \u001b[0;34m=\u001b[0m \u001b[0mplt\u001b[0m\u001b[0;34m.\u001b[0m\u001b[0mfigure\u001b[0m\u001b[0;34m(\u001b[0m\u001b[0mfigsize\u001b[0m\u001b[0;34m=\u001b[0m\u001b[0;34m(\u001b[0m\u001b[0;36m12\u001b[0m\u001b[0;34m,\u001b[0m\u001b[0;36m8\u001b[0m\u001b[0;34m)\u001b[0m\u001b[0;34m)\u001b[0m\u001b[0;34m\u001b[0m\u001b[0;34m\u001b[0m\u001b[0m\n\u001b[1;32m      2\u001b[0m \u001b[0max\u001b[0m \u001b[0;34m=\u001b[0m \u001b[0mf\u001b[0m\u001b[0;34m.\u001b[0m\u001b[0madd_subplot\u001b[0m\u001b[0;34m(\u001b[0m\u001b[0;36m111\u001b[0m\u001b[0;34m)\u001b[0m\u001b[0;34m\u001b[0m\u001b[0;34m\u001b[0m\u001b[0m\n\u001b[0;32m----> 3\u001b[0;31m \u001b[0mstats\u001b[0m\u001b[0;34m.\u001b[0m\u001b[0mprobplot\u001b[0m\u001b[0;34m(\u001b[0m\u001b[0mmsft\u001b[0m\u001b[0;34m,\u001b[0m \u001b[0mdist\u001b[0m\u001b[0;34m=\u001b[0m\u001b[0;34m'norm'\u001b[0m\u001b[0;34m,\u001b[0m \u001b[0mplot\u001b[0m\u001b[0;34m=\u001b[0m\u001b[0max\u001b[0m\u001b[0;34m)\u001b[0m\u001b[0;34m\u001b[0m\u001b[0;34m\u001b[0m\u001b[0m\n\u001b[0m\u001b[1;32m      4\u001b[0m \u001b[0mplt\u001b[0m\u001b[0;34m.\u001b[0m\u001b[0mshow\u001b[0m\u001b[0;34m(\u001b[0m\u001b[0;34m)\u001b[0m\u001b[0;34m;\u001b[0m\u001b[0;34m\u001b[0m\u001b[0;34m\u001b[0m\u001b[0m\n",
            "\u001b[0;32m/usr/local/lib/python3.6/dist-packages/scipy/stats/morestats.py\u001b[0m in \u001b[0;36mprobplot\u001b[0;34m(x, sparams, dist, fit, plot, rvalue)\u001b[0m\n\u001b[1;32m    604\u001b[0m     \u001b[0;32mif\u001b[0m \u001b[0m_perform_fit\u001b[0m\u001b[0;34m:\u001b[0m\u001b[0;34m\u001b[0m\u001b[0;34m\u001b[0m\u001b[0m\n\u001b[1;32m    605\u001b[0m         \u001b[0;31m# perform a linear least squares fit.\u001b[0m\u001b[0;34m\u001b[0m\u001b[0;34m\u001b[0m\u001b[0;34m\u001b[0m\u001b[0m\n\u001b[0;32m--> 606\u001b[0;31m         \u001b[0mslope\u001b[0m\u001b[0;34m,\u001b[0m \u001b[0mintercept\u001b[0m\u001b[0;34m,\u001b[0m \u001b[0mr\u001b[0m\u001b[0;34m,\u001b[0m \u001b[0mprob\u001b[0m\u001b[0;34m,\u001b[0m \u001b[0msterrest\u001b[0m \u001b[0;34m=\u001b[0m \u001b[0mstats\u001b[0m\u001b[0;34m.\u001b[0m\u001b[0mlinregress\u001b[0m\u001b[0;34m(\u001b[0m\u001b[0mosm\u001b[0m\u001b[0;34m,\u001b[0m \u001b[0mosr\u001b[0m\u001b[0;34m)\u001b[0m\u001b[0;34m\u001b[0m\u001b[0;34m\u001b[0m\u001b[0m\n\u001b[0m\u001b[1;32m    607\u001b[0m \u001b[0;34m\u001b[0m\u001b[0m\n\u001b[1;32m    608\u001b[0m     \u001b[0;32mif\u001b[0m \u001b[0mplot\u001b[0m \u001b[0;32mis\u001b[0m \u001b[0;32mnot\u001b[0m \u001b[0;32mNone\u001b[0m\u001b[0;34m:\u001b[0m\u001b[0;34m\u001b[0m\u001b[0;34m\u001b[0m\u001b[0m\n",
            "\u001b[0;32m/usr/local/lib/python3.6/dist-packages/scipy/stats/_stats_mstats_common.py\u001b[0m in \u001b[0;36mlinregress\u001b[0;34m(x, y)\u001b[0m\n\u001b[1;32m    114\u001b[0m \u001b[0;34m\u001b[0m\u001b[0m\n\u001b[1;32m    115\u001b[0m     \u001b[0;31m# average sum of squares:\u001b[0m\u001b[0;34m\u001b[0m\u001b[0;34m\u001b[0m\u001b[0;34m\u001b[0m\u001b[0m\n\u001b[0;32m--> 116\u001b[0;31m     \u001b[0mssxm\u001b[0m\u001b[0;34m,\u001b[0m \u001b[0mssxym\u001b[0m\u001b[0;34m,\u001b[0m \u001b[0mssyxm\u001b[0m\u001b[0;34m,\u001b[0m \u001b[0mssym\u001b[0m \u001b[0;34m=\u001b[0m \u001b[0mnp\u001b[0m\u001b[0;34m.\u001b[0m\u001b[0mcov\u001b[0m\u001b[0;34m(\u001b[0m\u001b[0mx\u001b[0m\u001b[0;34m,\u001b[0m \u001b[0my\u001b[0m\u001b[0;34m,\u001b[0m \u001b[0mbias\u001b[0m\u001b[0;34m=\u001b[0m\u001b[0;36m1\u001b[0m\u001b[0;34m)\u001b[0m\u001b[0;34m.\u001b[0m\u001b[0mflat\u001b[0m\u001b[0;34m\u001b[0m\u001b[0;34m\u001b[0m\u001b[0m\n\u001b[0m\u001b[1;32m    117\u001b[0m     \u001b[0mr_num\u001b[0m \u001b[0;34m=\u001b[0m \u001b[0mssxym\u001b[0m\u001b[0;34m\u001b[0m\u001b[0;34m\u001b[0m\u001b[0m\n\u001b[1;32m    118\u001b[0m     \u001b[0mr_den\u001b[0m \u001b[0;34m=\u001b[0m \u001b[0mnp\u001b[0m\u001b[0;34m.\u001b[0m\u001b[0msqrt\u001b[0m\u001b[0;34m(\u001b[0m\u001b[0mssxm\u001b[0m \u001b[0;34m*\u001b[0m \u001b[0mssym\u001b[0m\u001b[0;34m)\u001b[0m\u001b[0;34m\u001b[0m\u001b[0;34m\u001b[0m\u001b[0m\n",
            "\u001b[0;32m<__array_function__ internals>\u001b[0m in \u001b[0;36mcov\u001b[0;34m(*args, **kwargs)\u001b[0m\n",
            "\u001b[0;32m/usr/local/lib/python3.6/dist-packages/numpy/lib/function_base.py\u001b[0m in \u001b[0;36mcov\u001b[0;34m(m, y, rowvar, bias, ddof, fweights, aweights)\u001b[0m\n\u001b[1;32m   2413\u001b[0m         \u001b[0;32mif\u001b[0m \u001b[0;32mnot\u001b[0m \u001b[0mrowvar\u001b[0m \u001b[0;32mand\u001b[0m \u001b[0my\u001b[0m\u001b[0;34m.\u001b[0m\u001b[0mshape\u001b[0m\u001b[0;34m[\u001b[0m\u001b[0;36m0\u001b[0m\u001b[0;34m]\u001b[0m \u001b[0;34m!=\u001b[0m \u001b[0;36m1\u001b[0m\u001b[0;34m:\u001b[0m\u001b[0;34m\u001b[0m\u001b[0;34m\u001b[0m\u001b[0m\n\u001b[1;32m   2414\u001b[0m             \u001b[0my\u001b[0m \u001b[0;34m=\u001b[0m \u001b[0my\u001b[0m\u001b[0;34m.\u001b[0m\u001b[0mT\u001b[0m\u001b[0;34m\u001b[0m\u001b[0;34m\u001b[0m\u001b[0m\n\u001b[0;32m-> 2415\u001b[0;31m         \u001b[0mX\u001b[0m \u001b[0;34m=\u001b[0m \u001b[0mnp\u001b[0m\u001b[0;34m.\u001b[0m\u001b[0mconcatenate\u001b[0m\u001b[0;34m(\u001b[0m\u001b[0;34m(\u001b[0m\u001b[0mX\u001b[0m\u001b[0;34m,\u001b[0m \u001b[0my\u001b[0m\u001b[0;34m)\u001b[0m\u001b[0;34m,\u001b[0m \u001b[0maxis\u001b[0m\u001b[0;34m=\u001b[0m\u001b[0;36m0\u001b[0m\u001b[0;34m)\u001b[0m\u001b[0;34m\u001b[0m\u001b[0;34m\u001b[0m\u001b[0m\n\u001b[0m\u001b[1;32m   2416\u001b[0m \u001b[0;34m\u001b[0m\u001b[0m\n\u001b[1;32m   2417\u001b[0m     \u001b[0;32mif\u001b[0m \u001b[0mddof\u001b[0m \u001b[0;32mis\u001b[0m \u001b[0;32mNone\u001b[0m\u001b[0;34m:\u001b[0m\u001b[0;34m\u001b[0m\u001b[0;34m\u001b[0m\u001b[0m\n",
            "\u001b[0;32m<__array_function__ internals>\u001b[0m in \u001b[0;36mconcatenate\u001b[0;34m(*args, **kwargs)\u001b[0m\n",
            "\u001b[0;31mValueError\u001b[0m: all the input array dimensions for the concatenation axis must match exactly, but along dimension 1, the array at index 0 has size 5312 and the array at index 1 has size 6"
          ]
        },
        {
          "output_type": "display_data",
          "data": {
            "image/png": "[encoded data removed]",
            "text/plain": [
              "<Figure size 864x576 with 1 Axes>"
            ]
          },
          "metadata": {
            "tags": [],
            "needs_background": "light"
          }
        }
      ]
    },
    {
      "cell_type": "code",
      "metadata": {
        "id": "M5PBNjzk0EXZ"
      },
      "source": [
        ""
      ],
      "execution_count": null,
      "outputs": []
    }
  ]
}