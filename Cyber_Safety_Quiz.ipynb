{
  "nbformat": 4,
  "nbformat_minor": 0,
  "metadata": {
    "colab": {
      "name": "Cyber Safety Quiz",
      "provenance": [],
      "authorship_tag": "ABX9TyPBxh/9BCiJdolcb4/9PNsV",
      "include_colab_link": true
    },
    "kernelspec": {
      "name": "python3",
      "display_name": "Python 3"
    },
    "language_info": {
      "name": "python"
    }
  },
  "cells": [
    {
      "cell_type": "markdown",
      "metadata": {
        "id": "view-in-github",
        "colab_type": "text"
      },
      "source": [
        "<a href=\"https://colab.research.google.com/github/manikur/R-programming/blob/gh-pages/Cyber_Safety_Quiz.ipynb\" target=\"_parent\"><img src=\"https://colab.research.google.com/assets/colab-badge.svg\" alt=\"Open In Colab\"/></a>"
      ]
    },
    {
      "cell_type": "code",
      "metadata": {
        "id": "O25kfR0GtRmG"
      },
      "source": [
        "import matplotlib.pyplot as plt\n",
        "import numpy as np\n"
      ],
      "execution_count": 65,
      "outputs": []
    },
    {
      "cell_type": "code",
      "metadata": {
        "id": "jjj7Ua_EknmS"
      },
      "source": [
        "from tkinter import *"
      ],
      "execution_count": 9,
      "outputs": []
    },
    {
      "cell_type": "code",
      "metadata": {
        "id": "7zMD9i2wkvNV"
      },
      "source": [
        "from tkinter import messagebox as mb"
      ],
      "execution_count": 10,
      "outputs": []
    },
    {
      "cell_type": "code",
      "metadata": {
        "id": "zLkPg4f_kzNY"
      },
      "source": [
        "import json"
      ],
      "execution_count": 11,
      "outputs": []
    },
    {
      "cell_type": "code",
      "metadata": {
        "id": "UYmB1f4pkzVH"
      },
      "source": [
        "class Quiz:\n",
        "    # This is the first method which is called when a\n",
        "    # new object of the class is initialized. This method\n",
        "    # sets the question count to 0. and initialize all the\n",
        "    # other methoods to display the content and make all the\n",
        "    # functionalities available\n",
        "    def __init__(self):\n",
        "      # set question number to 0\n",
        "        self.q_no=0\n",
        "          \n",
        "        # assigns ques to the display_question function to update later.\n",
        "        self.display_title()\n",
        "        self.display_question()\n",
        "          \n",
        "        # opt_selected holds an integer value which is used for\n",
        "        # selected option in a question.\n",
        "        self.opt_selected=IntVar()\n",
        "          \n",
        "        # displaying radio button for the current question and used to\n",
        "        # display options for the current question\n",
        "        self.opts=self.radio_buttons()\n",
        "          \n",
        "        # display options for the current question\n",
        "        self.display_options()\n",
        "          \n",
        "        # displays the button for next and exit.\n",
        "        self.buttons()\n",
        "          \n",
        "        # no of questions\n",
        "        self.data_size=len(question)\n",
        "          \n",
        "        # keep a counter of correct answers\n",
        "        self.correct=0"
      ],
      "execution_count": 13,
      "outputs": []
    },
    {
      "cell_type": "code",
      "metadata": {
        "id": "96ZsaoaclPx6"
      },
      "source": [
        "def display_result(self):\n",
        "          \n",
        "        # calculates the wrong count\n",
        "        wrong_count = self.data_size - self.correct\n",
        "        correct = f\"Correct: {self.correct}\"\n",
        "        wrong = f\"Wrong: {wrong_count}\"\n",
        "          \n",
        "        # calcultaes the percentage of correct answers\n",
        "        score = int(self.correct / self.data_size * 100)\n",
        "        result = f\"Score: {score}%\"\n",
        "          \n",
        "        # Shows a message box to display the result\n",
        "        mb.showinfo(\"Result\", f\"{result}\\n{correct}\\n{wrong}\")\n",
        "  "
      ],
      "execution_count": 14,
      "outputs": []
    },
    {
      "cell_type": "code",
      "metadata": {
        "id": "1yectJINlV_S"
      },
      "source": [
        " def check_ans(self, q_no):\n",
        "          \n",
        "        # checks for if the selected option is correct\n",
        "        if self.opt_selected.get() == answer[q_no]:\n",
        "            # if the option is correct it return true\n",
        "            return True"
      ],
      "execution_count": 15,
      "outputs": []
    },
    {
      "cell_type": "code",
      "metadata": {
        "id": "7Ej9_JsFljSZ"
      },
      "source": [
        " def next_btn(self):\n",
        "          \n",
        "        # Check if the answer is correct\n",
        "        if self.check_ans(self.q_no):\n",
        "              \n",
        "            # if the answer is correct it increments the correct by 1\n",
        "            self.correct += 1\n",
        "          \n",
        "        # Moves to next Question by incrementing the q_no counter\n",
        "        self.q_no += 1\n",
        "        # checks if the q_no size is equal to the data size\n",
        "        if self.q_no==self.data_size:\n",
        "              \n",
        "            # if it is correct then it displays the score\n",
        "            self.display_result()\n",
        "              \n",
        "            # destroys the GUI\n",
        "            gui.destroy()\n",
        "        else:\n",
        "            # shows the next question\n",
        "            self.display_question()\n",
        "            self.display_options()\n",
        "           "
      ],
      "execution_count": 30,
      "outputs": []
    },
    {
      "cell_type": "code",
      "metadata": {
        "id": "JqUIkVL6m7ht"
      },
      "source": [
        "def buttons(self):\n",
        "    next_button = Button(gui, text=\"Next\",command=self.next_btn,\n",
        "        width=10,bg=\"blue\",fg=\"white\",font=(\"ariel\",16,\"bold\"))\n",
        "    next_button.place(x=350,y=380)\n",
        "    quit_button = Button(gui, text=\"Quit\", command=gui.destroy,\n",
        "        width=5,bg=\"black\", fg=\"white\",font=(\"ariel\",16,\" bold\"))\n",
        "    quit_button.place(x=700,y=50)"
      ],
      "execution_count": 45,
      "outputs": []
    },
    {
      "cell_type": "code",
      "metadata": {
        "id": "xLT6CdKgngNq"
      },
      "source": [
        "def display_options(self):\n",
        "        val=0\n",
        "        self.opt_selected.set(0)\n",
        "        for option in options[self.q_no]:\n",
        "            self.opts[val]['text']=option\n",
        "            val+=1"
      ],
      "execution_count": 46,
      "outputs": []
    },
    {
      "cell_type": "code",
      "metadata": {
        "id": "FawxdtaXnQl2"
      },
      "source": [
        " def display_question(self):\n",
        "     q_no = Label(gui, text=question[self.q_no], width=60,\n",
        "     font=( 'ariel' ,16, 'bold' ), anchor= 'w' )\n",
        "     q_no.place(x=70, y=100)"
      ],
      "execution_count": 48,
      "outputs": []
    },
    {
      "cell_type": "code",
      "metadata": {
        "id": "Eah9-brYpM4-"
      },
      "source": [
        " def display_title(self):\n",
        "        title = Label(gui, text=\"GeeksforGeeks QUIZ\",\n",
        "        width=50, bg=\"green\",fg=\"white\", font=(\"ariel\", 20, \"bold\"))\n",
        "        title.place(x=0, y=2)"
      ],
      "execution_count": 49,
      "outputs": []
    },
    {
      "cell_type": "code",
      "metadata": {
        "id": "FrtT2UZNpePv"
      },
      "source": [
        " def radio_buttons(self):\n",
        "     q_list = []\n",
        "     y_pos = 150\n",
        "     while len(q_list) < 4:\n",
        "         radio_btn = Radiobutton(gui,text=\" \",variable=self.opt_selected,\n",
        "         value = len(q_list)+1,font = (\"ariel\",14))\n",
        "         q_list.append(radio_btn)\n",
        "         radio_btn.place(x = 100, y = y_pos)\n",
        "         y_pos += 40\n",
        "     return q_list\n",
        "     gui = Tk()\n",
        "     gui.geometry(\"800x450\")\n",
        "     gui.title(\"GeeksforGeeks Quiz\")\n",
        "     with open('data.json') as f:\n",
        "        data = json.load(f)\n",
        "     question = (data['question'])\n",
        "     options = (data['options'])\n",
        "     answer = (data[ 'answer'])\n",
        "     quiz = Quiz()\n",
        "     gui.mainloop()"
      ],
      "execution_count": 66,
      "outputs": []
    }
  ]
}